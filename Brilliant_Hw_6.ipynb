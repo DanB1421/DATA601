{
  "cells": [
    {
      "cell_type": "markdown",
      "metadata": {
        "id": "view-in-github",
        "colab_type": "text"
      },
      "source": [
        "<a href=\"https://colab.research.google.com/github/DanB1421/DATA601/blob/main/Brilliant_Hw_6.ipynb\" target=\"_parent\"><img src=\"https://colab.research.google.com/assets/colab-badge.svg\" alt=\"Open In Colab\"/></a>"
      ]
    },
    {
      "cell_type": "markdown",
      "id": "39d86313",
      "metadata": {
        "id": "39d86313"
      },
      "source": [
        "## DATA 601 - Fall 2022\n",
        "### Homework Assignment 6\n",
        "Total points : (30 + 10)<br>\n",
        " Please provide your solutions into the cells provided after question cells. You can create new cells as needed. <br>"
      ]
    },
    {
      "cell_type": "code",
      "execution_count": null,
      "id": "54b44aed",
      "metadata": {
        "id": "54b44aed"
      },
      "outputs": [],
      "source": [
        "import numpy as np\n",
        "import pandas as pd"
      ]
    },
    {
      "cell_type": "markdown",
      "id": "ad050ce9",
      "metadata": {
        "id": "ad050ce9"
      },
      "source": [
        "The data from the <code>Fish.csv</code> looks like this"
      ]
    },
    {
      "cell_type": "code",
      "execution_count": null,
      "id": "ecd724c7",
      "metadata": {
        "colab": {
          "base_uri": "https://localhost:8080/",
          "height": 206
        },
        "id": "ecd724c7",
        "outputId": "d8e6da02-9d54-4245-de6a-5e73a77f883f"
      },
      "outputs": [
        {
          "output_type": "execute_result",
          "data": {
            "text/plain": [
              "  Species  Weight  Length1  Length2  Length3   Height   Width\n",
              "0   Bream   242.0     23.2     25.4     30.0  11.5200  4.0200\n",
              "1   Bream   290.0     24.0     26.3     31.2  12.4800  4.3056\n",
              "2   Bream   340.0     23.9     26.5     31.1  12.3778  4.6961\n",
              "3   Bream   363.0     26.3     29.0     33.5  12.7300  4.4555\n",
              "4   Bream   430.0     26.5     29.0     34.0  12.4440  5.1340"
            ],
            "text/html": [
              "\n",
              "  <div id=\"df-ca604b2d-238e-41b4-938d-8487c31e066b\">\n",
              "    <div class=\"colab-df-container\">\n",
              "      <div>\n",
              "<style scoped>\n",
              "    .dataframe tbody tr th:only-of-type {\n",
              "        vertical-align: middle;\n",
              "    }\n",
              "\n",
              "    .dataframe tbody tr th {\n",
              "        vertical-align: top;\n",
              "    }\n",
              "\n",
              "    .dataframe thead th {\n",
              "        text-align: right;\n",
              "    }\n",
              "</style>\n",
              "<table border=\"1\" class=\"dataframe\">\n",
              "  <thead>\n",
              "    <tr style=\"text-align: right;\">\n",
              "      <th></th>\n",
              "      <th>Species</th>\n",
              "      <th>Weight</th>\n",
              "      <th>Length1</th>\n",
              "      <th>Length2</th>\n",
              "      <th>Length3</th>\n",
              "      <th>Height</th>\n",
              "      <th>Width</th>\n",
              "    </tr>\n",
              "  </thead>\n",
              "  <tbody>\n",
              "    <tr>\n",
              "      <th>0</th>\n",
              "      <td>Bream</td>\n",
              "      <td>242.0</td>\n",
              "      <td>23.2</td>\n",
              "      <td>25.4</td>\n",
              "      <td>30.0</td>\n",
              "      <td>11.5200</td>\n",
              "      <td>4.0200</td>\n",
              "    </tr>\n",
              "    <tr>\n",
              "      <th>1</th>\n",
              "      <td>Bream</td>\n",
              "      <td>290.0</td>\n",
              "      <td>24.0</td>\n",
              "      <td>26.3</td>\n",
              "      <td>31.2</td>\n",
              "      <td>12.4800</td>\n",
              "      <td>4.3056</td>\n",
              "    </tr>\n",
              "    <tr>\n",
              "      <th>2</th>\n",
              "      <td>Bream</td>\n",
              "      <td>340.0</td>\n",
              "      <td>23.9</td>\n",
              "      <td>26.5</td>\n",
              "      <td>31.1</td>\n",
              "      <td>12.3778</td>\n",
              "      <td>4.6961</td>\n",
              "    </tr>\n",
              "    <tr>\n",
              "      <th>3</th>\n",
              "      <td>Bream</td>\n",
              "      <td>363.0</td>\n",
              "      <td>26.3</td>\n",
              "      <td>29.0</td>\n",
              "      <td>33.5</td>\n",
              "      <td>12.7300</td>\n",
              "      <td>4.4555</td>\n",
              "    </tr>\n",
              "    <tr>\n",
              "      <th>4</th>\n",
              "      <td>Bream</td>\n",
              "      <td>430.0</td>\n",
              "      <td>26.5</td>\n",
              "      <td>29.0</td>\n",
              "      <td>34.0</td>\n",
              "      <td>12.4440</td>\n",
              "      <td>5.1340</td>\n",
              "    </tr>\n",
              "  </tbody>\n",
              "</table>\n",
              "</div>\n",
              "      <button class=\"colab-df-convert\" onclick=\"convertToInteractive('df-ca604b2d-238e-41b4-938d-8487c31e066b')\"\n",
              "              title=\"Convert this dataframe to an interactive table.\"\n",
              "              style=\"display:none;\">\n",
              "        \n",
              "  <svg xmlns=\"http://www.w3.org/2000/svg\" height=\"24px\"viewBox=\"0 0 24 24\"\n",
              "       width=\"24px\">\n",
              "    <path d=\"M0 0h24v24H0V0z\" fill=\"none\"/>\n",
              "    <path d=\"M18.56 5.44l.94 2.06.94-2.06 2.06-.94-2.06-.94-.94-2.06-.94 2.06-2.06.94zm-11 1L8.5 8.5l.94-2.06 2.06-.94-2.06-.94L8.5 2.5l-.94 2.06-2.06.94zm10 10l.94 2.06.94-2.06 2.06-.94-2.06-.94-.94-2.06-.94 2.06-2.06.94z\"/><path d=\"M17.41 7.96l-1.37-1.37c-.4-.4-.92-.59-1.43-.59-.52 0-1.04.2-1.43.59L10.3 9.45l-7.72 7.72c-.78.78-.78 2.05 0 2.83L4 21.41c.39.39.9.59 1.41.59.51 0 1.02-.2 1.41-.59l7.78-7.78 2.81-2.81c.8-.78.8-2.07 0-2.86zM5.41 20L4 18.59l7.72-7.72 1.47 1.35L5.41 20z\"/>\n",
              "  </svg>\n",
              "      </button>\n",
              "      \n",
              "  <style>\n",
              "    .colab-df-container {\n",
              "      display:flex;\n",
              "      flex-wrap:wrap;\n",
              "      gap: 12px;\n",
              "    }\n",
              "\n",
              "    .colab-df-convert {\n",
              "      background-color: #E8F0FE;\n",
              "      border: none;\n",
              "      border-radius: 50%;\n",
              "      cursor: pointer;\n",
              "      display: none;\n",
              "      fill: #1967D2;\n",
              "      height: 32px;\n",
              "      padding: 0 0 0 0;\n",
              "      width: 32px;\n",
              "    }\n",
              "\n",
              "    .colab-df-convert:hover {\n",
              "      background-color: #E2EBFA;\n",
              "      box-shadow: 0px 1px 2px rgba(60, 64, 67, 0.3), 0px 1px 3px 1px rgba(60, 64, 67, 0.15);\n",
              "      fill: #174EA6;\n",
              "    }\n",
              "\n",
              "    [theme=dark] .colab-df-convert {\n",
              "      background-color: #3B4455;\n",
              "      fill: #D2E3FC;\n",
              "    }\n",
              "\n",
              "    [theme=dark] .colab-df-convert:hover {\n",
              "      background-color: #434B5C;\n",
              "      box-shadow: 0px 1px 3px 1px rgba(0, 0, 0, 0.15);\n",
              "      filter: drop-shadow(0px 1px 2px rgba(0, 0, 0, 0.3));\n",
              "      fill: #FFFFFF;\n",
              "    }\n",
              "  </style>\n",
              "\n",
              "      <script>\n",
              "        const buttonEl =\n",
              "          document.querySelector('#df-ca604b2d-238e-41b4-938d-8487c31e066b button.colab-df-convert');\n",
              "        buttonEl.style.display =\n",
              "          google.colab.kernel.accessAllowed ? 'block' : 'none';\n",
              "\n",
              "        async function convertToInteractive(key) {\n",
              "          const element = document.querySelector('#df-ca604b2d-238e-41b4-938d-8487c31e066b');\n",
              "          const dataTable =\n",
              "            await google.colab.kernel.invokeFunction('convertToInteractive',\n",
              "                                                     [key], {});\n",
              "          if (!dataTable) return;\n",
              "\n",
              "          const docLinkHtml = 'Like what you see? Visit the ' +\n",
              "            '<a target=\"_blank\" href=https://colab.research.google.com/notebooks/data_table.ipynb>data table notebook</a>'\n",
              "            + ' to learn more about interactive tables.';\n",
              "          element.innerHTML = '';\n",
              "          dataTable['output_type'] = 'display_data';\n",
              "          await google.colab.output.renderOutput(dataTable, element);\n",
              "          const docLink = document.createElement('div');\n",
              "          docLink.innerHTML = docLinkHtml;\n",
              "          element.appendChild(docLink);\n",
              "        }\n",
              "      </script>\n",
              "    </div>\n",
              "  </div>\n",
              "  "
            ]
          },
          "metadata": {},
          "execution_count": 17
        }
      ],
      "source": [
        "data = pd.read_csv('/content/Fish.csv')\n",
        "df = data.copy()\n",
        "#Removing outliers\n",
        "df = df.drop([142,143,144])\n",
        "df.head()"
      ]
    },
    {
      "cell_type": "markdown",
      "id": "abe70588",
      "metadata": {
        "id": "abe70588"
      },
      "source": [
        "The meaning of columns are as follows :\n",
        "* Species: Species name of fish\n",
        "* Weight: Weight of fish in gram\n",
        "* Length1: Vertical length in cm\n",
        "* Length2: Diagonal length in cm\n",
        "* Length3: Cross length in cm\n",
        "* Height: Height in cm\n",
        "* Width: Diagonal width in cm\n",
        "\n",
        "Our <b>dependent</b> variable is 'Weight'. <b>Independent</b> variables are 'species', 'length1', 'length2', 'height' and 'width'."
      ]
    },
    {
      "cell_type": "markdown",
      "id": "686b2190",
      "metadata": {
        "id": "686b2190"
      },
      "source": [
        "<b>Question 1</b> [<span style=\"color: red;\">10 points</span>]:<br>\n",
        "- Create a <code>X</code> and <code>y</code> from the Independent (excluding / ignoring 'species') and dependent variables respectively.\n",
        "- Do a train-test split of 80%-20% and create <code>X_train,y_train</code> and <code>X_test,y_test</code>. Print out all their shapes."
      ]
    },
    {
      "cell_type": "code",
      "execution_count": null,
      "id": "56b15cc6",
      "metadata": {
        "id": "56b15cc6"
      },
      "outputs": [],
      "source": [
        "#Your code goes here\n",
        "feature_cols = ['Length1', 'Length2', 'Height', 'Width']\n",
        "X = np.array(df[feature_cols])\n",
        "y = np.array(df.Weight)"
      ]
    },
    {
      "cell_type": "code",
      "source": [
        "from sklearn.model_selection import train_test_split\n",
        "X_train, X_test, y_train, y_test = train_test_split(X, y, test_size=0.20)\n",
        "print(\"X_train shape:\",X_train.shape)\n",
        "print(\"y_train shape:\",y_train.shape)\n",
        "print(\"X_test shape:\",X_test.shape)\n",
        "print(\"y_test shape:\",y_test.shape)"
      ],
      "metadata": {
        "colab": {
          "base_uri": "https://localhost:8080/"
        },
        "id": "MxU_oslg7Ltv",
        "outputId": "de240b37-f0af-4bdc-eebd-360f5f77c741"
      },
      "id": "MxU_oslg7Ltv",
      "execution_count": null,
      "outputs": [
        {
          "output_type": "stream",
          "name": "stdout",
          "text": [
            "X_train shape: (124, 4)\n",
            "y_train shape: (124,)\n",
            "X_test shape: (32, 4)\n",
            "y_test shape: (32,)\n"
          ]
        }
      ]
    },
    {
      "cell_type": "markdown",
      "id": "138ff408",
      "metadata": {
        "id": "138ff408"
      },
      "source": [
        "<b>Question 2</b> [<span style=\"color: red;\">10 points</span>]:<br>\n",
        "- Use linear regression from scikit learn to train (fit) on <code>X_train,y_train</code>\n",
        "- Show the intercept and coefficients from the fitted model\n",
        "- Use <code>X_test</code> to predict <code>y_pred_test</code>.\n",
        "- Calculate absolute and relative errors between <code>y_pred_test</code> and <code>y_test</code>"
      ]
    },
    {
      "cell_type": "code",
      "execution_count": null,
      "id": "ee8f3f62",
      "metadata": {
        "colab": {
          "base_uri": "https://localhost:8080/"
        },
        "id": "ee8f3f62",
        "outputId": "b5026f93-52a1-4449-85a4-ebf8114e9062"
      },
      "outputs": [
        {
          "output_type": "stream",
          "name": "stdout",
          "text": [
            "beta_0: -452.6674287013962\n",
            "beta_1, beta_2, beta_3: [ 67.7985764  -52.50261581  18.88964962  87.368229  ]\n",
            "Model score:  0.9020073010291588\n"
          ]
        }
      ],
      "source": [
        "#Your code goes here\n",
        "from sklearn.linear_model import LinearRegression\n",
        "model = LinearRegression(fit_intercept=True)\n",
        "\n",
        "model.fit(X_train, y_train)\n",
        "print(\"beta_0:\",model.intercept_)\n",
        "print(\"beta_1, beta_2, beta_3:\",model.coef_)\n",
        "print(\"Model score: \",model.score(X_train,y_train))"
      ]
    },
    {
      "cell_type": "code",
      "source": [
        "y_pred_test = model.predict(X_test)\n",
        "y_pred_test"
      ],
      "metadata": {
        "colab": {
          "base_uri": "https://localhost:8080/"
        },
        "id": "R2JYCCNf8mIv",
        "outputId": "4dfdf273-c3e3-4e9e-af83-33c2d0c6c100"
      },
      "id": "R2JYCCNf8mIv",
      "execution_count": null,
      "outputs": [
        {
          "output_type": "execute_result",
          "data": {
            "text/plain": [
              "array([ 200.4420413 ,  200.81549374,  178.91534681,  741.61356465,\n",
              "       -167.82102973,  222.52583851,  492.58366012,  530.08284664,\n",
              "        560.59525978,  -73.63983798,   88.86724428,  151.0739753 ,\n",
              "        369.98748757,  237.59520333,   96.56997614,  534.0257126 ,\n",
              "        417.79677786,  215.1696966 , -212.29402372, -164.3143382 ,\n",
              "        860.55226891,  405.59508294,  437.59365589,  133.70050979,\n",
              "        492.44951061,  348.28058144,  188.02336213,  603.68188426,\n",
              "        213.02623207,  197.7995417 ,  679.34734303,  279.16618397])"
            ]
          },
          "metadata": {},
          "execution_count": 36
        }
      ]
    },
    {
      "cell_type": "code",
      "source": [
        "y_pred_norm = np.linalg.norm(y_pred_test - y_test)\n",
        "print(\"The absolute error is:\", y_pred_norm)\n",
        "print(\"The relative error is:\", y_pred_norm/np.linalg.norm(y_test))"
      ],
      "metadata": {
        "colab": {
          "base_uri": "https://localhost:8080/"
        },
        "id": "fqOKPwsE8n9c",
        "outputId": "2d2af3d8-bfb8-49b6-c39e-fe87262c4e07"
      },
      "id": "fqOKPwsE8n9c",
      "execution_count": null,
      "outputs": [
        {
          "output_type": "stream",
          "name": "stdout",
          "text": [
            "The absolute error is: 522.6642785181331\n",
            "The relative error is: 0.2537268596282378\n"
          ]
        }
      ]
    },
    {
      "cell_type": "markdown",
      "id": "4d1a02e8",
      "metadata": {
        "id": "4d1a02e8"
      },
      "source": [
        "<b>Question 3</b> [<span style=\"color: red;\">10 points</span>]:<br>\n",
        "- Use polynomial basis function of degree 2 to train (fit) on <code>X_train,y_train</code>\n",
        "- Use <code>X_test</code> to predict <code>y_pred_test</code>.\n",
        "- Calculate absolute and relative errors between <code>y_pred_test</code> and <code>y_test</code>"
      ]
    },
    {
      "cell_type": "code",
      "execution_count": null,
      "id": "f34b71f4",
      "metadata": {
        "colab": {
          "base_uri": "https://localhost:8080/"
        },
        "id": "f34b71f4",
        "outputId": "2bd5b44d-5da2-4970-b573-2d1def036d8a"
      },
      "outputs": [
        {
          "output_type": "execute_result",
          "data": {
            "text/plain": [
              "0.9819049946979186"
            ]
          },
          "metadata": {},
          "execution_count": 38
        }
      ],
      "source": [
        "#Your code goes here\n",
        "from sklearn.preprocessing import PolynomialFeatures\n",
        "from sklearn.pipeline import make_pipeline\n",
        "poly_model = make_pipeline(PolynomialFeatures(2),LinearRegression())\n",
        "poly_model.fit(X_train,y_train)\n",
        "poly_model.score(X_train,y_train)"
      ]
    },
    {
      "cell_type": "code",
      "source": [
        "y_pred_test = poly_model.predict(X_test)\n",
        "y_pred_test"
      ],
      "metadata": {
        "colab": {
          "base_uri": "https://localhost:8080/"
        },
        "id": "d0d7oGUx9ZDC",
        "outputId": "5899bfaa-7e80-4ca7-a313-c6ea68d541bc"
      },
      "id": "d0d7oGUx9ZDC",
      "execution_count": null,
      "outputs": [
        {
          "output_type": "execute_result",
          "data": {
            "text/plain": [
              "array([ 134.59333397,  150.21001907,  123.91351439,  790.44674167,\n",
              "          8.03608311,  160.96325379,  435.19116559,  448.00579632,\n",
              "        511.50896456,   17.16726662,   85.78939366,  114.69692225,\n",
              "        272.64990944,  172.26599022,   83.24870441,  476.89668837,\n",
              "        324.95284816,  154.51216097,   13.81513581,    4.66250026,\n",
              "       1025.60621243,  322.39272733,  390.56982939,  111.37059127,\n",
              "        445.81624236,  267.92413412,  107.76231518,  573.31367029,\n",
              "        128.96382288,  141.94872949,  675.64339847,  193.79593659])"
            ]
          },
          "metadata": {},
          "execution_count": 39
        }
      ]
    },
    {
      "cell_type": "code",
      "source": [
        "y_pred_norm = np.linalg.norm(y_pred_test - y_test)\n",
        "print(\"The absolute error is:\", y_pred_norm)\n",
        "print(\"The relative error is:\", y_pred_norm/np.linalg.norm(y_test))"
      ],
      "metadata": {
        "colab": {
          "base_uri": "https://localhost:8080/"
        },
        "id": "Pzbo98GN_bme",
        "outputId": "1ecdf793-c3f1-447b-f7c7-1a9986c44629"
      },
      "id": "Pzbo98GN_bme",
      "execution_count": null,
      "outputs": [
        {
          "output_type": "stream",
          "name": "stdout",
          "text": [
            "The absolute error is: 176.27318965857586\n",
            "The relative error is: 0.08557164644105583\n"
          ]
        }
      ]
    },
    {
      "cell_type": "markdown",
      "id": "1716b7d4",
      "metadata": {
        "id": "1716b7d4"
      },
      "source": [
        "BONUS QUESTION : <b>Question 3(a)</b>[<span style=\"color: red;\">10 points</span>]:\n",
        "Do the same as Question 2, but without using <code>scikit-learn</code>. (Hint: check out <code>LR_example_II.ipynb</code>)"
      ]
    },
    {
      "cell_type": "code",
      "execution_count": null,
      "id": "98d164c6",
      "metadata": {
        "id": "98d164c6"
      },
      "outputs": [],
      "source": [
        "#Your code goes here"
      ]
    }
  ],
  "metadata": {
    "kernelspec": {
      "display_name": "fall22_601",
      "language": "python",
      "name": "fall22_601"
    },
    "language_info": {
      "codemirror_mode": {
        "name": "ipython",
        "version": 3
      },
      "file_extension": ".py",
      "mimetype": "text/x-python",
      "name": "python",
      "nbconvert_exporter": "python",
      "pygments_lexer": "ipython3",
      "version": "3.10.4"
    },
    "colab": {
      "provenance": [],
      "include_colab_link": true
    }
  },
  "nbformat": 4,
  "nbformat_minor": 5
}