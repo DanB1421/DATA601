{
  "cells": [
    {
      "cell_type": "markdown",
      "metadata": {
        "id": "view-in-github",
        "colab_type": "text"
      },
      "source": [
        "<a href=\"https://colab.research.google.com/github/DanB1421/DATA601/blob/main/Brilliant_Hw_5_.ipynb\" target=\"_parent\"><img src=\"https://colab.research.google.com/assets/colab-badge.svg\" alt=\"Open In Colab\"/></a>"
      ]
    },
    {
      "cell_type": "markdown",
      "id": "125b8b4a",
      "metadata": {
        "id": "125b8b4a"
      },
      "source": [
        "## DATA 601 - Fall 2022\n",
        "### Homework Assignment 5\n",
        "Total points : (30 + 10)<br>\n",
        " Please provide your solutions into the cells provided after question cells. You can create new cells as needed. <br>"
      ]
    },
    {
      "cell_type": "code",
      "execution_count": null,
      "id": "99a7ffcc",
      "metadata": {
        "id": "99a7ffcc"
      },
      "outputs": [],
      "source": [
        "import numpy as np\n",
        "import sympy as sp\n",
        "import matplotlib.pyplot as plt"
      ]
    },
    {
      "cell_type": "markdown",
      "id": "23c14acd",
      "metadata": {
        "id": "23c14acd"
      },
      "source": [
        "<b>Question 1</b> [<span style=\"color: red;\">10 points</span>]:<br>\n",
        "Consider the following line $y = x +1$ for a line segment s.t $x\\in [1,2]$"
      ]
    },
    {
      "cell_type": "code",
      "execution_count": null,
      "id": "618fb981",
      "metadata": {
        "colab": {
          "base_uri": "https://localhost:8080/",
          "height": 269
        },
        "id": "618fb981",
        "outputId": "c95e3104-18e2-4f21-9e41-f9113992ec71"
      },
      "outputs": [
        {
          "output_type": "display_data",
          "data": {
            "text/plain": [
              "<Figure size 288x288 with 1 Axes>"
            ],
            "image/png": "[encoded data removed]"
          },
          "metadata": {
            "needs_background": "light"
          }
        }
      ],
      "source": [
        "xy_orig = np.zeros([2,100]) # x is 0th row, y is 1st row\n",
        "xy_orig[0] = np.linspace(1,2,100)\n",
        "xy_orig[1] = (xy_orig[0] + 1)\n",
        "\n",
        "fig, ax = plt.subplots()\n",
        "ax.plot(xy_orig[0],xy_orig[1],color='b')\n",
        "\n",
        "ax.set_xlim(-4,4)\n",
        "ax.set_ylim(-4,4)\n",
        "\n",
        "fig.set_size_inches(4, 4)\n",
        "plt.show()"
      ]
    },
    {
      "cell_type": "markdown",
      "id": "d8e0e433",
      "metadata": {
        "id": "d8e0e433"
      },
      "source": [
        "Now with the $A$ defined below, Do the following:\n",
        "- Use the matrix $A$ to transfrom the line segment in <code>xy_orig</code> and plot a plot (use the same settings for <code>matplotlib</code> as above).\n",
        "- Then, Calculate the Singular Value Decomposition (svd) $A=U\\Sigma V^H$\n",
        "- Use the matrices from SVD to plot a step-by-step transformation starting from <code>xy_orig</code>, plot after each transformation (Hint : apply $V^H$ first, then $\\Sigma$ and so forth)\n",
        "- Compare the final transformation from applying SVD to the transformation using $A$\n",
        "(Hint : use <code>SVD_example.ipynb</code> for guidance."
      ]
    },
    {
      "cell_type": "code",
      "execution_count": null,
      "id": "32112e91",
      "metadata": {
        "id": "32112e91"
      },
      "outputs": [],
      "source": [
        "A = np.array([[ 0.8660254, -1.5],[ 2.5, -0.8660254]])\n",
        "xy = np.zeros([2,100])"
      ]
    },
    {
      "cell_type": "code",
      "execution_count": null,
      "id": "2e8d5663",
      "metadata": {
        "colab": {
          "base_uri": "https://localhost:8080/",
          "height": 269
        },
        "id": "2e8d5663",
        "outputId": "2469a6f9-a604-422d-afc9-f73e39246c7b"
      },
      "outputs": [
        {
          "output_type": "display_data",
          "data": {
            "text/plain": [
              "<Figure size 288x288 with 1 Axes>"
            ],
            "image/png": "[encoded data removed]"
          },
          "metadata": {
            "needs_background": "light"
          }
        }
      ],
      "source": [
        "#Your answer goes below\n",
        "for i in range(xy_orig.shape[1]):\n",
        "    xy[:,i] = np.matmul(A,xy_orig[:,i]) # transforms xy by multiplying the A matrix by each point within the range of xy_orig\n",
        "\n",
        "fig, ax = plt.subplots()\n",
        "ax.plot(xy[0],xy[1],color='b')\n",
        "\n",
        "ax.set_xlim(-4,4)\n",
        "ax.set_ylim(-4,4)\n",
        "\n",
        "fig.set_size_inches(4, 4)\n",
        "plt.show() # plots the transformed line segment with the same parameters as the original"
      ]
    },
    {
      "cell_type": "code",
      "source": [
        "U, s, Vh = np.linalg.svd(A) # performs SVD operation\n",
        "S = np.diag(s) # converts S component of SVD to diagonal matrix"
      ],
      "metadata": {
        "id": "eQhXtgg3aGpb"
      },
      "id": "eQhXtgg3aGpb",
      "execution_count": null,
      "outputs": []
    },
    {
      "cell_type": "code",
      "source": [
        "Arecon = np.matmul(np.matmul(U,S),Vh) # calculates the reconstructed A matrix from the SVD\n",
        "np.linalg.norm(A - Arecon) # shows the norm of the difference between the original A matrix and the reconstructed A matrix (very little difference)"
      ],
      "metadata": {
        "colab": {
          "base_uri": "https://localhost:8080/"
        },
        "id": "nHl8qj_BafZZ",
        "outputId": "f13368a2-6d0a-40a2-b42e-04474145cd99"
      },
      "id": "nHl8qj_BafZZ",
      "execution_count": null,
      "outputs": [
        {
          "output_type": "execute_result",
          "data": {
            "text/plain": [
              "4.002966042486721e-16"
            ]
          },
          "metadata": {},
          "execution_count": 6
        }
      ]
    },
    {
      "cell_type": "code",
      "source": [
        "xy = np.zeros([2,100]) # re-initializes xy to the original form\n",
        "\n",
        "for i in range(xy_orig.shape[1]):\n",
        "    xy[:,i] = np.matmul(Vh,xy_orig[:,i]) # performs the first step of SVD by transforming xy with the Vh matrix\n",
        "\n",
        "fig, ax = plt.subplots()\n",
        "ax.plot(xy[0],xy[1],color='b')\n",
        "\n",
        "ax.set_xlim(-4,4)\n",
        "ax.set_ylim(-4,4)\n",
        "\n",
        "fig.set_size_inches(4, 4)\n",
        "plt.show() # plots the transformed line segment with the same parameters as the original"
      ],
      "metadata": {
        "colab": {
          "base_uri": "https://localhost:8080/",
          "height": 269
        },
        "id": "-o5bXWAJa9zN",
        "outputId": "b043ba84-d3cf-465a-d99b-580608f4c55f"
      },
      "id": "-o5bXWAJa9zN",
      "execution_count": null,
      "outputs": [
        {
          "output_type": "display_data",
          "data": {
            "text/plain": [
              "<Figure size 288x288 with 1 Axes>"
            ],
            "image/png": "[encoded data removed]"
          },
          "metadata": {
            "needs_background": "light"
          }
        }
      ]
    },
    {
      "cell_type": "code",
      "source": [
        "for i in range(xy_orig.shape[1]):\n",
        "    xy[:,i] = np.matmul(S,xy[:,i]) # performs the second step of SVD by transforming the Vh-applied xy with the S matrix\n",
        "\n",
        "fig, ax = plt.subplots()\n",
        "ax.plot(xy[0],xy[1],color='b')\n",
        "\n",
        "ax.set_xlim(-4,4)\n",
        "ax.set_ylim(-4,4)\n",
        "\n",
        "fig.set_size_inches(4, 4)\n",
        "plt.show() # plots the transformed line segment with the same parameters as the original"
      ],
      "metadata": {
        "colab": {
          "base_uri": "https://localhost:8080/",
          "height": 269
        },
        "id": "OUCoJ4E_bRsO",
        "outputId": "85697eb2-bd61-4f01-f4bc-de331ad9c4c3"
      },
      "id": "OUCoJ4E_bRsO",
      "execution_count": null,
      "outputs": [
        {
          "output_type": "display_data",
          "data": {
            "text/plain": [
              "<Figure size 288x288 with 1 Axes>"
            ],
            "image/png": "[encoded data removed]"
          },
          "metadata": {
            "needs_background": "light"
          }
        }
      ]
    },
    {
      "cell_type": "code",
      "source": [
        "for i in range(xy_orig.shape[1]):\n",
        "    xy[:,i] = np.matmul(U,xy[:,i]) # performs the third and final step of SVD by transforming the Vh and S-applied xy with the U matrix\n",
        "\n",
        "fig, ax = plt.subplots()\n",
        "ax.plot(xy[0],xy[1],color='b')\n",
        "\n",
        "ax.set_xlim(-4,4)\n",
        "ax.set_ylim(-4,4)\n",
        "\n",
        "fig.set_size_inches(4, 4)\n",
        "plt.show() # plots the transformed line segment with the same parameters as the original"
      ],
      "metadata": {
        "colab": {
          "base_uri": "https://localhost:8080/",
          "height": 269
        },
        "id": "yewGxB-NbmFB",
        "outputId": "85dc0e5b-bb6e-4357-c021-ceec88d2ebbe"
      },
      "id": "yewGxB-NbmFB",
      "execution_count": null,
      "outputs": [
        {
          "output_type": "display_data",
          "data": {
            "text/plain": [
              "<Figure size 288x288 with 1 Axes>"
            ],
            "image/png": "[encoded data removed]"
          },
          "metadata": {
            "needs_background": "light"
          }
        }
      ]
    },
    {
      "cell_type": "markdown",
      "source": [
        "Here is the original transformed line segment to compare to the SVD-transformed line segment:"
      ],
      "metadata": {
        "id": "awCtMx1eM9P7"
      },
      "id": "awCtMx1eM9P7"
    },
    {
      "cell_type": "code",
      "source": [
        "xy = np.zeros([2,100])\n",
        "\n",
        "for i in range(xy_orig.shape[1]):\n",
        "    xy[:,i] = np.matmul(A,xy_orig[:,i])\n",
        "\n",
        "fig, ax = plt.subplots()\n",
        "ax.plot(xy[0],xy[1],color='b')\n",
        "\n",
        "ax.set_xlim(-4,4)\n",
        "ax.set_ylim(-4,4)\n",
        "\n",
        "fig.set_size_inches(4, 4)\n",
        "plt.show()"
      ],
      "metadata": {
        "colab": {
          "base_uri": "https://localhost:8080/",
          "height": 269
        },
        "id": "j9unmY6FceO8",
        "outputId": "079b3990-ab37-44cb-9e72-39a763f1476f"
      },
      "id": "j9unmY6FceO8",
      "execution_count": null,
      "outputs": [
        {
          "output_type": "display_data",
          "data": {
            "text/plain": [
              "<Figure size 288x288 with 1 Axes>"
            ],
            "image/png": "[encoded data removed]"
          },
          "metadata": {
            "needs_background": "light"
          }
        }
      ]
    },
    {
      "cell_type": "markdown",
      "source": [
        "By comparison, the SVD step-by-step transformation produces a virtually identical plot to the original transformation."
      ],
      "metadata": {
        "id": "A5d5r5osddpj"
      },
      "id": "A5d5r5osddpj"
    },
    {
      "cell_type": "markdown",
      "id": "8f6d2a58",
      "metadata": {
        "id": "8f6d2a58"
      },
      "source": [
        "---\n",
        "A real symmetric matrix that has the following special property:\n",
        "\n",
        "$A = Q \\Lambda Q^{T}$\n",
        "also,\n",
        "\n",
        "$A^{-1} = Q \\Lambda^{-1} Q^{T} $<br>\n",
        "Where $Q$ is the matrix of eigenvectors (column vectors) of $A$ and $\\Lambda$ is the diagonal matrix of corresponding eigenvalues.\n",
        "\n",
        "<b>Question 2</b> [<span style=\"color: red;\">10 points</span>]: You need to load <code>symmetric_A.npy</code> as matrix $A$.You will also need to load <code>b.npy</code> as $b$. You need to solve for $x$ such that $Ax = b$ <b>without</b> using either <code>np.linalg.inv</code> or <code>np.linalg.solve</code> anywhere in your solution.\n",
        "\n",
        "(Hint : the inverse of a diagonal matrix is a diagonal matrix with entries that are the reciprocal of the original values (1/val).\n",
        "\n",
        "Finally calculate the absolute error $\\|Ax - b\\|_2$ and relative error $\\frac{\\|Ax - b\\|_2}{\\|b\\|_2}$. The absolute value should be less than $<10^{-9}$ at least."
      ]
    },
    {
      "cell_type": "code",
      "execution_count": null,
      "id": "1bef617a",
      "metadata": {
        "id": "1bef617a"
      },
      "outputs": [],
      "source": [
        "#Your answer goes below\n",
        "A = np.load('/content/symmetric_A.npy') # loads symmetric_A.npy file\n",
        "b = np.load('/content/b.npy') # loads b.npy file"
      ]
    },
    {
      "cell_type": "code",
      "source": [
        "lambda1, Q = np.linalg.eig(A) # finds the eigenvalues (lambda1) and eigenvectors (Q) of matrix A\n",
        "\n",
        "lambda1_inv = 1/(lambda1) # finds the inverse of the eigenvalues of matrix A\n",
        "lambda1_inv_diag = np.diag(lambda1_inv) # creates a diagonal matrix containing the inverse of the eigenvalues of matrix A\n",
        "\n",
        "Ainv = np.matmul(np.matmul(Q, lambda1_inv_diag), Q.T) # finds the inverse of A by multiplying the eigenvector matrix (Q) by the inverse of the diagonal eigenvalue matrix (lambda1_inv_diag) and the transpose of the eigenvector matrix (Q.T)\n",
        "\n",
        "x = np.matmul(Ainv, b) # solves for x by multiplying the inverse of A by b\n",
        "print(\"The solution is:\",x) # prints the x solution matrix\n",
        "print(\"Absolute error:\", np.linalg.norm(A@x - b)) # finds the absolute error of the solution\n",
        "print(\"Relative error:\", np.linalg.norm(A@x - b)/np.linalg.norm(b)) # finds the relative error of the solution"
      ],
      "metadata": {
        "colab": {
          "base_uri": "https://localhost:8080/"
        },
        "id": "3zBGjso9itfW",
        "outputId": "cece37a5-7845-4cb2-b017-c0cf5977b9fd"
      },
      "id": "3zBGjso9itfW",
      "execution_count": null,
      "outputs": [
        {
          "output_type": "stream",
          "name": "stdout",
          "text": [
            "The solution is: [0.94345419 0.83047431 0.64153339 0.8175818  0.84570266 0.21761469\n",
            " 0.00209291 0.18230806]\n",
            "Absolute error: 5.3290705182007514e-14\n",
            "Relative error: 4.2623952304705767e-16\n"
          ]
        }
      ]
    },
    {
      "cell_type": "markdown",
      "id": "7cbc6901",
      "metadata": {
        "id": "7cbc6901"
      },
      "source": [
        "<b>Question 3</b> [<span style=\"color: red;\">10 points</span>]: Calculate the Gradient $\\nabla f(x,y,z)$ for the following function\n",
        "$f(x,y,z) = x^3y^2z + x^2yz^2 + xy^3z$.\n",
        "After which subsitute $x=2, y=3$ and $z=4$ in the Gradient."
      ]
    },
    {
      "cell_type": "code",
      "execution_count": null,
      "id": "c3fa0daf",
      "metadata": {
        "id": "c3fa0daf"
      },
      "outputs": [],
      "source": [
        "#Your answer goes below4\n",
        "x, y, z = sp.symbols('x y z') # stores x, y, and z as symbols to be used in a function\n",
        "f = (x**3 * y**2 * z) + (x**2 * y * z**2) + (x * y**3 * z) # stores the desired function in variable f\n",
        "dfdx = sp.diff(f, x) # finds the partial derivative of the stored function with respect to x and stores in variable dfdx\n",
        "dfdy = sp.diff(f, y) # finds the partial derivative of the stored function with respect to y and stores in variable dfdy\n",
        "dfdz = sp.diff(f, z) # finds the partial derivative of the stored function with respect to z and stores in variable dfdz"
      ]
    },
    {
      "cell_type": "code",
      "source": [
        "gradient = sp.zeros(3,1) # creates a 3 x 1 sympy matrix where the gradient will be stored\n",
        "gradient[0] = dfdx # stores dfdx in the first row of the gradient\n",
        "gradient[1] = dfdy # stores dfdy in the second row of the gradient\n",
        "gradient[2] = dfdz # stores dfdz in the third row of the gradient\n",
        "gradient # produces the gradient with symbolic solutions to the partial derivatives"
      ],
      "metadata": {
        "colab": {
          "base_uri": "https://localhost:8080/",
          "height": 78
        },
        "id": "ndLqZ9i6vr9x",
        "outputId": "f6362d8b-40e4-4a4d-c084-463375262b59"
      },
      "id": "ndLqZ9i6vr9x",
      "execution_count": null,
      "outputs": [
        {
          "output_type": "execute_result",
          "data": {
            "text/plain": [
              "Matrix([\n",
              "[3*x**2*y**2*z + 2*x*y*z**2 + y**3*z],\n",
              "[2*x**3*y*z + x**2*z**2 + 3*x*y**2*z],\n",
              "[    x**3*y**2 + 2*x**2*y*z + x*y**3]])"
            ],
            "text/latex": "$\\displaystyle \\left[\\begin{matrix}3 x^{2} y^{2} z + 2 x y z^{2} + y^{3} z\\\\2 x^{3} y z + x^{2} z^{2} + 3 x y^{2} z\\\\x^{3} y^{2} + 2 x^{2} y z + x y^{3}\\end{matrix}\\right]$"
          },
          "metadata": {},
          "execution_count": 14
        }
      ]
    },
    {
      "cell_type": "code",
      "source": [
        "gradient.subs([(x, 2),(y, 3),(z,4)]) # substitutes x = 2, y = 3, and z = 4 into the partial derivatives of the gradient and solves for each"
      ],
      "metadata": {
        "colab": {
          "base_uri": "https://localhost:8080/",
          "height": 78
        },
        "id": "KUJbkGJ6wQIX",
        "outputId": "6fe67905-65f8-42ee-f61c-b9392ba72201"
      },
      "id": "KUJbkGJ6wQIX",
      "execution_count": null,
      "outputs": [
        {
          "output_type": "execute_result",
          "data": {
            "text/plain": [
              "Matrix([\n",
              "[732],\n",
              "[472],\n",
              "[222]])"
            ],
            "text/latex": "$\\displaystyle \\left[\\begin{matrix}732\\\\472\\\\222\\end{matrix}\\right]$"
          },
          "metadata": {},
          "execution_count": 15
        }
      ]
    },
    {
      "cell_type": "markdown",
      "id": "83a74ea1",
      "metadata": {
        "id": "83a74ea1"
      },
      "source": [
        "BONUS QUESTION : <b>Question 3(a)</b>[<span style=\"color: red;\">10 points</span>]: Calculate the Hessian matrix for the function $f(x,y,z)$ in Q3 and substitute with $x=2, y=3$ and $z=4$"
      ]
    },
    {
      "cell_type": "code",
      "execution_count": null,
      "id": "2661afde",
      "metadata": {
        "id": "2661afde"
      },
      "outputs": [],
      "source": [
        "#Your answer goes below\n",
        "d2fdx2 = sp.diff(f, x, x) # finds the second partial derivative of the stored function with respect to x and x and stores in variable d2fdx2\n",
        "d2fdxdy = sp.diff(f, x, y) # finds the second partial derivative of the stored function with respect to x and y and stores in variable d2fdxdy\n",
        "d2fdxdz = sp.diff(f, x, z) # finds the second partial derivative of the stored function with respect to x and z and stores in variable d2fdxdz\n",
        "d2fdydx = sp.diff(f, y, x) # finds the second partial derivative of the stored function with respect to y and x and stores in variable d2fdydx\n",
        "d2fdy2 = sp.diff(f, y, y) # finds the second partial derivative of the stored function with respect to y and y and stores in variable d2fdy2\n",
        "d2fdydz = sp.diff(f, y, z) # finds the second partial derivative of the stored function with respect to y and z and stores in variable d2fdydz\n",
        "d2fdzdx = sp.diff(f, z, x) # finds the second partial derivative of the stored function with respect to z and x and stores in variable d2fdzdx\n",
        "d2fdzdy = sp.diff(f, z, y) # finds the second partial derivative of the stored function with respect to z and y and stores in variable d2fdzdy\n",
        "d2fdz2 = sp.diff(f, z, z) # finds the second partial derivative of the stored function with respect to z and z and stores in variable d2fdz2"
      ]
    },
    {
      "cell_type": "code",
      "source": [
        "hessian = sp.zeros(3,3) # creates a 3 x 3 sympy matrix where the hessian matrix will be stored\n",
        "hessian[0] = d2fdx2 # stores d2fdx2 in the first row and first column of the hessian matrix\n",
        "hessian[1] = d2fdxdy # stores d2fdxdy in the first row and second column of the hessian matrix\n",
        "hessian[2] = d2fdxdz # stores d2fdxdz in the first row and third column of the hessian matrix\n",
        "hessian[3] = d2fdydx # stores d2fdydx in the second row and first column of the hessian matrix\n",
        "hessian[4] = d2fdy2 # stores d2fdy2 in the second row and second column of the hessian matrix\n",
        "hessian[5] = d2fdydz # stores d2fdydz in the second row and third column of the hessian matrix\n",
        "hessian[6] = d2fdzdx # stores d2fdzdx in the third row and first column of the hessian matrix\n",
        "hessian[7] = d2fdzdy # stores d2fdzdy in the third row and second column of the hessian matrix\n",
        "hessian[8] = d2fdz2 # stores d2fdz2 in the third row and third column of the hessian matrix\n",
        "hessian # produces the hessian matrix with symbolic solutions to the second partial derivatives"
      ],
      "metadata": {
        "colab": {
          "base_uri": "https://localhost:8080/",
          "height": 78
        },
        "id": "LtyJpi1lylZF",
        "outputId": "555a60a0-04a4-4fe5-93b9-3ae62362b90e"
      },
      "id": "LtyJpi1lylZF",
      "execution_count": null,
      "outputs": [
        {
          "output_type": "execute_result",
          "data": {
            "text/plain": [
              "Matrix([\n",
              "[            2*y*z*(3*x*y + z), z*(6*x**2*y + 2*x*z + 3*y**2),   y*(3*x**2*y + 4*x*z + y**2)],\n",
              "[z*(6*x**2*y + 2*x*z + 3*y**2),            2*x*z*(x**2 + 3*y), x*(2*x**2*y + 2*x*z + 3*y**2)],\n",
              "[  y*(3*x**2*y + 4*x*z + y**2), x*(2*x**2*y + 2*x*z + 3*y**2),                      2*x**2*y]])"
            ],
            "text/latex": "$\\displaystyle \\left[\\begin{matrix}2 y z \\left(3 x y + z\\right) & z \\left(6 x^{2} y + 2 x z + 3 y^{2}\\right) & y \\left(3 x^{2} y + 4 x z + y^{2}\\right)\\\\z \\left(6 x^{2} y + 2 x z + 3 y^{2}\\right) & 2 x z \\left(x^{2} + 3 y\\right) & x \\left(2 x^{2} y + 2 x z + 3 y^{2}\\right)\\\\y \\left(3 x^{2} y + 4 x z + y^{2}\\right) & x \\left(2 x^{2} y + 2 x z + 3 y^{2}\\right) & 2 x^{2} y\\end{matrix}\\right]$"
          },
          "metadata": {},
          "execution_count": 17
        }
      ]
    },
    {
      "cell_type": "code",
      "source": [
        "hessian.subs([(x, 2),(y, 3),(z,4)]) # substitutes x = 2, y = 3, and z = 4 into the second partial derivatives of the hessian matrix and solves for each"
      ],
      "metadata": {
        "colab": {
          "base_uri": "https://localhost:8080/",
          "height": 78
        },
        "id": "iWDt8VDmzX47",
        "outputId": "e5db1efa-f888-45ff-c855-a14b27dcc543"
      },
      "id": "iWDt8VDmzX47",
      "execution_count": null,
      "outputs": [
        {
          "output_type": "execute_result",
          "data": {
            "text/plain": [
              "Matrix([\n",
              "[528, 460, 231],\n",
              "[460, 208, 134],\n",
              "[231, 134,  24]])"
            ],
            "text/latex": "$\\displaystyle \\left[\\begin{matrix}528 & 460 & 231\\\\460 & 208 & 134\\\\231 & 134 & 24\\end{matrix}\\right]$"
          },
          "metadata": {},
          "execution_count": 18
        }
      ]
    }
  ],
  "metadata": {
    "kernelspec": {
      "display_name": "fall22_601",
      "language": "python",
      "name": "fall22_601"
    },
    "language_info": {
      "codemirror_mode": {
        "name": "ipython",
        "version": 3
      },
      "file_extension": ".py",
      "mimetype": "text/x-python",
      "name": "python",
      "nbconvert_exporter": "python",
      "pygments_lexer": "ipython3",
      "version": "3.10.4"
    },
    "colab": {
      "provenance": [],
      "include_colab_link": true
    }
  },
  "nbformat": 4,
  "nbformat_minor": 5
}
