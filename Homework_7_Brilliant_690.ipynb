{
  "nbformat": 4,
  "nbformat_minor": 0,
  "metadata": {
    "colab": {
      "provenance": [],
      "authorship_tag": "ABX9TyOMSbAFzA9/49YAOdvJBZS/",
      "include_colab_link": true
    },
    "kernelspec": {
      "name": "python3",
      "display_name": "Python 3"
    },
    "language_info": {
      "name": "python"
    }
  },
  "cells": [
    {
      "cell_type": "markdown",
      "metadata": {
        "id": "view-in-github",
        "colab_type": "text"
      },
      "source": [
        "<a href=\"https://colab.research.google.com/github/DanB1421/DATA601/blob/main/Homework_7_Brilliant_690.ipynb\" target=\"_parent\"><img src=\"https://colab.research.google.com/assets/colab-badge.svg\" alt=\"Open In Colab\"/></a>"
      ]
    },
    {
      "cell_type": "markdown",
      "source": [
        "# Exercise 1"
      ],
      "metadata": {
        "id": "H0Qjt3vraAsA"
      }
    },
    {
      "cell_type": "code",
      "execution_count": 1,
      "metadata": {
        "colab": {
          "base_uri": "https://localhost:8080/"
        },
        "id": "3k13R3UFZ3dy",
        "outputId": "e3cd7c01-5eeb-46d9-f1e2-37dd46834e80"
      },
      "outputs": [
        {
          "output_type": "stream",
          "name": "stderr",
          "text": [
            "[nltk_data] Downloading package movie_reviews to /root/nltk_data...\n",
            "[nltk_data]   Unzipping corpora/movie_reviews.zip.\n",
            "[nltk_data] Downloading package punkt to /root/nltk_data...\n",
            "[nltk_data]   Unzipping tokenizers/punkt.zip.\n"
          ]
        }
      ],
      "source": [
        "import nltk\n",
        "nltk.download('movie_reviews')\n",
        "nltk.download('punkt')\n",
        "from textblob.sentiments import NaiveBayesAnalyzer\n",
        "from textblob import TextBlob\n",
        "from os import path"
      ]
    },
    {
      "cell_type": "code",
      "source": [
        "ObjRead = open(\"/content/Burbank.txt\", \"r\")\n",
        "txtContent = ObjRead.read();\n",
        "ObjRead.close()"
      ],
      "metadata": {
        "id": "viV1R5MRaXq8"
      },
      "execution_count": 3,
      "outputs": []
    },
    {
      "cell_type": "code",
      "source": [
        "blob = TextBlob(txtContent, analyzer=NaiveBayesAnalyzer())\n",
        "blob.sentiment"
      ],
      "metadata": {
        "id": "hDhsTdudlEc3",
        "colab": {
          "base_uri": "https://localhost:8080/"
        },
        "outputId": "a84932ca-ddf5-4138-ffed-5d79dedf33cb"
      },
      "execution_count": 5,
      "outputs": [
        {
          "output_type": "execute_result",
          "data": {
            "text/plain": [
              "Sentiment(classification='pos', p_pos=1.0, p_neg=1.0487590501191368e-20)"
            ]
          },
          "metadata": {},
          "execution_count": 5
        }
      ]
    },
    {
      "cell_type": "markdown",
      "source": [
        "The probability that the Burbank text is going to negative is about 0%"
      ],
      "metadata": {
        "id": "z0Fkvr-jdBmj"
      }
    },
    {
      "cell_type": "markdown",
      "source": [
        "# Exercise 2"
      ],
      "metadata": {
        "id": "7JKnEzJydPmD"
      }
    },
    {
      "cell_type": "code",
      "source": [
        "testimonial = TextBlob(txtContent)\n",
        "testimonial.sentiment"
      ],
      "metadata": {
        "colab": {
          "base_uri": "https://localhost:8080/"
        },
        "id": "dQx9xCNBdSUY",
        "outputId": "802b7887-e5aa-42bc-d1e3-b2f0a257c234"
      },
      "execution_count": 6,
      "outputs": [
        {
          "output_type": "execute_result",
          "data": {
            "text/plain": [
              "Sentiment(polarity=0.09869334480780263, subjectivity=0.3790877796901893)"
            ]
          },
          "metadata": {},
          "execution_count": 6
        }
      ]
    },
    {
      "cell_type": "markdown",
      "source": [
        "The overall sentiment of the Burbank text is positive, and the text is about 37.9% subjective."
      ],
      "metadata": {
        "id": "Pik5pXlxfiYP"
      }
    },
    {
      "cell_type": "markdown",
      "source": [
        "# Exercise 3"
      ],
      "metadata": {
        "id": "Nqax2OZIgHQe"
      }
    },
    {
      "cell_type": "code",
      "source": [
        "import nltk\n",
        "nltk.download('averaged_perceptron_tagger')\n",
        "nltk.download('wordnet')\n",
        "import random\n",
        "from textblob import Word\n",
        "from textblob import TextBlob\n",
        "from os import path"
      ],
      "metadata": {
        "colab": {
          "base_uri": "https://localhost:8080/"
        },
        "id": "UXAwTlpVgJ8Z",
        "outputId": "9f148676-c119-4b27-b3c3-5471157b7b8b"
      },
      "execution_count": 8,
      "outputs": [
        {
          "output_type": "stream",
          "name": "stderr",
          "text": [
            "[nltk_data] Downloading package averaged_perceptron_tagger to\n",
            "[nltk_data]     /root/nltk_data...\n",
            "[nltk_data]   Package averaged_perceptron_tagger is already up-to-\n",
            "[nltk_data]       date!\n",
            "[nltk_data] Downloading package wordnet to /root/nltk_data...\n",
            "[nltk_data]   Package wordnet is already up-to-date!\n"
          ]
        }
      ]
    },
    {
      "cell_type": "code",
      "source": [
        "ObjRead = open(\"/content/Burbank.txt\", \"r\")\n",
        "txtContent = ObjRead.read();\n",
        "ObjRead.close()\n",
        "testimonial = TextBlob(txtContent)"
      ],
      "metadata": {
        "id": "uJnzC4Y0HFLb"
      },
      "execution_count": 9,
      "outputs": []
    },
    {
      "cell_type": "code",
      "source": [
        "nouns = []\n",
        "for word, tag in testimonial.tags:\n",
        "    if tag == 'NN':\n",
        "        nouns.append(word.lemmatize())"
      ],
      "metadata": {
        "id": "lV78nSAeHYT-"
      },
      "execution_count": 10,
      "outputs": []
    },
    {
      "cell_type": "code",
      "source": [
        "print(\"This text is about...\")\n",
        "for item in random.sample(nouns, 10):\n",
        "    word = Word(item)\n",
        "    print(word)"
      ],
      "metadata": {
        "colab": {
          "base_uri": "https://localhost:8080/"
        },
        "id": "sI0idfwVHvyL",
        "outputId": "7ec6b078-0162-44cd-b84a-74602f4e002f"
      },
      "execution_count": 12,
      "outputs": [
        {
          "output_type": "stream",
          "name": "stdout",
          "text": [
            "This text is about...\n",
            "firm\n",
            "argue\n",
            "shift\n",
            "traffic\n",
            "wider\n",
            "issue\n",
            "northbound\n",
            "traffic\n",
            "north\n",
            "meeting\n"
          ]
        }
      ]
    },
    {
      "cell_type": "markdown",
      "source": [
        "# Exercise 4"
      ],
      "metadata": {
        "id": "Y0FdRC5gq0e9"
      }
    },
    {
      "cell_type": "code",
      "source": [
        "import pandas as pd\n",
        "import spacy\n",
        "import numpy as np\n",
        "import sklearn as sk\n",
        "import matplotlib.pyplot as plt\n",
        "import seaborn as sns"
      ],
      "metadata": {
        "id": "K-3hH524q3Am"
      },
      "execution_count": 24,
      "outputs": []
    },
    {
      "cell_type": "code",
      "source": [
        "data_amazon = pd.read_table('/content/amazon_cells_labelled.txt')\n",
        "data_imdb = pd.read_table('/content/imdb_labelled.txt')\n",
        "data_yelp = pd.read_table('/content/yelp_labelled.txt')\n",
        "combined_col = [data_amazon, data_imdb, data_yelp]"
      ],
      "metadata": {
        "id": "hMz4SKearj8a"
      },
      "execution_count": 25,
      "outputs": []
    },
    {
      "cell_type": "code",
      "source": [
        "print(data_amazon.columns)"
      ],
      "metadata": {
        "colab": {
          "base_uri": "https://localhost:8080/"
        },
        "id": "KeeD2COlImL2",
        "outputId": "314acf80-85cf-4266-9305-c7041afbf382"
      },
      "execution_count": 26,
      "outputs": [
        {
          "output_type": "stream",
          "name": "stdout",
          "text": [
            "Index(['So there is no way for me to plug it in here in the US unless I go by a converter.', '0'], dtype='object')\n"
          ]
        }
      ]
    },
    {
      "cell_type": "code",
      "source": [
        "for colname in combined_col:\n",
        "    colname.columns = [\"Review\",\"Label\"]\n",
        "for colname in combined_col:\n",
        "    print(colname.columns)"
      ],
      "metadata": {
        "colab": {
          "base_uri": "https://localhost:8080/"
        },
        "id": "OQxZNv5hJOLn",
        "outputId": "25c8e536-af19-43bd-e243-9347117a8381"
      },
      "execution_count": 27,
      "outputs": [
        {
          "output_type": "stream",
          "name": "stdout",
          "text": [
            "Index(['Review', 'Label'], dtype='object')\n",
            "Index(['Review', 'Label'], dtype='object')\n",
            "Index(['Review', 'Label'], dtype='object')\n"
          ]
        }
      ]
    },
    {
      "cell_type": "code",
      "source": [
        "company = [ \"Amazon\", \"imdb\", \"yelp\"]\n",
        "comb_data = pd.concat(combined_col,keys = company)\n",
        "print(comb_data.shape)\n",
        "comb_data.head()"
      ],
      "metadata": {
        "colab": {
          "base_uri": "https://localhost:8080/",
          "height": 223
        },
        "id": "spRsuMstJVYs",
        "outputId": "fd590c1e-f99d-4d33-83ce-5e0fbd777c14"
      },
      "execution_count": 28,
      "outputs": [
        {
          "output_type": "stream",
          "name": "stdout",
          "text": [
            "(2745, 2)\n"
          ]
        },
        {
          "output_type": "execute_result",
          "data": {
            "text/plain": [
              "                                                     Review  Label\n",
              "Amazon 0                        Good case, Excellent value.      1\n",
              "       1                             Great for the jawbone.      1\n",
              "       2  Tied to charger for conversations lasting more...      0\n",
              "       3                                  The mic is great.      1\n",
              "       4  I have to jiggle the plug to get it to line up...      0"
            ],
            "text/html": [
              "\n",
              "  <div id=\"df-b5171947-4c6c-4f46-9b90-bc758fb4f6a3\" class=\"colab-df-container\">\n",
              "    <div>\n",
              "<style scoped>\n",
              "    .dataframe tbody tr th:only-of-type {\n",
              "        vertical-align: middle;\n",
              "    }\n",
              "\n",
              "    .dataframe tbody tr th {\n",
              "        vertical-align: top;\n",
              "    }\n",
              "\n",
              "    .dataframe thead th {\n",
              "        text-align: right;\n",
              "    }\n",
              "</style>\n",
              "<table border=\"1\" class=\"dataframe\">\n",
              "  <thead>\n",
              "    <tr style=\"text-align: right;\">\n",
              "      <th></th>\n",
              "      <th></th>\n",
              "      <th>Review</th>\n",
              "      <th>Label</th>\n",
              "    </tr>\n",
              "  </thead>\n",
              "  <tbody>\n",
              "    <tr>\n",
              "      <th rowspan=\"5\" valign=\"top\">Amazon</th>\n",
              "      <th>0</th>\n",
              "      <td>Good case, Excellent value.</td>\n",
              "      <td>1</td>\n",
              "    </tr>\n",
              "    <tr>\n",
              "      <th>1</th>\n",
              "      <td>Great for the jawbone.</td>\n",
              "      <td>1</td>\n",
              "    </tr>\n",
              "    <tr>\n",
              "      <th>2</th>\n",
              "      <td>Tied to charger for conversations lasting more...</td>\n",
              "      <td>0</td>\n",
              "    </tr>\n",
              "    <tr>\n",
              "      <th>3</th>\n",
              "      <td>The mic is great.</td>\n",
              "      <td>1</td>\n",
              "    </tr>\n",
              "    <tr>\n",
              "      <th>4</th>\n",
              "      <td>I have to jiggle the plug to get it to line up...</td>\n",
              "      <td>0</td>\n",
              "    </tr>\n",
              "  </tbody>\n",
              "</table>\n",
              "</div>\n",
              "    <div class=\"colab-df-buttons\">\n",
              "\n",
              "  <div class=\"colab-df-container\">\n",
              "    <button class=\"colab-df-convert\" onclick=\"convertToInteractive('df-b5171947-4c6c-4f46-9b90-bc758fb4f6a3')\"\n",
              "            title=\"Convert this dataframe to an interactive table.\"\n",
              "            style=\"display:none;\">\n",
              "\n",
              "  <svg xmlns=\"http://www.w3.org/2000/svg\" height=\"24px\" viewBox=\"0 -960 960 960\">\n",
              "    <path d=\"M120-120v-720h720v720H120Zm60-500h600v-160H180v160Zm220 220h160v-160H400v160Zm0 220h160v-160H400v160ZM180-400h160v-160H180v160Zm440 0h160v-160H620v160ZM180-180h160v-160H180v160Zm440 0h160v-160H620v160Z\"/>\n",
              "  </svg>\n",
              "    </button>\n",
              "\n",
              "  <style>\n",
              "    .colab-df-container {\n",
              "      display:flex;\n",
              "      gap: 12px;\n",
              "    }\n",
              "\n",
              "    .colab-df-convert {\n",
              "      background-color: #E8F0FE;\n",
              "      border: none;\n",
              "      border-radius: 50%;\n",
              "      cursor: pointer;\n",
              "      display: none;\n",
              "      fill: #1967D2;\n",
              "      height: 32px;\n",
              "      padding: 0 0 0 0;\n",
              "      width: 32px;\n",
              "    }\n",
              "\n",
              "    .colab-df-convert:hover {\n",
              "      background-color: #E2EBFA;\n",
              "      box-shadow: 0px 1px 2px rgba(60, 64, 67, 0.3), 0px 1px 3px 1px rgba(60, 64, 67, 0.15);\n",
              "      fill: #174EA6;\n",
              "    }\n",
              "\n",
              "    .colab-df-buttons div {\n",
              "      margin-bottom: 4px;\n",
              "    }\n",
              "\n",
              "    [theme=dark] .colab-df-convert {\n",
              "      background-color: #3B4455;\n",
              "      fill: #D2E3FC;\n",
              "    }\n",
              "\n",
              "    [theme=dark] .colab-df-convert:hover {\n",
              "      background-color: #434B5C;\n",
              "      box-shadow: 0px 1px 3px 1px rgba(0, 0, 0, 0.15);\n",
              "      filter: drop-shadow(0px 1px 2px rgba(0, 0, 0, 0.3));\n",
              "      fill: #FFFFFF;\n",
              "    }\n",
              "  </style>\n",
              "\n",
              "    <script>\n",
              "      const buttonEl =\n",
              "        document.querySelector('#df-b5171947-4c6c-4f46-9b90-bc758fb4f6a3 button.colab-df-convert');\n",
              "      buttonEl.style.display =\n",
              "        google.colab.kernel.accessAllowed ? 'block' : 'none';\n",
              "\n",
              "      async function convertToInteractive(key) {\n",
              "        const element = document.querySelector('#df-b5171947-4c6c-4f46-9b90-bc758fb4f6a3');\n",
              "        const dataTable =\n",
              "          await google.colab.kernel.invokeFunction('convertToInteractive',\n",
              "                                                    [key], {});\n",
              "        if (!dataTable) return;\n",
              "\n",
              "        const docLinkHtml = 'Like what you see? Visit the ' +\n",
              "          '<a target=\"_blank\" href=https://colab.research.google.com/notebooks/data_table.ipynb>data table notebook</a>'\n",
              "          + ' to learn more about interactive tables.';\n",
              "        element.innerHTML = '';\n",
              "        dataTable['output_type'] = 'display_data';\n",
              "        await google.colab.output.renderOutput(dataTable, element);\n",
              "        const docLink = document.createElement('div');\n",
              "        docLink.innerHTML = docLinkHtml;\n",
              "        element.appendChild(docLink);\n",
              "      }\n",
              "    </script>\n",
              "  </div>\n",
              "\n",
              "\n",
              "<div id=\"df-82dfe80a-4352-4a62-aea7-d99cce0c6050\">\n",
              "  <button class=\"colab-df-quickchart\" onclick=\"quickchart('df-82dfe80a-4352-4a62-aea7-d99cce0c6050')\"\n",
              "            title=\"Suggest charts.\"\n",
              "            style=\"display:none;\">\n",
              "\n",
              "<svg xmlns=\"http://www.w3.org/2000/svg\" height=\"24px\"viewBox=\"0 0 24 24\"\n",
              "     width=\"24px\">\n",
              "    <g>\n",
              "        <path d=\"M19 3H5c-1.1 0-2 .9-2 2v14c0 1.1.9 2 2 2h14c1.1 0 2-.9 2-2V5c0-1.1-.9-2-2-2zM9 17H7v-7h2v7zm4 0h-2V7h2v10zm4 0h-2v-4h2v4z\"/>\n",
              "    </g>\n",
              "</svg>\n",
              "  </button>\n",
              "\n",
              "<style>\n",
              "  .colab-df-quickchart {\n",
              "      --bg-color: #E8F0FE;\n",
              "      --fill-color: #1967D2;\n",
              "      --hover-bg-color: #E2EBFA;\n",
              "      --hover-fill-color: #174EA6;\n",
              "      --disabled-fill-color: #AAA;\n",
              "      --disabled-bg-color: #DDD;\n",
              "  }\n",
              "\n",
              "  [theme=dark] .colab-df-quickchart {\n",
              "      --bg-color: #3B4455;\n",
              "      --fill-color: #D2E3FC;\n",
              "      --hover-bg-color: #434B5C;\n",
              "      --hover-fill-color: #FFFFFF;\n",
              "      --disabled-bg-color: #3B4455;\n",
              "      --disabled-fill-color: #666;\n",
              "  }\n",
              "\n",
              "  .colab-df-quickchart {\n",
              "    background-color: var(--bg-color);\n",
              "    border: none;\n",
              "    border-radius: 50%;\n",
              "    cursor: pointer;\n",
              "    display: none;\n",
              "    fill: var(--fill-color);\n",
              "    height: 32px;\n",
              "    padding: 0;\n",
              "    width: 32px;\n",
              "  }\n",
              "\n",
              "  .colab-df-quickchart:hover {\n",
              "    background-color: var(--hover-bg-color);\n",
              "    box-shadow: 0 1px 2px rgba(60, 64, 67, 0.3), 0 1px 3px 1px rgba(60, 64, 67, 0.15);\n",
              "    fill: var(--button-hover-fill-color);\n",
              "  }\n",
              "\n",
              "  .colab-df-quickchart-complete:disabled,\n",
              "  .colab-df-quickchart-complete:disabled:hover {\n",
              "    background-color: var(--disabled-bg-color);\n",
              "    fill: var(--disabled-fill-color);\n",
              "    box-shadow: none;\n",
              "  }\n",
              "\n",
              "  .colab-df-spinner {\n",
              "    border: 2px solid var(--fill-color);\n",
              "    border-color: transparent;\n",
              "    border-bottom-color: var(--fill-color);\n",
              "    animation:\n",
              "      spin 1s steps(1) infinite;\n",
              "  }\n",
              "\n",
              "  @keyframes spin {\n",
              "    0% {\n",
              "      border-color: transparent;\n",
              "      border-bottom-color: var(--fill-color);\n",
              "      border-left-color: var(--fill-color);\n",
              "    }\n",
              "    20% {\n",
              "      border-color: transparent;\n",
              "      border-left-color: var(--fill-color);\n",
              "      border-top-color: var(--fill-color);\n",
              "    }\n",
              "    30% {\n",
              "      border-color: transparent;\n",
              "      border-left-color: var(--fill-color);\n",
              "      border-top-color: var(--fill-color);\n",
              "      border-right-color: var(--fill-color);\n",
              "    }\n",
              "    40% {\n",
              "      border-color: transparent;\n",
              "      border-right-color: var(--fill-color);\n",
              "      border-top-color: var(--fill-color);\n",
              "    }\n",
              "    60% {\n",
              "      border-color: transparent;\n",
              "      border-right-color: var(--fill-color);\n",
              "    }\n",
              "    80% {\n",
              "      border-color: transparent;\n",
              "      border-right-color: var(--fill-color);\n",
              "      border-bottom-color: var(--fill-color);\n",
              "    }\n",
              "    90% {\n",
              "      border-color: transparent;\n",
              "      border-bottom-color: var(--fill-color);\n",
              "    }\n",
              "  }\n",
              "</style>\n",
              "\n",
              "  <script>\n",
              "    async function quickchart(key) {\n",
              "      const quickchartButtonEl =\n",
              "        document.querySelector('#' + key + ' button');\n",
              "      quickchartButtonEl.disabled = true;  // To prevent multiple clicks.\n",
              "      quickchartButtonEl.classList.add('colab-df-spinner');\n",
              "      try {\n",
              "        const charts = await google.colab.kernel.invokeFunction(\n",
              "            'suggestCharts', [key], {});\n",
              "      } catch (error) {\n",
              "        console.error('Error during call to suggestCharts:', error);\n",
              "      }\n",
              "      quickchartButtonEl.classList.remove('colab-df-spinner');\n",
              "      quickchartButtonEl.classList.add('colab-df-quickchart-complete');\n",
              "    }\n",
              "    (() => {\n",
              "      let quickchartButtonEl =\n",
              "        document.querySelector('#df-82dfe80a-4352-4a62-aea7-d99cce0c6050 button');\n",
              "      quickchartButtonEl.style.display =\n",
              "        google.colab.kernel.accessAllowed ? 'block' : 'none';\n",
              "    })();\n",
              "  </script>\n",
              "</div>\n",
              "    </div>\n",
              "  </div>\n"
            ]
          },
          "metadata": {},
          "execution_count": 28
        }
      ]
    },
    {
      "cell_type": "code",
      "source": [
        "comb_data.to_csv(\"Sentiment_Analysis_Dataset\")"
      ],
      "metadata": {
        "id": "2YzGrKIfJ_1K"
      },
      "execution_count": 33,
      "outputs": []
    },
    {
      "cell_type": "code",
      "source": [
        "print(comb_data.columns)\n",
        "print(comb_data.isnull().sum())"
      ],
      "metadata": {
        "colab": {
          "base_uri": "https://localhost:8080/"
        },
        "id": "DyaV2RSBKA9X",
        "outputId": "3c8ccad3-b249-47bb-e2d6-defca8bb7dea"
      },
      "execution_count": 35,
      "outputs": [
        {
          "output_type": "stream",
          "name": "stdout",
          "text": [
            "Index(['Review', 'Label'], dtype='object')\n",
            "Review    0\n",
            "Label     0\n",
            "dtype: int64\n"
          ]
        }
      ]
    },
    {
      "cell_type": "code",
      "source": [
        "import en_core_web_sm\n",
        "from spacy.lang.en.stop_words import STOP_WORDS\n",
        "nlp = en_core_web_sm.load()\n",
        "stopwords = list(STOP_WORDS)\n",
        "print(stopwords)"
      ],
      "metadata": {
        "colab": {
          "base_uri": "https://localhost:8080/"
        },
        "id": "os7JKDHgKJMh",
        "outputId": "5048052b-5cbb-403e-e7be-b87e65c854f0"
      },
      "execution_count": 38,
      "outputs": [
        {
          "output_type": "stream",
          "name": "stdout",
          "text": [
            "['he', 'whom', 'therefore', 'i', 'next', 'also', 'seemed', 'whether', 'whoever', 'nine', 'should', 'itself', 'bottom', '’d', 'for', 'still', \"'ll\", '‘ll', 'my', 'own', 'her', 'beforehand', 'just', '‘ve', 'around', 'go', 'former', 'rather', 'anyhow', 'a', 'thereafter', 'yours', 'onto', 'anyway', 'down', 'further', 'part', '’re', 'moreover', 'became', 'as', 'will', 'how', 'others', 'behind', 'seem', 'serious', 'forty', '‘s', 'name', 'those', 'thereupon', 'to', 'front', 'everywhere', 'except', 'nevertheless', 'the', 'whither', '’ve', 'six', 'whence', 'nowhere', 'without', 'yourselves', 'never', \"'re\", 'therein', 'give', 'always', 'yourself', 'eleven', 'else', 'was', 'at', 'seeming', \"'s\", 'eight', 'us', 'most', 'become', 'yet', 'herein', 'make', 'per', 'whatever', 'mostly', 'n‘t', 'move', 'due', 'done', 'few', 'hereafter', 'being', 'last', 'thence', 'must', 'already', 'hereupon', 'in', 'from', 'regarding', '‘m', 'someone', 'of', 'any', 'himself', 'into', 'wherein', 'out', 'very', 'elsewhere', 'with', 'much', 'each', 'almost', 'had', 'ca', 'another', 'empty', 'throughout', 'please', 'twenty', 'an', 'that', 'anywhere', 'whereupon', 'via', 'did', 'have', 'than', 'might', '’ll', 'somewhere', 'may', 'so', 'whole', 'they', 'wherever', 'mine', 'show', 'nor', 'sometimes', 'well', \"'d\", 'take', 'get', 'either', 'together', 'him', 'indeed', 'off', 'herself', 'same', 'whereby', 'these', 'such', 'who', 'above', 'although', 'fifty', 'whose', 'were', 'many', 'could', 'hers', 'which', 'because', 'though', 'everything', 'nobody', 'up', 'or', 'since', 'this', 'no', 'after', 'used', 'against', 'thru', 'somehow', 'but', 'them', 'been', 'both', 'has', '‘re', 'there', 'toward', 'really', 'every', 'even', 'beyond', 'call', 'unless', 'while', 'keep', 'our', 'three', 'afterwards', 'n’t', 'we', 'about', 'twelve', 'again', 'are', 'under', \"'ve\", 'latter', 'all', 'quite', 'thus', 'anything', 'hundred', 'everyone', 'however', 'four', 'back', 'amongst', 'and', 'besides', 'some', 'within', 'something', 'seems', 'over', '’s', 'why', 'your', 'whereas', 'during', 'its', 'only', 'until', 'whenever', 'towards', 'myself', 'be', 'hereby', 'side', 'it', 'neither', 'cannot', 'otherwise', 'his', 'two', 'fifteen', 'on', 'becoming', 'not', 'before', 'third', 'sometime', 'is', 'would', 'becomes', 'along', 'first', 'then', 'once', 'made', 'various', 'meanwhile', 'less', 'top', 'anyone', 'across', 'hence', 'five', 'when', 'here', 'least', 'full', 'perhaps', 'put', 'doing', 'several', 'enough', 'ours', 'am', 'between', 'thereby', 'too', 'through', 'see', 'amount', 'ourselves', 'what', 'themselves', 'you', 'can', 'using', 'if', '’m', 'by', 'below', 'where', \"'m\", 'do', 'latterly', 'nothing', 'formerly', 'one', 'ever', 'she', 'often', 'upon', 'alone', 'now', 'does', 'more', 'noone', 'other', 'none', 'whereafter', 'namely', 'sixty', 'beside', 'ten', 're', 'say', \"n't\", 'among', 'their', '‘d', 'me']\n"
          ]
        }
      ]
    },
    {
      "cell_type": "code",
      "source": [
        "import string\n",
        "punctuations = string.punctuation\n",
        "from spacy.lang.en import English\n",
        "parser = English()"
      ],
      "metadata": {
        "id": "GW5ptCBgKVlL"
      },
      "execution_count": 39,
      "outputs": []
    },
    {
      "cell_type": "code",
      "source": [
        "def my_tokenizer(sentence):\n",
        "    mytokens = parser(sentence)\n",
        "    mytokens = [word.lemma_.lower().strip() if word.lemma_ != \"-PRON-\" else word.lower_]\n",
        "    mytokens = [word for word in mytokens if word not in stopwords and word not in punctuations]\n",
        "    return mytokens"
      ],
      "metadata": {
        "id": "NiIOIEMsKbwk"
      },
      "execution_count": 40,
      "outputs": []
    },
    {
      "cell_type": "code",
      "source": [
        "from sklearn.feature_extraction.text import CountVectorizer,TfidfVectorizer\n",
        "from sklearn.metrics import accuracy_score\n",
        "from sklearn.base import TransformerMixin\n",
        "from sklearn.pipeline import Pipeline\n",
        "from sklearn.svm import LinearSVC"
      ],
      "metadata": {
        "id": "p_Ebb8j5LKm6"
      },
      "execution_count": 41,
      "outputs": []
    },
    {
      "cell_type": "code",
      "source": [
        "class predictors(TransformerMixin):\n",
        "    def transform(self, X, **transform_params):\n",
        "        return [clean_text(text) for text in X]\n",
        "    def fit(self, X, y, **fit_params):\n",
        "        return self\n",
        "    def get_params(self, deep=True):\n",
        "        return {}"
      ],
      "metadata": {
        "id": "It9BHidSLOh5"
      },
      "execution_count": 42,
      "outputs": []
    },
    {
      "cell_type": "code",
      "source": [
        "def clean_text(text):\n",
        "    return text.strip().lower()"
      ],
      "metadata": {
        "id": "r1sWtoQoLVWl"
      },
      "execution_count": 43,
      "outputs": []
    },
    {
      "cell_type": "code",
      "source": [
        "from spacy import tokenizer\n",
        "vectorizer = CountVectorizer(tokenizer = tokenizer, ngram_range=(1,1))\n",
        "classifier = LinearSVC()"
      ],
      "metadata": {
        "id": "8-5Nk-mdLYx9"
      },
      "execution_count": 44,
      "outputs": []
    },
    {
      "cell_type": "code",
      "source": [
        "tfvectorizer = TfidfVectorizer(tokenizer = tokenizer)"
      ],
      "metadata": {
        "id": "sTrvL7BwLbl4"
      },
      "execution_count": 45,
      "outputs": []
    },
    {
      "cell_type": "code",
      "source": [
        "from sklearn.model_selection import train_test_split\n",
        "X = comb_data['Review']\n",
        "ylabels = comb_data['Label']\n",
        "\n",
        "X_train, X_test, y_train, y_test = train_test_split(X, ylabels, test_size=0.2)"
      ],
      "metadata": {
        "id": "a6uozRcBLdvr"
      },
      "execution_count": 46,
      "outputs": []
    },
    {
      "cell_type": "code",
      "source": [
        "pipe_countvect = Pipeline([(\"cleaner\", predictors()),\n",
        "                 ('vectorizer', CountVectorizer()),\n",
        "                 ('classifier', LinearSVC())])\n",
        "\n",
        "pipe_countvect.fit(X_train,y_train)\n",
        "sample_prediction = pipe_countvect.predict(X_test)"
      ],
      "metadata": {
        "id": "QjFWEtesLqdT"
      },
      "execution_count": 47,
      "outputs": []
    },
    {
      "cell_type": "code",
      "source": [
        "for (sample,pred) in zip(X_test,sample_prediction):\n",
        "    print(sample,\"Prediction=>\",pred)\n",
        "print(\"Accuracy for the test dataset: \",pipe_countvect.score(X_test,y_test))\n",
        "print(\"Accuracy for the X_test/sample prediction: \",pipe_countvect.score(X_test,sample_prediction))"
      ],
      "metadata": {
        "colab": {
          "base_uri": "https://localhost:8080/"
        },
        "id": "KhUgoxNHL3me",
        "outputId": "11ec17c8-1ea5-4730-ae20-08fdcdb08dfe"
      },
      "execution_count": 49,
      "outputs": [
        {
          "output_type": "stream",
          "name": "stdout",
          "text": [
            "The update procedure is difficult and cumbersome. Prediction=> 0\n",
            "I liked the patio and the service was outstanding. Prediction=> 1\n",
            "Best headset ever!!!. Prediction=> 1\n",
            "Hell no will I go back Prediction=> 0\n",
            "I won't say any more - I don't like spoilers, so I don't want to be one, but I believe this film is worth your time.   Prediction=> 1\n",
            "The scenes with the \"oh-so-mature\" neighbour-girl are a misplace.   Prediction=> 1\n",
            "Delicious NYC bagels, good selections of cream cheese, real Lox with capers even. Prediction=> 1\n",
            "So in a nutshell: 1) The restaraunt smells like a combination of a dirty fish market and a sewer. Prediction=> 0\n",
            "Great service and food. Prediction=> 1\n",
            "It was that loud.Glad to say that the Plantronics 510 maintains a flawless connection to my cell and with no static during normal use. Prediction=> 0\n",
            "The cast is good.   Prediction=> 1\n",
            "Oh yeah, and the storyline was pathetic too.   Prediction=> 0\n",
            "I've also had problems with the phone reading the memory card in which I always turn it on and then off again. Prediction=> 0\n",
            "High-quality chicken on the chicken Caesar salad. Prediction=> 1\n",
            "Worst hour and a half of my life!Oh my gosh!   Prediction=> 0\n",
            "The film gives meaning to the phrase, \"Never in the history of human conflict has so much been owed by so many to so few.   Prediction=> 0\n",
            "Top line: Don't waste your time and money on this one, its as bad as it comes.   Prediction=> 0\n",
            "Which are small and not worth the price. Prediction=> 0\n",
            "I was disgusted because I was pretty sure that was human hair. Prediction=> 0\n",
            "Rip off---- Over charge shipping. Prediction=> 0\n",
            "Lobster Bisque, Bussell Sprouts, Risotto, Filet ALL needed salt and pepper..and of course there is none at the tables. Prediction=> 0\n",
            "Finally, after three or four times the spring of the latch broke and I could not use it any longer on the visor. Prediction=> 0\n",
            "Bad Reception. Prediction=> 0\n",
            "I knew when I saw the film that more great things were to come from this gifted actor.   Prediction=> 1\n",
            "Were JERKS on the phone. Prediction=> 1\n",
            "Considering the relations off screen between Taylor and Stanwyck, it was surprising how little chemistry there was on screen between the two of them.   Prediction=> 0\n",
            "There was a few pathetic attempts to give the characters some depth, but it didn't really work into the rest of the plot.   Prediction=> 0\n",
            "Gets a signal when other Verizon phones won't. Prediction=> 0\n",
            "WORST PHONE EVER. Prediction=> 0\n",
            "But it does get better reception and clarity than any phone I've had before. Prediction=> 1\n",
            "Soyo technology sucks. Prediction=> 0\n",
            "The price is reasonable and the service is great. Prediction=> 1\n",
            "Don't waste your money!. Prediction=> 0\n",
            "The chains, which I'm no fan of, beat this place easily. Prediction=> 0\n",
            "Good transmit audio. Prediction=> 1\n",
            "When I opened the sandwich, I was impressed, but not in a good way. Prediction=> 0\n",
            "It was either too cold, not enough flavor or just bad. Prediction=> 0\n",
            "Would recommend this item. Prediction=> 1\n",
            "awesome device. Prediction=> 1\n",
            "The ambience is wonderful and there is music playing. Prediction=> 1\n",
            "Avoid at all cost! Prediction=> 0\n",
            "Still, I do like this movie for it's empowerment of women; there's not enough movies out there like this one.   Prediction=> 0\n",
            "It's very attractive and appears to be of good quality. Prediction=> 1\n",
            "The best electronics of the available FM Transmitters. Prediction=> 1\n",
            "He deserves 5 stars. Prediction=> 0\n",
            "I used to talk on it for 1 - 1 1/2 hours and the battery would be literally drained and dying. Prediction=> 0\n",
            "The characters are fleshed out surprisingly well, particularly Grimes and Blake, and all the actors deliver their sharply scripted lines with just the right amount of deadpan tongue in cheek to make the dialogue both hilarious and realistic.   Prediction=> 1\n",
            "Jawbone Era is awesome too! Prediction=> 1\n",
            "I had to walk out of the theatre for a few minutes just to get some relief!   Prediction=> 0\n",
            "Initially the local sites in the film, which was filmed here in Buffalo, intrigued me.   Prediction=> 0\n",
            "An instant classic, with a great soundtrack and a catchy song during the ending credits.   Prediction=> 1\n",
            "Really awful.   Prediction=> 0\n",
            "About 30 minutes of footage is wasted to show mediocre elderly actors awkwardly babbling overwrought pseudo-Satanic gibberish corny enough to make a teen Goth blush, almost always in Olde English, and sometimes in Latin that may or may not be made up words.   Prediction=> 0\n",
            "The result is a film that just don't look right.   Prediction=> 0\n",
            "I ordered this product first and was unhappy with it immediately. Prediction=> 0\n",
            "Phone now holds charge like it did when it was new. Prediction=> 1\n",
            "As an earlier review noted, plug in this charger and nothing happens. Prediction=> 0\n",
            "It shouldn't take 30 min for pancakes and eggs. Prediction=> 0\n",
            "I usually don't like headbands but this one is very lightweight & doesn't mess up my hair. Prediction=> 0\n",
            "Because both ears are occupied, background is not distracting at all. Prediction=> 0\n",
            "I guess maybe we went on an off night but it was disgraceful. Prediction=> 0\n",
            "Today was my first taste of a Buldogis Gourmet Hot Dog and I have to tell you it was more than I ever thought possible. Prediction=> 0\n",
            "Unfortunately it's easy to accidentally activate them with the gentle-touch buttons if you accidentally touch the phone to your face while listening. Prediction=> 0\n",
            "It seems completely secure, both holding on to my belt, and keeping the iPhone inside. Prediction=> 1\n",
            "It would take too long to describe how bad my customer service experience has been with Amazon. Prediction=> 0\n",
            "This is was due to the fact that it took 20 minutes to be acknowledged, then another 35 minutes to get our food...and they kept forgetting things. Prediction=> 0\n",
            "Although I very much liked the look and sound of this place, the actual experience was a bit disappointing. Prediction=> 0\n",
            "Cinematography: The film was shot in an interesting way.   Prediction=> 1\n",
            "I'm not eating here! Prediction=> 0\n",
            "He came running after us when he realized my husband had left his sunglasses on the table. Prediction=> 0\n",
            "This movie is a pure disaster, the story is stupid and the editing is the worst I have seen, it confuses you incredibly.   Prediction=> 0\n",
            "Love this product. Prediction=> 1\n",
            "Their menu is diverse, and reasonably priced. Prediction=> 1\n",
            "Disappointment.. I hate anything that goes in my ear. Prediction=> 0\n",
            "The accompanied software is almost brilliant. Prediction=> 1\n",
            "Good Service-check! Prediction=> 1\n",
            "There is, however, some pretty good acting (at least, for this type of film).   Prediction=> 0\n",
            "Con: spotty service. Prediction=> 0\n",
            "disappointing. Prediction=> 0\n",
            "This phone works great. Prediction=> 1\n",
            "Fantastic earphones. Prediction=> 1\n",
            "The staff is always super friendly and helpful, which is especially cool when you bring two small boys and a baby! Prediction=> 1\n",
            "Bland... Not a liking this place for a number of reasons and I don't want to waste time on bad reviewing.. I'll leave it at that... Prediction=> 0\n",
            "Delicious and I will absolutely be back! Prediction=> 1\n",
            "I found this place by accident and I could not be happier. Prediction=> 0\n",
            "I won't try going back there even if it's empty. Prediction=> 0\n",
            "It is wonderful and inspiring to watch, and I hope that it gets released again on to video or DVD.   Prediction=> 1\n",
            "A usable keyboard actually turns a PDA into a real-world useful machine instead of just a neat gadget. Prediction=> 0\n",
            "Adapter does not provide enough charging current. Prediction=> 0\n",
            "Final Word: This Show is a real torture!!   Prediction=> 0\n",
            "Nice blanket of moz over top but i feel like this was done to cover up the subpar food. Prediction=> 1\n",
            ") some great music, and terrific scenery.   Prediction=> 1\n",
            "For about 10 minutes, we we're waiting for her salad when we realized that it wasn't coming any time soon. Prediction=> 0\n",
            "They refuse to refund or replace. Prediction=> 1\n",
            "IT'S REALLY EASY. Prediction=> 1\n",
            "Each track commands sentiment, actually contributing to the scenes and characters.   Prediction=> 1\n",
            "Bluetooth range is good - a few days ago I left my phone in the trunk, got a call, and carried the conversation without a hitch. Prediction=> 1\n",
            "He is almost unbearable to watch on screen, he has little to no charisma, and terrible comedic timing.   Prediction=> 0\n",
            "Waited and waited and waited. Prediction=> 0\n",
            "much better than the hard plastic cases. Prediction=> 0\n",
            "What on earth is Irons doing in this film?   Prediction=> 1\n",
            "The phone is sturdy and waterproof. Prediction=> 1\n",
            "It failed to convey the broad sweep of landscapes that were a great part of the original.   Prediction=> 1\n",
            "This place is not quality sushi, it is not a quality restaurant. Prediction=> 0\n",
            "None of them are engaging or exciting.   Prediction=> 0\n",
            "The acting by the whole cast could be put on a scale and balanced perfectly between overacting and underacting.   Prediction=> 1\n",
            "This is such a fun and funny movie.   Prediction=> 1\n",
            "I hope this place sticks around. Prediction=> 1\n",
            "If you're not familiar, check it out. Prediction=> 0\n",
            "It Was So Cool.   Prediction=> 1\n",
            "The movie is full of wonderful dancing (hence the title!   Prediction=> 1\n",
            "And the red curry had so much bamboo shoots and wasn't very tasty to me. Prediction=> 1\n",
            "I wish I could return the unit and get back my money. Prediction=> 0\n",
            "This item is fantastic and works perfectly! Prediction=> 1\n",
            "But it is entertaining, nonetheless.   Prediction=> 0\n",
            "Hot dishes are not hot, cold dishes are close to room temp.I watched staff prepare food with BARE HANDS, no gloves.Everything is deep fried in oil. Prediction=> 0\n",
            "I paid the bill but did not tip because I felt the server did a terrible job. Prediction=> 0\n",
            "The service here leaves a lot to be desired. Prediction=> 1\n",
            "The turkey and roast beef were bland. Prediction=> 0\n",
            "I wasn't really impressed with Strip Steak. Prediction=> 1\n",
            "We waited for forty five minutes in vain. Prediction=> 0\n",
            ")Setup couldn't have been simpler. Prediction=> 1\n",
            "Very happy with this product. Prediction=> 1\n",
            "I thought it was bad.   Prediction=> 0\n",
            "So far it has worked like a charm. Prediction=> 1\n",
            "Bacon is hella salty. Prediction=> 1\n",
            "This movie is well-balanced with comedy and drama and I thoroughly enjoyed myself.   Prediction=> 1\n",
            "I go to far too many places and I've never seen any restaurant that serves a 1 egg breakfast, especially for $4.00. Prediction=> 1\n",
            "It's so bad it's actually worth seeing just for that reason.   Prediction=> 0\n",
            "Nice case, feels good in your hands. Prediction=> 1\n",
            "Looks good in the picture, but this case was a huge disappointment!! Prediction=> 0\n",
            "I highly recommend this modest priced cellular phone. Prediction=> 1\n",
            "Happy so far!. Prediction=> 1\n",
            "Waited 2 hours & never got either of our pizzas as many other around us who came in later did! Prediction=> 0\n",
            "It even has its sweet moments.   Prediction=> 1\n",
            "It was equally awful. Prediction=> 0\n",
            "What I really like there is the crepe station. Prediction=> 0\n",
            "It does everything the description said it would. Prediction=> 1\n",
            "I was very impressed with the price of the cases. Prediction=> 1\n",
            "I only used it two days, and it wasn't always easy to hear with. Prediction=> 1\n",
            "Love this place, hits the spot when I want something healthy but not lacking in quantity or flavor. Prediction=> 0\n",
            "I'm really disappointed all I have now is a charger that doesn't work. Prediction=> 0\n",
            "Sprint charges for this service. Prediction=> 0\n",
            "Any ring tone..Overall good phone to buy.. Prediction=> 1\n",
            "I had the chicken Pho and it tasted very bland. Prediction=> 0\n",
            "Artless camera-work endlessly presents us with the ugliest setting imaginable, i.e.   Prediction=> 0\n",
            "What possesed me to get this junk, I have no idea... Prediction=> 0\n",
            "The range is very decent, I've been able to roam around my house with the phone in the living room with no reception/sound quality issues. Prediction=> 1\n",
            "It's been my choice headset for years.Great sound; good volume; good noise cancellation. Prediction=> 1\n",
            "Great Pizza and Salads! Prediction=> 1\n",
            "I am so pleased to know such a modern day genius is out there , letting is passion for Art drive him and taking us as an audience with him.   Prediction=> 1\n",
            "As a courtroom drama, it's compelling, as an indictment on the American justice system, it's frightening.   Prediction=> 1\n",
            "Sending it back. Prediction=> 0\n",
            "But in terms of the writing it's very fresh and bold.   Prediction=> 0\n",
            "I'll even say it again  this is torture.   Prediction=> 0\n",
            "Headset works great & was packaged nicely to avoid any damage. Prediction=> 1\n",
            "Great atmosphere, friendly and fast service. Prediction=> 1\n",
            "Nice quality build, unlike some cheap s*** out there. Prediction=> 1\n",
            "This is a great deal. Prediction=> 1\n",
            "I am going to have to be the first to negatively review this product. Prediction=> 0\n",
            "I loved the bacon wrapped dates. Prediction=> 1\n",
            "Not frightening in the least, and barely comprehensible.   Prediction=> 0\n",
            "The bartender was also nice. Prediction=> 1\n",
            "The movie was very interesting from beginning to the end.   Prediction=> 1\n",
            "I don't like this Nokia either. Prediction=> 0\n",
            "I will never go back to this place and will never ever recommended this place to anyone! Prediction=> 0\n",
            "Even if you love bad movies, do not watch this movie.   Prediction=> 0\n",
            "I'm so happy to be here!!!\" Prediction=> 1\n",
            "Good , works fine. Prediction=> 1\n",
            "At least think to refill my water before I struggle to wave you over for 10 minutes. Prediction=> 1\n",
            "A world better than 95% of the garbage in the theatres today.   Prediction=> 0\n",
            "This is infuriating. Prediction=> 0\n",
            "I love my 350 headset.. My Jabra350 bluetooth headset is great, the reception is very good and the ear piece is a comfortable fit. Prediction=> 1\n",
            "It was quite comfortable in the ear. Prediction=> 1\n",
            "Very much disappointed with this company. Prediction=> 0\n",
            "Excellent hands free tool. Prediction=> 1\n",
            "very clear, quality sound and you don't have to mess with the sound on your iPod since you have the sound buttons on the headset. Prediction=> 1\n",
            "fast service. Prediction=> 1\n",
            "I ordered this for sony Ericsson W810i but I think it only worked once (thats when I first used it). Prediction=> 0\n",
            "All the actors give a wonderful performance, especially Jennifer Rubin as Jamie Harris, who changes from the nervous starlet in the beginning through the strange events she is part of to the cool star.   Prediction=> 0\n",
            "You can find better movies at youtube.   Prediction=> 1\n",
            "The fries were not hot, and neither was my burger. Prediction=> 0\n",
            "This scene is very strong and unpleasant.   Prediction=> 1\n",
            "This was my first and only Vegas buffet and it did not disappoint. Prediction=> 1\n",
            "Simple, lightweight and great fit. Prediction=> 1\n",
            "I will not be eating there again. Prediction=> 0\n",
            "I ordered the Voodoo pasta and it was the first time I'd had really excellent pasta since going gluten free several years ago. Prediction=> 0\n",
            "The cashier had no care what so ever on what I had to say it still ended up being wayyy overpriced. Prediction=> 1\n",
            "Plus, it was well-paced and suited its relatively short run time.   Prediction=> 1\n",
            "If you look for authentic Thai food, go else where. Prediction=> 1\n",
            "I hate those things as much as cheap quality black olives. Prediction=> 0\n",
            "Sprint - terrible customer service. Prediction=> 0\n",
            "It took over 30 min to get their milkshake, which was nothing more than chocolate milk. Prediction=> 0\n",
            "Works great!. Prediction=> 1\n",
            "Also the area where my unit broke).- I'm not too fond of the magnetic strap. Prediction=> 0\n",
            "No ear loop needed, it's tiny and the sound is great. Prediction=> 1\n",
            "Editing: The editing of this film was phenomenal in my opinion.   Prediction=> 1\n",
            "I was mortified. Prediction=> 0\n",
            "It was horrendous.   Prediction=> 0\n",
            "useless phone, simply deaf. Prediction=> 0\n",
            "Wasted two hours.   Prediction=> 0\n",
            "I'd say that would be the hardest decision... Honestly, all of M's dishes taste how they are supposed to taste (amazing). Prediction=> 1\n",
            "An extensive menu provides lots of options for breakfast. Prediction=> 1\n",
            "I kept catching the cable on the seat and I had to pull the phone out to turn it on an off. Prediction=> 0\n",
            "Food is way overpriced and portions are fucking small. Prediction=> 0\n",
            "this place is good. Prediction=> 1\n",
            "Great product. Prediction=> 1\n",
            "Food was below average. Prediction=> 0\n",
            "It's an empty, hollow shell of a movie.   Prediction=> 1\n",
            "I started this review with two stars, but I'm editing it to give it only one. Prediction=> 1\n",
            "The rest of the movie lacks art, charm, meaning... If it's about emptiness, it works I guess because it's empty.   Prediction=> 1\n",
            "Unfortunately, any virtue in this film's production work was lost on a regrettable script.   Prediction=> 0\n",
            "And the beans and rice were mediocre at best. Prediction=> 0\n",
            "This product is clearly not ready for prime time, I don't care how cool it looks, if you can't tell a call is coming in it's worthless. Prediction=> 0\n",
            "I put the latest OS on it (v1.15g), and it now likes to slow to a crawl and lock up every once in a while. Prediction=> 1\n",
            "Linked to my phone without effort. Prediction=> 1\n",
            "The new characters weren't all that memorable, and I found myself forgetting who was who.   Prediction=> 1\n",
            "Great Value. Prediction=> 1\n",
            "I rate this movie 9/10.   Prediction=> 1\n",
            "I liked it.   Prediction=> 1\n",
            "And the accents are absolutely abysmal!   Prediction=> 1\n",
            "Not even good for camp value!   Prediction=> 0\n",
            "And the chef was generous with his time (even came around twice so we can take pictures with him). Prediction=> 1\n",
            "Unfortunately, it was not good. Prediction=> 0\n",
            "I don't think it would hold it too securly on your belt. Prediction=> 0\n",
            "It dit not work most of the time with my Nokia 5320. Prediction=> 0\n",
            "The chicken I got was definitely reheated and was only ok, the wedges were cold and soggy. Prediction=> 0\n",
            "I got the aluminum case for my new Palm VX and it worked really well--it has protected my handheld perfectly so far. Prediction=> 1\n",
            "However, BT headsets are currently not good for real time games like first-person shooters since the audio delay messes me up. Prediction=> 0\n",
            "Better than you'd expect. Prediction=> 1\n",
            "in addition it feels &amp; looks as if the phone is all lightweight cheap plastic. Prediction=> 0\n",
            "The ear buds only play music in one ear. Prediction=> 0\n",
            "That said, our mouths and bellies were still quite pleased. Prediction=> 1\n",
            "The Wind and the Lion is well written and superbly acted.   Prediction=> 1\n",
            "I LOVED it! Prediction=> 1\n",
            "Definitely worth checking out.   Prediction=> 1\n",
            "We could not believe how dirty the oysters were! Prediction=> 0\n",
            "The feel of the dining room was more college cooking course than high class dining and the service was slow at best. Prediction=> 0\n",
            "This is the place where I first had pho and it was amazing!! Prediction=> 1\n",
            "It works fine on my Motorola 325 cellphone, and a lot better than the worn-out battery did. Prediction=> 1\n",
            "I think it was Robert Ryans best film, because he portrayed someone like my father, and he was a schizophrenic in real life,(my father) although he never murdered anyone but was affected more so during the second world war which made him worse.   Prediction=> 0\n",
            "Chinese Forgeries Abound!. Prediction=> 0\n",
            "The soundtrack wasn't terrible, either.   Prediction=> 0\n",
            "The loudspeaker option is great, the bumpers with the lights is very ... appealing. Prediction=> 1\n",
            "I am glad I purchased it. Prediction=> 1\n",
            "I had strawberry tea, which was good. Prediction=> 1\n",
            "Stay Away From the Q!. Prediction=> 0\n",
            "Try them in the airport to experience some tasty food and speedy, friendly service. Prediction=> 1\n",
            "This place is horrible and way overpriced. Prediction=> 0\n",
            "I had to go to a store and bought a new NOKIA phone which is working great. Prediction=> 1\n",
            "this is the worst sushi i have ever eat besides Costco's. Prediction=> 0\n",
            "The steaks are all well trimmed and also perfectly cooked. Prediction=> 1\n",
            "The ambiance isn't much better. Prediction=> 0\n",
            "This PDA rocks. Prediction=> 1\n",
            "An Awesome New Look For Fall 2000!. Prediction=> 1\n",
            "It came free with a DVD player I bought but I still turned the thing off halfway through because I was embarrassed for Howell.   Prediction=> 0\n",
            "The pan cakes everyone are raving about taste like a sugary disaster tailored to the palate of a six year old. Prediction=> 0\n",
            "The Greek dressing was very creamy and flavorful. Prediction=> 1\n",
            "It didn't charge for me. Prediction=> 0\n",
            "I rather enjoyed it.   Prediction=> 1\n",
            "I used bitpim (a free program you can find on the internet)to transfer data to the phone.The price of the cable was excellent. Prediction=> 1\n",
            "If you want a sandwich just go to any Firehouse!!!!! Prediction=> 1\n",
            "The only reason to eat here would be to fill up before a night of binge drinking just to get some carbs in your stomach. Prediction=> 0\n",
            "I highly recommend this device to everyone! Prediction=> 1\n",
            "Due to this happening on every call I was forced to stop using this headset. Prediction=> 1\n",
            "She carries the movie well.   Prediction=> 1\n",
            "I guess that nobody at the network that aired this dribble watched it before putting it on.   Prediction=> 0\n",
            "My headset works just peachy-keen. Prediction=> 1\n",
            "But she is still a bad actress, repeating her robotic face moves in each of her pictures.   Prediction=> 0\n",
            "Nice, spicy and tender. Prediction=> 1\n",
            "The awful dialogue and hopeless overacting by everyone who gets shot top off a real waste of space and time.   Prediction=> 0\n",
            "Excellent product for the price. Prediction=> 1\n",
            "The keyboard is a nice compromise between a full QWERTY and the basic cell phone number keypad. Prediction=> 1\n",
            "Very Displeased. Prediction=> 0\n",
            "Everything about it is just bad.   Prediction=> 0\n",
            "I had ordered a motorola data cable, got a very well finished and working product. Prediction=> 1\n",
            "The waiter wasn't helpful or friendly and rarely checked on us. Prediction=> 0\n",
            "Not good for the money. Prediction=> 0\n",
            "Food was really good and I got full petty fast. Prediction=> 1\n",
            "The only thing that I think could improve is the sound leaks out from the headset. Prediction=> 0\n",
            "This place is overpriced, not consistent with their boba, and it really is OVERPRICED! Prediction=> 0\n",
            "And if that isn't enough of a mess of a movie for you - the picture is also marred with a constant use of studio sets and indoor exteriors.   Prediction=> 0\n",
            "Everyone is treated equally special. Prediction=> 0\n",
            "Highly entertaining at all angles.   Prediction=> 1\n",
            "I have been to very few places to eat that under no circumstances would I ever return to, and this tops the list. Prediction=> 0\n",
            "I have purchased these for both family and friends, and all enjoy their clarity and ease of use Prediction=> 1\n",
            "Dessert: Panna Cotta was amazing. Prediction=> 1\n",
            "The only good thing was our waiter, he was very helpful and kept the bloddy mary's coming. Prediction=> 1\n",
            "Maybe it's just their Vegetarian fare, but I've been twice and I thought it was average at best. Prediction=> 1\n",
            "The service was a bit lacking. Prediction=> 0\n",
            "Perhaps my phone is defective, but people cannot hear me when I use this. Prediction=> 0\n",
            "Loved the casting of Jimmy Buffet as the science teacher.   Prediction=> 1\n",
            "We won't be going back. Prediction=> 0\n",
            "Thoroughly disappointed! Prediction=> 0\n",
            "The budget was evidently very limited.   Prediction=> 0\n",
            "The Jabra EarGels fit my ears very well. Prediction=> 1\n",
            "Plan on ordering from them again and again. Prediction=> 0\n",
            "The story line is totally predictable.   Prediction=> 1\n",
            "Still, it makes up for all of this with a super ending that depicts a great sea vessel being taken out by the mighty frost.   Prediction=> 1\n",
            "Be sure to order dessert, even if you need to pack it to-go - the tiramisu and cannoli are both to die for. Prediction=> 1\n",
            "Cumbersome design. Prediction=> 0\n",
            " In fact, it's hard to remember that the part of Ray Charles is being acted, and not played by the man himself.  \t1\n",
            "Ray Charles is legendary.  \t1\n",
            "Ray Charles' life provided excellent biographical material for the film, which goes well beyond being just another movie about a musician.  \t1\n",
            "Hitchcock is a great director.  \t1\n",
            "Ironically I mostly find his films a total waste of time to watch.  \t0\n",
            "Secondly, Hitchcock pretty much perfected the thriller and chase movie.  \t1\n",
            "It's this pandering to the audience that sabotages most of his films.  \t0\n",
            "Hence the whole story lacks a certain energy.  \t0\n",
            "The plot simply rumbles on like a machine, desperately depending on the addition of new scenes.  \t0\n",
            "There are the usual Hitchcock logic flaws.  \t0\n",
            "Mishima is extremely uninteresting.  \t0\n",
            "This is a chilly, unremarkable movie about an author living/working in a chilly abstruse culture.  \t0\n",
            "The flat reenactments don't hold your attention because they are emotionally adrift and stagy.  \t0\n",
            "And the rest of it just sits there being awful... with soldiers singing songs about the masculinity they pledge themselves to, hairsplitting about purity, the admiration of swords, etc.  \t0\n",
            "He can bore you to pieces, and kill the momentum of a movie, quicker than anyone else.  \t0\n",
            "Schrader has made a resume full of lousy, amateurish films.  \t0\n",
            "When I first watched this movie, in the 80s, I loved it.  \t1\n",
            "I was totally fascinated by the music, the dancing... everything.  \t1\n",
            "However, I recently watched the whole thing again on DVD, and I was completely struck by how extremely stupid the storyline was - how it contained holes, inconsistencies and - frankly - a whole lot of crap - and how horrid the dancing was.  \t0\n",
            "I mean, in a realistic world, she would NEVER have gotten into that ballet repertory... The whole thing was quite pathetic.  \t0\n",
            "The character developments also lacked in depth.  \t0\n",
            "Woa, talk about awful.  \t0\n",
            "Do not waste your time.  \t0\n",
            "It was just too horrible.  \t0\n",
            "The worst, sappiest dialogue... I could go on and on.  \t0\n",
            "But what really made it unwatchable was the direction.  \t0\n",
            "The poor actors.  \t0\n",
            "You can't even tell if they have any talent because they not only have pathetic lines to speak but the director gave them no action.  \t0\n",
            "If you check the director's filmography on this site you will see why this film didn't have a chance.  \t0\n",
            "This would not even be good as a made for TV flick.  \t0\n",
            "If good intentions made a film great, then this film might be one of the greatest films ever made.  \t1\n",
            "The film has great actors, a master director, a significant theme--at least a would-be significant theme, undertone of fifties existential world-weariness, aerial scenes that ought to have thrilled both senses and imagination, and characters about which one might deeply care.  \t1\n",
            "Regrettably, the film fails.  \t0\n",
            "The movie lacks visual interest, drama, expression of feeling, and celebration of the very patriotism that underlines the narrative.  \t0\n",
            "No actress has been worse used that June Allison in this movie.  \t0\n",
            "Yet, I enjoy watching it.  \t1\n",
            "Unfortunately, this is a bad movie that is just plain bad.  \t0\n",
            "Bad script, bad direction and horrible acting make this one plain bad!  \t0\n",
            "The dialogue sucked.  \t0\n",
            "The cinematography-if it can be called that-sucked.  \t0\n",
            "The soundtrack sucked.  \t0\n",
            "The acting sucked.  \t0\n",
            "The concert sequences just sucked.  \t0\n",
            "That was nice.  \t1\n",
            "That was funny.  \t1\n",
            "It was so funny.  \t1\n",
            "Overall, this movie was cheap trash.  \t0\n",
            "But this movie is not funny, considering the ridiculousness of it.  \t0\n",
            "I came out of it feeling angry.  \t0\n",
            "***SPOILERS*** Whatever else can (or can't) be said about it, SURFACE is superbly crafted.  \t1\n",
            "The cinematography is simply stunning (to say the least) and the fx are nothing if not state-of-the-art.  \t1\n",
            "Conceptually, the show offers a little bit of everything- and for just about everybody (parents, kids, fantasy and/or fx fans).  \t1\n",
            "And there wasn't a single sour note struck acting-wise, either; some surprisingly solid casting, here.  \t1\n",
            "All things considered, a job very well done.  \t1\n",
            "Thanks good a movie like this was done and released.  \t1\n",
            "One of the best mexican movies ever!, and one of the less understood, even by mexican themselves, no matter how identified the should have felt with it.  \t1\n",
            "It ranks highly as a great noir-crime-drama, incredible performances by Belmondo and Lino Ventura.  \t1\n",
            "The attention given to every character, and complex psychological portrayals, detailing loyalty, treachery, love, and hope, are tremendous.  \t1\n",
            "It is an excellent drama, an excellent thriller, and an excellent film.  \t1\n",
            "Up there with the best of Melville.  \t1\n",
            "Everything about this film is simply incredible.  \t1\n",
            "You truly take this journey through the eyes and soul of a child.  \t1\n",
            "BLACK WATER is a thriller that manages to completely transcend it's limitations (it's an indie flick) by continually subverting expectations to emerge as an intense experience.  \t1\n",
            "The performances are real and gripping, the crocdodile is extremely well done, indeed if the Black Water website is to be believed that's because they used real crocs and the swamp location is fabulous.  \t1\n",
            "I thoroughly enjoyed it when Christopher Eccleston took control of the TARDIS and the continuation of the series.  \t1\n",
            "I'm not sure what he was trying to do with this film.  \t0\n",
            "If it was to turn my good day feeling into a night of disturbing memories than I guess he succeeded.  \t0\n",
            "There is a lot of beautiful places.  \t1\n",
            "It was forced, like everything in this movie.  \t0\n",
            "Again, lame.  \t0\n",
            "Here's where the movie really pi**ed me off.  \t0\n",
            "And don't even get me started on the jerky camerawork.  \t0\n",
            "When I saw it in the theater I thought I was going to be sick.  \t0\n",
            "Summary: The witticisms weren't witty.  \t0\n",
            "The plot - well, I said I'd let that one go.  \t0\n",
            "The acting was bad.  \t0\n",
            "Really bad.  \t0\n",
            "Even Billy Bob couldn't rise above the script, which was worse.  \t0\n",
            "Camerawork - again, bad.  \t0\n",
            "Rating: 1 out of 10.  \t0\n",
            "An AMAZING finale to possibly the BEST trilogy of all time!  \t1\n",
            "Kieslowski never ceases to amaze me.  \t1\n",
            "He is one of my favourite directors, and one of the most talented directors in the history of cinema.  \t1\n",
            "His use of the colours of the French flag in the three films was nothing short of incredible, every shot, every scene was like a work of art.  \t1\n",
            "Three of the most visually appealing movies i've ever seen.  \t1\n",
            "And his subtle connections between the three films are awesome.  \t1\n",
            "I have to mention this and it is a huge SPOILER, i loved the ending, how all the characters of the three films were the remaining survivors of the ferry disaster, with Valentine and the young judge together, and the old man watching it on her TV, solidifying his happiness over the suffering which he dealt with for those many years.  \t1\n",
            "I couldn't think of a better way to end the film, but a smile on my face, great way to wrap up an amazing film and trilogy!  \t1\n",
            "I recommend this for EVERYONE who loves film, movies, anything...A Work of Art!  \t1\n",
            "10 out of 10 for both the movie and trilogy.  \t1\n",
            "I literally vomited while watching this film.  \t0\n",
            "I think i was one of the people who found this another one of roth's pearls.  \t1\n",
            "his performance, as awarded, was stunning.  \t1\n",
            "the story which was told so eloquently by Francis ford Coppola 25 years earlier, really unfolds gradually and leaves room for the characters to develop.  \t1\n",
            "In a most wonderful location lies a story of contrast.  \t1\n",
            "All in all a beautiful directed film from Nicola's roeg wih a sublime cast.  \t1\n",
            "I'm translating movies for a living and this is the first movie in my 5-year working experience that I found offensive to my intelligence.  \t0\n",
            "But when someone strives for greatness and poetry, but delivers a muddled (and often ridiculous) story, a bunch of disparate scenes, pretentious dialogue... Then you get the worst kind of a movie that some other reviewer very accurately defined as pretentious crap\".   Prediction=> 1\n",
            "Great Pocket PC / phone combination. Prediction=> 1\n",
            "IMDB ratings only go as low 1 for awful, it's time to get some negative numbers in there for cases such as these.   Prediction=> 0\n",
            "It actually turned out to be pretty decent as far as B-list horror/suspense films go.   Prediction=> 1\n",
            "Will order from them again! Prediction=> 1\n",
            "The acting is fantastic, the stories are seamlessly woven together, and the dogs are splendid............. A must rent, view, or see.   Prediction=> 1\n",
            "My friend did not like his Bloody Mary. Prediction=> 0\n",
            "not even a \"hello, we will be right with you.\" Prediction=> 0\n",
            "Sadly, Gordon Ramsey's Steak is a place we shall sharply avoid during our next trip to Vegas. Prediction=> 0\n",
            "Poorly contstruct hinge. Prediction=> 0\n",
            "I really hope the team behind this movie makes more movies, and that they will continue to do so in their own, some kinda weird style.   Prediction=> 0\n",
            "bad fit, way too big. Prediction=> 0\n",
            "Same problem as others have mentioned. Prediction=> 0\n",
            "Our waiter was very attentive, friendly, and informative. Prediction=> 1\n",
            "This is cool because most cases are just open there allowing the screen to get all scratched up. Prediction=> 0\n",
            "This one is simply a disappointment. Prediction=> 0\n",
            "It is unusable in a moving car at freeway speed. Prediction=> 0\n",
            "There was hardly any meat. Prediction=> 0\n",
            "Otherwise, easy to install and use, clear sound. Prediction=> 1\n",
            "Battery charge-life is quite long. Prediction=> 0\n",
            "I had always known that Errol Flynn was a brilliant actor as he was my dads favourite actor, and I grew up watching his films as a child.   Prediction=> 1\n",
            "The most annoying thing about 'Cover Girl' is the way in which Rita Hayworth is put up on a pedestal.   Prediction=> 0\n",
            "Design Flaw?. Prediction=> 0\n",
            "I would have given no star if I was able. Prediction=> 0\n",
            "You can't beat the price on these. Prediction=> 1\n",
            "Went in for happy hour, great list of wines. Prediction=> 1\n",
            "Just don't know why they were so slow. Prediction=> 0\n",
            "Tom Wilkinson broke my heart at the end... and everyone else's judging by the amount of fumbling for hankies and hands going up to faces among males and females alike.   Prediction=> 0\n",
            "They could serve it with just the vinaigrette and it may make for a better overall dish, but it was still very good. Prediction=> 1\n",
            "Do not make the same mistake as me. Prediction=> 0\n",
            "Pretty piece of junk. Prediction=> 0\n",
            "This is by far the worst purchase I've made on Amazon. Prediction=> 0\n",
            "What a waste of money and time!. Prediction=> 0\n",
            "The film has an ultra-cheap look to it.   Prediction=> 0\n",
            "Doesn't hold charge. Prediction=> 0\n",
            "We had fantastic service, and were pleased by the atmosphere. Prediction=> 1\n",
            "Now the burgers aren't as good, the pizza which used to be amazing is doughy and flavorless. Prediction=> 1\n",
            "Highly recommended. Prediction=> 1\n",
            "There's a horrible tick sound in the background on all my calls that I have never experienced before. Prediction=> 0\n",
            "Everything was good and tasty! Prediction=> 1\n",
            "Service was excellent and prices are pretty reasonable considering this is Vegas and located inside the Crystals shopping mall by Aria. Prediction=> 1\n",
            "Now we were chosen to be tortured with this disgusting piece of blatant American propaganda.   Prediction=> 0\n",
            "There is no plot here to keep you going in the first place.   Prediction=> 0\n",
            "The staff are now not as friendly, the wait times for being served are horrible, no one even says hi for the first 10 minutes. Prediction=> 0\n",
            "The writer, Gorman Bechard, undoubtedly did his homework because all references are industry and character-age appropriate.   Prediction=> 1\n",
            "Things happen, characters personalities change, plot twists occur for no real reason other than that script calls for it.   Prediction=> 0\n",
            "I didn't know pulled pork could be soooo delicious. Prediction=> 1\n",
            "This case seems well made. Prediction=> 1\n",
            "Aailiyah was pretty good as Akasha, in places compelling (her first entrance and mini dance scene).   Prediction=> 1\n",
            "Cant get the software to work with my computer. Prediction=> 0\n",
            "Great brunch spot. Prediction=> 1\n",
            "Excellent!. Prediction=> 1\n",
            "In conclusion, I will not bother with this movie because a volcano in Los Angeles is nothing but nonsense.   Prediction=> 0\n",
            "poor quality and service. Prediction=> 0\n",
            "Also makes it easier to hold on to. Prediction=> 0\n",
            "The menu had so much good stuff on it i could not decide! Prediction=> 0\n",
            "I get absolutely horrible reception in my apartment, where with other phones I have not had this problem. Prediction=> 0\n",
            "Almost all of the songs in Cover Girl are old-fashioned and not very tuneful.   Prediction=> 0\n",
            "None of the three sizes they sent with the headset would stay in my ears. Prediction=> 0\n",
            "It was a great phone. Prediction=> 1\n",
            "Pretty awesome place. Prediction=> 1\n",
            "The Songs Were The Best And The Muppets Were So Hilarious.   Prediction=> 1\n",
            "The design is very good.4. Prediction=> 1\n",
            "The food is very good for your typical bar food. Prediction=> 1\n",
            "All three broke within two months of use. Prediction=> 0\n",
            "This movie contained an all-star cast, and what I loved the most was that it opened my eyes to see other actors who I haven't seen before.   Prediction=> 1\n",
            "You also cannot take pictures with it in the case because the lense is covered. Prediction=> 0\n",
            "Overpriced for what you are getting. Prediction=> 1\n",
            "I don't know exactly what it is about this movie, but we latched on to this endearing movie and it has become a special part of our family's memories.   Prediction=> 1\n",
            "Light weight, I hardly notice it is there. Prediction=> 0\n",
            "First of all, it doesn't wear well. Prediction=> 0\n",
            "The entire audience applauded at the conclusion of the film.   Prediction=> 1\n",
            "Great steak, great sides, great wine, amazing desserts. Prediction=> 1\n",
            "(very serious spoilers) this movie was a huge disappointment.   Prediction=> 0\n",
            "This place is pretty good, nice little vibe in the restaurant. Prediction=> 1\n",
            "VERY funny!   Prediction=> 1\n",
            "Just reading on the specs alone makes you say WOW. Prediction=> 0\n",
            "Waste of money. Prediction=> 0\n",
            "Poor quality. Prediction=> 0\n",
            "My girlfriend's veal was very bad. Prediction=> 0\n",
            "Feelings, thoughts...Gabriel's discomfort during the dance...all these intangibles leap to life and come within the viewer's grasp in Huston's portrayal.   Prediction=> 0\n",
            "But I definitely would not eat here again. Prediction=> 0\n",
            "I was able to do voice dialing in the car with no problem. Prediction=> 0\n",
            "I also didn't like the \"on\" button, it felt like it would crack with use. Prediction=> 0\n",
            "The Veggitarian platter is out of this world! Prediction=> 0\n",
            "This film highlights the fundamental flaws of the legal process, that it's not about discovering guilt or innocence, but rather, is about who presents better in court.   Prediction=> 0\n",
            "What a great double cheeseburger! Prediction=> 1\n",
            "This was like the final blow! Prediction=> 0\n",
            "Hands down my favorite Italian restaurant! Prediction=> 1\n",
            "Garbo, who showed right off the bat that her talents could carry over from the silent era (I wanted to see some of her silent work, but Netflix doesn't seem to be stocking them.   Prediction=> 0\n",
            "We'll never go again. Prediction=> 0\n",
            "Do not waste your money here! Prediction=> 0\n",
            "Unfortunately, it only set us up for disapppointment with our entrees. Prediction=> 1\n",
            "I own 2 of these cases and would order another. Prediction=> 1\n",
            "It is worth the drive. Prediction=> 1\n",
            "Best breakfast buffet!!! Prediction=> 1\n",
            "When I placed my treo into the case, not only was it NOT snug, but there was A LOT of extra room on the sides. Prediction=> 0\n",
            "Highly unrecommended.   Prediction=> 1\n",
            "Penne vodka excellent! Prediction=> 1\n",
            "An excellent new restaurant by an experienced Frenchman. Prediction=> 1\n",
            "poor voice clarity. Prediction=> 0\n",
            "But this understated film leaves a lasting impression.   Prediction=> 0\n",
            "Very prompt service. Prediction=> 1\n",
            "No additional ear gels provided, and no instructions whatsoever. Prediction=> 0\n",
            "I just don't know how this place managed to served the blandest food I have ever eaten when they are preparing Indian cuisine. Prediction=> 0\n",
            "The classic Maine Lobster Roll was fantastic. Prediction=> 1\n",
            "My gyro was basically lettuce only. Prediction=> 0\n",
            "This may be the only bad film he ever made.   Prediction=> 0\n",
            "Del Taco is pretty nasty and should be avoided if possible. Prediction=> 0\n",
            "I waited and waited. Prediction=> 0\n",
            "If she had not rolled the eyes we may have stayed... Not sure if we will go back and try it again. Prediction=> 0\n",
            "Freezes frequently4. Prediction=> 0\n",
            "OMG I felt like I had never eaten Thai food until this dish. Prediction=> 0\n",
            "The characters were all funny and had the peculiarity of not having a true lead character.   Prediction=> 0\n",
            "Even the squibs look awful.   Prediction=> 0\n",
            "Thank you for such great service. Prediction=> 1\n",
            "This is definitely a cult classic well worth viewing and sharing with others.   Prediction=> 1\n",
            "After 20 minutes wait, I got a table. Prediction=> 1\n",
            "But now that it is \"out of warranty\" the same problems reoccure.Bottom line... put your money somewhere else... Cingular will not support it. Prediction=> 0\n",
            "Does not work for listening to music with the cingular 8125. Prediction=> 0\n",
            "Let's start with all the problemsthe acting, especially from the lead professor, was very, very bad.   Prediction=> 0\n",
            "This is a stunning movie.   Prediction=> 1\n",
            "This phone is slim and light and the display is beautiful. Prediction=> 1\n",
            "I'll definitely be in soon again. Prediction=> 1\n",
            "We were promptly greeted and seated. Prediction=> 1\n",
            "It is a true classic.   Prediction=> 1\n",
            "The show would begin with smart ass ed comments to each other that would be totally off the wall and uncalled for.   Prediction=> 0\n",
            "One more thing: I can tolerate political incorrectness very well, I'm all for artistic freedom and suspension of disbelief, but the Slavic female character was just too much.   Prediction=> 1\n",
            "Bluetooth does not work, phone locks up, screens just flash up and now it just makes calls randomly while in my pocket locked. Prediction=> 0\n",
            "Highly unprofessional and rude to a loyal patron! Prediction=> 0\n",
            "I was looking for this headset for a long time and now that I've got it I couldn't be happier. Prediction=> 1\n",
            "stay away from this store, be careful. Prediction=> 0\n",
            "We thought you'd have to venture further away to get good sushi, but this place really hit the spot that night. Prediction=> 1\n",
            "If you haven't gone here GO NOW! Prediction=> 0\n",
            "Give it a try, you will be happy you did. Prediction=> 1\n",
            "Service was fine and the waitress was friendly. Prediction=> 1\n",
            "Funny, clever, hip - just like Pray's previous film, Hype!   Prediction=> 1\n",
            "This isn't a small family restaurant, this is a fine dining establishment. Prediction=> 1\n",
            "We literally sat there for 20 minutes with no one asking to take our order. Prediction=> 0\n",
            "Very disappointing. Prediction=> 0\n",
            "Paolo Sorrentino has written a wonderful story about loneliness and Tony has built one of the most unforgettable characters seen in movies in recent years.   Prediction=> 1\n",
            "Elias Koteas,Jack Palance play good roles Angelina is hot and gets naked.Billy Drago appears in this and is cool as usual + a cameo by Sven ole Thorsen helps make this a very enjoyable movie with good acting and a decent budget.   Prediction=> 1\n",
            "Their frozen margaritas are WAY too sugary for my taste. Prediction=> 0\n",
            "Clever and a real crowd-pleaser--this film still ranks among Mickey's best films even after 80 wonderful years.   Prediction=> 1\n",
            "And generally the lines and plot is weaker than the average episode.   Prediction=> 0\n",
            "Voice recognition is tremendous! Prediction=> 1\n",
            "Car charger as well as AC charger are included to make sure you never run out of juice.Highy recommended Prediction=> 1\n",
            "I would definitely recommend the wings as well as the pizza. Prediction=> 1\n",
            "Does not fit. Prediction=> 0\n",
            "Battery life is real good. Prediction=> 1\n",
            "This is an extraordinary film.   Prediction=> 1\n",
            "I have had TMobile service for 2 or 3 years now, and I am pretty happy with it. Prediction=> 1\n",
            "There's barely a boring moment in the film and there are plenty of humorous parts.   Prediction=> 0\n",
            "I tried the Cape Cod ravoli, chicken,with cranberry...mmmm! Prediction=> 0\n",
            "It has northern humour and positive about the community it represents.   Prediction=> 1\n",
            "I would highly recommend this. Prediction=> 1\n",
            "Oh this is such a thing of beauty, this restaurant. Prediction=> 1\n",
            "This early film from future goremeister Lucio Fulci is a very good addition to the giallo sub-genre.   Prediction=> 1\n",
            "The price was very good and with the free shipping and all it was a good purchase. Prediction=> 1\n",
            "Product is exactly as described. Prediction=> 1\n",
            "Whatever prompted such a documentary is beyond me!   Prediction=> 0\n",
            "Do yourself a favor and stay away from this dish. Prediction=> 0\n",
            "A bit predictable.   Prediction=> 1\n",
            "Food was really boring. Prediction=> 0\n",
            "We got sitting fairly fast, but, ended up waiting 40 minutes just to place our order, another 30 minutes before the food arrived. Prediction=> 0\n",
            "Damn good steak. Prediction=> 1\n",
            "The descriptions said \"yum yum sauce\" and another said \"eel sauce\", yet another said \"spicy mayo\"...well NONE of the rolls had sauces on them. Prediction=> 0\n",
            "I have to say that this film was excellently produced and tops the ratings as a typical sci fi film!   Prediction=> 1\n",
            "A mature, subtle script that suggests and occasionally brings into dramatic focus the underlying tensions is well served by perfect performances (apart from the odd inappropriate smiling that Keira Knightley is prone to, though perhaps under direction this time as the other characters themselves often mention it).   Prediction=> 1\n",
            "Jimmy Stewart is as ever a great hero for Hitchcock, the story rips along to its cool climax at an embassy function, but it lacks the brooding menace of Hitchcock's black and white, low-budget original.   Prediction=> 1\n",
            "First time going but I think I will quickly become a regular. Prediction=> 1\n",
            "I will come back here every time I'm in Vegas. Prediction=> 1\n",
            "what a disappointment Prediction=> 0\n",
            "The atmosphere is modern and hip, while maintaining a touch of coziness. Prediction=> 0\n",
            "I can say that the desserts were yummy. Prediction=> 0\n",
            "the cast was great.   Prediction=> 1\n",
            "& That movie was bad.   Prediction=> 0\n",
            "It has a great camera thats 2MP, and the pics are nice and clear with great picture quality. Prediction=> 1\n",
            "Not worth it. Prediction=> 0\n",
            "Don't buy it. Prediction=> 0\n",
            "Don't trust their website and don't expect any helpful support. Prediction=> 0\n",
            "Very poor service. Prediction=> 0\n",
            "Only had this a month but it's worked flawlessly so far. Prediction=> 0\n",
            "They also have the best cheese crisp in town. Prediction=> 1\n",
            "Would not reccommend. Prediction=> 0\n",
            "VERY cheap plastic, creaks like an old wooden floor. Prediction=> 0\n",
            "Service is quick and friendly. Prediction=> 1\n",
            "putting the race card aside, lets look at the major flaw in the film: they destroy latifa's character.   Prediction=> 0\n",
            "Don't waste your $$$ on this one. Prediction=> 0\n",
            "I want to first say our server was great and we had perfect service. Prediction=> 1\n",
            "The only good thing was that it fits comfortably on small ears. Prediction=> 1\n",
            "I mean really, how do you get so famous for your fish and chips when it's so terrible!?! Prediction=> 0\n",
            "Love this headset! Prediction=> 1\n",
            "The restaurant atmosphere was exquisite. Prediction=> 0\n",
            "We recently witnessed her poor quality of management towards other guests as well. Prediction=> 0\n",
            "Blue Ant is easy to use. Prediction=> 1\n",
            "There was NOTHING believable about it at all.   Prediction=> 0\n",
            "In summary, this was a largely disappointing dining experience. Prediction=> 0\n",
            "The fried rice was dry as well. Prediction=> 0\n",
            "A pretty good product. Prediction=> 1\n",
            "Piece of trash. Prediction=> 0\n",
            "Items stated as included from the description ARE NOT INCLUDED. Prediction=> 0\n",
            "The story is beyond stupid.   Prediction=> 0\n",
            "I am sorry I made this purchase. Prediction=> 0\n",
            "That company is a joke. Prediction=> 0\n",
            "disappointed. Prediction=> 0\n",
            "lightweight and works well. Prediction=> 1\n",
            "This review is long overdue, since I consider A Tale of Two Sisters to be the single greatest film ever made.   Prediction=> 1\n",
            "I don't think there are any redeeming qualities in this remake.   Prediction=> 0\n",
            "That's how I'd describe this painfully dreary time-waster of a film.   Prediction=> 0\n",
            "Server did a great job handling our large rowdy table. Prediction=> 1\n",
            "Best tacos in town by far!! Prediction=> 1\n",
            "What a piece of junk.. I lose more calls on this phone. Prediction=> 0\n",
            "A good time! Prediction=> 1\n",
            "I love the Scream movies and all horror movies and this one ranks way up there.   Prediction=> 1\n",
            "At first glance it is a lovely bakery cafe - nice ambiance, clean, friendly staff. Prediction=> 1\n",
            "John Garfield, Ann revere, Lilli Plmer, William Conrad, Canada Lee...and filmed by one of the greatest cinematographers to ever grace the screen..James Wong Howe.   Prediction=> 0\n",
            "Crostini that came with the salad was stale. Prediction=> 0\n",
            "The writers were \"smack on\" and I think the best actors and actresses were a bonus to the show.These characters were so real.   Prediction=> 1\n",
            "My boyfriend and i sat at the bar and had a completely delightful experience. Prediction=> 0\n",
            "Good case!. Prediction=> 1\n",
            "Also, the fries are without a doubt the worst fries I've ever had. Prediction=> 0\n",
            "Can't upload ringtones from a third party. Prediction=> 1\n",
            "On a positive note, our server was very attentive and provided great service. Prediction=> 1\n",
            "Worked perfectly! Prediction=> 1\n",
            "Not sure who was more lost - the flat characters or the audience, nearly half of whom walked out.   Prediction=> 0\n",
            "It was an inexpensive piece, but I would still have expected better quality. Prediction=> 1\n",
            "I dont think I will be back for a very long time. Prediction=> 0\n",
            "Any grandmother can make a roasted chicken better than this one. Prediction=> 1\n",
            "However, this didn't make up for the fact that overall, this was a tremendously boring movie.   Prediction=> 0\n",
            "Only like 3 or 4 buildings used, a couple of locations MAYBE, & poor hummh!   Prediction=> 0\n",
            "Oh and I forgot to also mention the weird color effect it has on your phone. Prediction=> 1\n",
            "I'm not impressed with the concept or the food. Prediction=> 0\n",
            "Good food , good service . Prediction=> 1\n",
            "I loved it, it was really scary.   Prediction=> 1\n",
            "It isn't even an achievement as a \"so-bad-it's-good\" or \"so-bad-it's-memorable\" movie.   Prediction=> 0\n",
            "Ordered an appetizer and took 40 minutes and then the pizza another 10 minutes. Prediction=> 0\n",
            "This is a great little item. Prediction=> 1\n",
            "Does not charge the Cingular (ATT) 8525 phone. Prediction=> 0\n",
            "Nine out of ten for a truly lovely film.   Prediction=> 0\n",
            "Muddy, low quality sound, and the casing around the wire's insert was poorly super glued and slid off. Prediction=> 0\n",
            "I know he was a contract player with little control over his scripts, but the acting was as bad as the script.   Prediction=> 0\n",
            "The mic is great. Prediction=> 1\n",
            "This was my first time and I can't wait until the next. Prediction=> 1\n",
            "The service was terrible, food was mediocre. Prediction=> 0\n",
            "So I am here to warn you--DO NOT RENT THIS MOVIE, it is the dumbest thing you have never seen!   Prediction=> 0\n",
            "Totally different, with loads of understatement and black comedy, this is a film few get to see, but those who do will remember it.   Prediction=> 1\n",
            "The phone takes FOREVER to charge like 2 to 5 hours literally. Prediction=> 0\n",
            "Accuracy for the test dataset:  0.8360655737704918\n",
            "Accuracy for the X_test/sample prediction:  1.0\n"
          ]
        }
      ]
    },
    {
      "cell_type": "code",
      "source": [
        "print(\"Accuracy for the train dataset: \",pipe_countvect.score(X_train,y_train))"
      ],
      "metadata": {
        "colab": {
          "base_uri": "https://localhost:8080/"
        },
        "id": "aBSGhX0qMIlH",
        "outputId": "d6844a71-9840-48ff-9432-9625293b8467"
      },
      "execution_count": 50,
      "outputs": [
        {
          "output_type": "stream",
          "name": "stdout",
          "text": [
            "Accuracy for the train dataset:  0.9981785063752276\n"
          ]
        }
      ]
    }
  ]
}