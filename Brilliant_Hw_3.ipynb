{
  "cells": [
    {
      "cell_type": "markdown",
      "metadata": {
        "id": "view-in-github",
        "colab_type": "text"
      },
      "source": [
        "<a href=\"https://colab.research.google.com/github/DanB1421/DATA601/blob/main/Brilliant_Hw_3.ipynb\" target=\"_parent\"><img src=\"https://colab.research.google.com/assets/colab-badge.svg\" alt=\"Open In Colab\"/></a>"
      ]
    },
    {
      "cell_type": "markdown",
      "id": "54ddf1b6",
      "metadata": {
        "id": "54ddf1b6"
      },
      "source": [
        "## DATA 601 - Fall 2022\n",
        "### Homework Assignment 3\n",
        "Total points : (30 + 10)<br>\n",
        " Please provide your solutions into the cells provided after question cells. You can create new cells as needed. <br>"
      ]
    },
    {
      "cell_type": "markdown",
      "id": "bf049590",
      "metadata": {
        "id": "bf049590"
      },
      "source": [
        "The focus of this homework is on the Numpy and Pandas packages but the use of Scipy package is forbidden. Also, this homework deals with [matrix inverses](https://mathworld.wolfram.com/MatrixInverse.html) for the first two questions."
      ]
    },
    {
      "cell_type": "markdown",
      "id": "1c96965b",
      "metadata": {
        "id": "1c96965b"
      },
      "source": [
        "<b>Question 1:</b> [<span style=\"color: red;\">10 points</span>]<br>\n",
        "(i). Create a 16x14 array, which includes random integers from 1 to 20, name this array \"A\". print the array A.<br>\n",
        "(ii). Find all the numbers bigger than 11 and multiply them with 10, name this new array B.<br>\n",
        "(iii). Replace the element on the 2nd row, 3rd column of B, with -10.<br>\n",
        "(iv). Do $C = B^{T}B$, which is to multiply the B-transpose with matrix B and store in $C$.<br>\n",
        "(v). Calculate the inverse of this Matrix $C^{-1}$ with the <code>numpy.linalg.inv</code> function and store in <code>Cinv</code>. Display $\\|CC^{-1} - I\\|_{F}$  ($\\|.\\|_F$ is the default norm-type for matrices in <code>np.linalg.norm</code>) where $I$ is the Identity matrix of the appropriate size"
      ]
    },
    {
      "cell_type": "code",
      "execution_count": null,
      "id": "07f4dac7",
      "metadata": {
        "colab": {
          "base_uri": "https://localhost:8080/"
        },
        "id": "07f4dac7",
        "outputId": "de6b613e-0cb5-4dbc-a486-69b81e13032c"
      },
      "outputs": [
        {
          "output_type": "stream",
          "name": "stdout",
          "text": [
            "[[15 19  9  3 11  4 11  3 18  1  8  2  1  9]\n",
            " [10 16 14  3 11  4 12 14 10 16 19 13 18  9]\n",
            " [ 7 15  2  5 18  6 19  2 12 13  4 17 11  7]\n",
            " [17 19 12 15 16  2 13 19  6 18  9  8 13  2]\n",
            " [ 5 13 13 17 11 14 13 15 18 12 12  2  9 15]\n",
            " [ 2  8  6 10  2  6  9 19 14  8  1 12 18  9]\n",
            " [ 7 20 15 20 17 11  4 18  6  3 12  9  2  3]\n",
            " [10  1  3  5 15  5  2  9  9 16  7 12  2  2]\n",
            " [10  9 12  5  2 18  3 19  7  1 14 19  7 12]\n",
            " [18  5 19 16 10  5 18  5 20  1 16  2 13 12]\n",
            " [15 19 14 10  2  8  7 11 18 13 11 20 16  7]\n",
            " [11 12 19 19  6  7  9  3 11 20  2 10  1  2]\n",
            " [17 17  8 14  9 15 18 14  3 14  3  6 18  8]\n",
            " [20  4 17  2 13  8 13  1  9  3  3  1 10 13]\n",
            " [17  6  4 11 16  9 14 20 18  4 15  8 20  1]\n",
            " [16  7 17  2  7 15  4 18 20  1 18  7 11 17]]\n"
          ]
        }
      ],
      "source": [
        "#Your answers go here\n",
        "import numpy as np # import numpy package\n",
        "\n",
        "A = np.random.randint(1,21,(16,14)) # places random integers between 1-20 into a 16 x 14 matrix and stores in variable A\n",
        "\n",
        "print(A) # displays matrix A"
      ]
    },
    {
      "cell_type": "code",
      "source": [
        "B = np.copy(A) # copies matrix A into variable B\n",
        "for i in range(len(A)):\n",
        "    for j in range(len(A[0])):\n",
        "        if A[i,j]>11:\n",
        "            B[i,j] = 10*A[i,j] # finds all numbers in matrix B that are greater than 11 and multiplies them by 10\n",
        "print(B) # displays matrix B"
      ],
      "metadata": {
        "colab": {
          "base_uri": "https://localhost:8080/"
        },
        "id": "ShDb93n-gshP",
        "outputId": "b0cabf15-7116-4fa8-8a5d-8dacfbe7d0f9"
      },
      "id": "ShDb93n-gshP",
      "execution_count": null,
      "outputs": [
        {
          "output_type": "stream",
          "name": "stdout",
          "text": [
            "[[150 190   9   3  11   4  11   3 180   1   8   2   1   9]\n",
            " [ 10 160 140   3  11   4 120 140  10 160 190 130 180   9]\n",
            " [  7 150   2   5 180   6 190   2 120 130   4 170  11   7]\n",
            " [170 190 120 150 160   2 130 190   6 180   9   8 130   2]\n",
            " [  5 130 130 170  11 140 130 150 180 120 120   2   9 150]\n",
            " [  2   8   6  10   2   6   9 190 140   8   1 120 180   9]\n",
            " [  7 200 150 200 170  11   4 180   6   3 120   9   2   3]\n",
            " [ 10   1   3   5 150   5   2   9   9 160   7 120   2   2]\n",
            " [ 10   9 120   5   2 180   3 190   7   1 140 190   7 120]\n",
            " [180   5 190 160  10   5 180   5 200   1 160   2 130 120]\n",
            " [150 190 140  10   2   8   7  11 180 130  11 200 160   7]\n",
            " [ 11 120 190 190   6   7   9   3  11 200   2  10   1   2]\n",
            " [170 170   8 140   9 150 180 140   3 140   3   6 180   8]\n",
            " [200   4 170   2 130   8 130   1   9   3   3   1  10 130]\n",
            " [170   6   4  11 160   9 140 200 180   4 150   8 200   1]\n",
            " [160   7 170   2   7 150   4 180 200   1 180   7  11 170]]\n"
          ]
        }
      ]
    },
    {
      "cell_type": "code",
      "source": [
        "B[1,2] = -10 # replaces the value in the second row and third column of matrix B with -10\n",
        "print(B) # displays matrix B"
      ],
      "metadata": {
        "colab": {
          "base_uri": "https://localhost:8080/"
        },
        "id": "LjgRLwSAinb9",
        "outputId": "f7847f58-0c1f-4d40-c2a0-0f525bbd6a77"
      },
      "id": "LjgRLwSAinb9",
      "execution_count": null,
      "outputs": [
        {
          "output_type": "stream",
          "name": "stdout",
          "text": [
            "[[150 190   9   3  11   4  11   3 180   1   8   2   1   9]\n",
            " [ 10 160 -10   3  11   4 120 140  10 160 190 130 180   9]\n",
            " [  7 150   2   5 180   6 190   2 120 130   4 170  11   7]\n",
            " [170 190 120 150 160   2 130 190   6 180   9   8 130   2]\n",
            " [  5 130 130 170  11 140 130 150 180 120 120   2   9 150]\n",
            " [  2   8   6  10   2   6   9 190 140   8   1 120 180   9]\n",
            " [  7 200 150 200 170  11   4 180   6   3 120   9   2   3]\n",
            " [ 10   1   3   5 150   5   2   9   9 160   7 120   2   2]\n",
            " [ 10   9 120   5   2 180   3 190   7   1 140 190   7 120]\n",
            " [180   5 190 160  10   5 180   5 200   1 160   2 130 120]\n",
            " [150 190 140  10   2   8   7  11 180 130  11 200 160   7]\n",
            " [ 11 120 190 190   6   7   9   3  11 200   2  10   1   2]\n",
            " [170 170   8 140   9 150 180 140   3 140   3   6 180   8]\n",
            " [200   4 170   2 130   8 130   1   9   3   3   1  10 130]\n",
            " [170   6   4  11 160   9 140 200 180   4 150   8 200   1]\n",
            " [160   7 170   2   7 150   4 180 200   1 180   7  11 170]]\n"
          ]
        }
      ]
    },
    {
      "cell_type": "code",
      "source": [
        "C = np.dot(B.T,B) # finds the product of matrix B's transpose and matrix B, stores in variable C"
      ],
      "metadata": {
        "id": "FRkCEdlSi6wM"
      },
      "id": "FRkCEdlSi6wM",
      "execution_count": null,
      "outputs": []
    },
    {
      "cell_type": "code",
      "source": [
        "Cinv = np.linalg.inv(C) # finds the inverse of matrix C and stores in variable Cinv\n",
        "CCinv = np.dot(C,Cinv) # finds the product of matrix C and its inverse and stores in variable CCinv\n",
        "IforC = np.identity(14) # produces the 14 x 14 identity matrix and stores in variable IforC\n",
        "Cnorm = np.linalg.norm(CCinv - IforC) # finds the normal of the difference between CCinv and IforC and stores in variable Cnorm\n",
        "print(Cnorm) # displays Cnorm"
      ],
      "metadata": {
        "colab": {
          "base_uri": "https://localhost:8080/"
        },
        "id": "riPQOtlnpSQg",
        "outputId": "e08f7b22-8d78-46fe-85f0-4eef47e6ccba"
      },
      "id": "riPQOtlnpSQg",
      "execution_count": null,
      "outputs": [
        {
          "output_type": "stream",
          "name": "stdout",
          "text": [
            "2.8669178182621655e-14\n"
          ]
        }
      ]
    },
    {
      "cell_type": "markdown",
      "id": "5eb2922c",
      "metadata": {
        "id": "5eb2922c"
      },
      "source": [
        "<b>Question 2:</b> [<span style=\"color: red;\">10 points</span>]<br> Given a Matrix $Y$, we can partition it into $A$, $B$, $C$ and $D$; the top-left, top-right, bottom-left and bottom-right block matrices respectively.\n",
        "\n",
        "$\\displaystyle {Y = \\begin{bmatrix}\\mathbf {A} &\\mathbf {B} \\\\\\mathbf {C} &\\mathbf {D} \\end{bmatrix}}$\n",
        "\n",
        "You need to calculate $Y^{-1}$ (the inverse) using the following block formulation.\n",
        "\n",
        "\n",
        "${\\displaystyle {Y^{-1} = \\begin{bmatrix}\\mathbf {A} &\\mathbf {B} \\\\\\mathbf {C} &\\mathbf {D} \\end{bmatrix}}^{-1}={\\begin{bmatrix}\\mathbf {A} ^{-1}+\\mathbf {A} ^{-1}\\mathbf {B} \\left(\\mathbf {D} -\\mathbf {CA} ^{-1}\\mathbf {B} \\right)^{-1}\\mathbf {CA} ^{-1}&-\\mathbf {A} ^{-1}\\mathbf {B} \\left(\\mathbf {D} -\\mathbf {CA} ^{-1}\\mathbf {B} \\right)^{-1}\\\\-\\left(\\mathbf {D} -\\mathbf {CA} ^{-1}\\mathbf {B} \\right)^{-1}\\mathbf {CA} ^{-1}&\\left(\\mathbf {D} -\\mathbf {CA} ^{-1}\\mathbf {B} \\right)^{-1}\\end{bmatrix}},}$\n",
        "\n",
        "Do not use <code>np.linalg.inv</code> function directly on $Y$ (But you are allowed to use it for on the block matrix computations shown on the RHS of the equation above). For our case, $Y$ is a $16 \\times 16$ matrix and $A$, $B$, $C$ and $D$ are smaller $8 \\times 8$ matrices. You need to access $Y$ from the <code>Y_matrix.npy</code> file\n",
        "\n",
        "After you compute $Y^{-1}$ using the formulation above, Calculate the norm $\\|YY^{-1} - I\\|_{F}$. This value should be at least $< 10^{-8}$"
      ]
    },
    {
      "cell_type": "code",
      "execution_count": null,
      "id": "ac90275b",
      "metadata": {
        "id": "ac90275b"
      },
      "outputs": [],
      "source": [
        "#Your answers go here\n",
        "Y = np.load('Y_matrix.npy') # Loads Y matrix file into variable Y\n",
        "\n",
        "Ysplit = np.vsplit(Y, 2) # Splits Y matrix into two block matrices, with th first 8 rows as the first block matrix and the last 8 rows as the second block matrix, stores in variable Ysplit\n",
        "\n",
        "AB = Ysplit[0] # Defines the block matrix containing the first 8 rows of Y from Ysplit as AB\n",
        "CD = Ysplit[1] # Defines the block matrix containing the last 8 rows of Y from Ysplit as CD\n",
        "\n",
        "ABsplit = np.hsplit(AB, 2) # Splits AB matrix by columns into two block matrices, one containing the first 8 columns and the other containing the last 8 columns, stores in variable ABsplit\n",
        "CDsplit = np.hsplit(CD, 2) # Splits CD matrix by columns into two block matrices, one containing the first 8 columns and the other containing the last 8 columns, stores in variable CDsplit\n",
        "\n",
        "A = ABsplit[0] # defines block matrix A as the first block matrix from ABsplit (first 8 columns)\n",
        "\n",
        "B = ABsplit[1] # defines block matrix B as the second block matrix from ABsplit (last 8 columns)\n",
        "\n",
        "C = CDsplit[0] # defines block matrix C as the first block matrix from CDsplit (first 8 columns)\n",
        "\n",
        "D = CDsplit[1] # defines block matrix D as the first block matrix from CDsplit (last 8 columns)"
      ]
    },
    {
      "cell_type": "code",
      "source": [
        "Ainv = np.linalg.inv(A) # finds the inverse of block matrix A to produce Ainv matrix\n",
        "\n",
        "Term1 = np.dot(Ainv, B) # provides the product of Ainv and B as variable Term1\n",
        "Term2 = np.dot(C, Ainv) # provides the product of C and Ainv as variable Term2\n",
        "Term3 = np.dot(Term2, B) # provides the product of CAinv and B as variable Term3\n",
        "Term4 = D - Term3 # provides the difference between D and CAinvB as variable Term4\n",
        "\n",
        "YinvD = np.linalg.inv(Term4) # provides the inverse of Term4 (D - CAinvB) as the D block matrix for Yinv, YinvD\n",
        "\n",
        "Term5 = np.dot(YinvD, Term2) # provides the product of YinvD and Term2 (CAinv) as variable Term5\n",
        "\n",
        "YinvC = np.negative(Term5) # provides the negative of Term5 (inverse[D-CAinvB]*CAinv) as the C block matrix for Yinv, YinvC\n",
        "\n",
        "Term6 = np.dot(Term1, YinvD) # provides the product of Term1 (AinvB) and YinvD as variable Term6\n",
        "\n",
        "YinvB = np.negative(Term6) # provides the negative of Term6 (AinvB*inverse[D-CAinvB]) as the B block matrix for Yinv, YinvB\n",
        "\n",
        "Term7 = np.dot(Term6, Term2) # provides the product of Term6 (AinvB*inverse[D - CAinvB]) and Term2 (CAinv) as variable Term7\n",
        "\n",
        "YinvA = Ainv + Term7 # provides the sum of Ainv and Term7 (AinvB*inverse[D - CAinvB]*CAinv) as the A block matrix fo Yinv, YinvA\n",
        "\n",
        "Yinv = np.block([\n",
        "    [YinvA, YinvB],\n",
        "    [YinvC, YinvD]\n",
        "])                   # creates the matrix Yinv from block matrices YinvA, YinvB, YinvC, and YinvD"
      ],
      "metadata": {
        "id": "BUXOBl2_0I95"
      },
      "id": "BUXOBl2_0I95",
      "execution_count": null,
      "outputs": []
    },
    {
      "cell_type": "code",
      "source": [
        "YYinv = np.dot(Y, Yinv) # finds the product of Y and Yinv matrices and stores in variable YYinv\n",
        "IforY = np.identity(16) # produces the 16 x 16 identity matrix and stores in variable IforY\n",
        "Ynorm = np.linalg.norm(YYinv - IforY) # finds the normal of the difference betweeen YYinv and IforY and stores in variable Ynorm\n",
        "print(Ynorm) # displays Ynorm"
      ],
      "metadata": {
        "colab": {
          "base_uri": "https://localhost:8080/"
        },
        "id": "rPiq46E5B21e",
        "outputId": "bf78435b-b78b-4aba-c2a7-61ac573a7f05"
      },
      "id": "rPiq46E5B21e",
      "execution_count": null,
      "outputs": [
        {
          "output_type": "stream",
          "name": "stdout",
          "text": [
            "3.4399043292382675e-10\n"
          ]
        }
      ]
    },
    {
      "cell_type": "markdown",
      "id": "338425c6",
      "metadata": {
        "id": "338425c6"
      },
      "source": [
        "<b>Question 3:</b> [<span style=\"color: red;\">10 points</span>]:<br>\n",
        "Consider a pandas dataframe called <code>student_df</code> that stores points (or marks) for Homework 1 to 4, Midterms and Finals (we are assuming all points are out of 100). The above categories would be the columns and the student names (first and last name in one string) should be the row index. View <code>example_df.png</code> for reference.<br>\n",
        "\n",
        "You need to create the above dataframe <code>student_df</code> with random integer values between 50 and 100 for each cell in the dataframe for 10 students. The row index of the dataframe need to be created by using the <code>names</code> package, generating 10 first names and 10 last names and combining the respective first name and last name into a single string (full name). Save the dataframe as a csv file."
      ]
    },
    {
      "cell_type": "code",
      "source": [
        "!pip install names # Installs names package"
      ],
      "metadata": {
        "colab": {
          "base_uri": "https://localhost:8080/"
        },
        "id": "MZvlzPR2Wq-V",
        "outputId": "9f13525b-d101-4580-a8e3-beeeabdbea4c"
      },
      "id": "MZvlzPR2Wq-V",
      "execution_count": null,
      "outputs": [
        {
          "output_type": "stream",
          "name": "stdout",
          "text": [
            "Looking in indexes: https://pypi.org/simple, https://us-python.pkg.dev/colab-wheels/public/simple/\n",
            "Requirement already satisfied: names in /usr/local/lib/python3.7/dist-packages (0.3.0)\n"
          ]
        }
      ]
    },
    {
      "cell_type": "code",
      "execution_count": null,
      "id": "e52ca14a",
      "metadata": {
        "colab": {
          "base_uri": "https://localhost:8080/"
        },
        "id": "e52ca14a",
        "outputId": "d9694d3a-1fc8-4393-882e-530e24f7258b"
      },
      "outputs": [
        {
          "output_type": "stream",
          "name": "stdout",
          "text": [
            "['Sandra Heller', 'James Atkinson', 'Emma Gifford', 'Kent Chambers', 'Janet Gaden', 'Edgar Girdley', 'Taylor Busi', 'Patricia Garrick', 'Christine Dyer', 'Maria Almaraz']\n"
          ]
        }
      ],
      "source": [
        "#Your answers go here\n",
        "import pandas as pd # imports pandas package\n",
        "\n",
        "import names # imports names package\n",
        "\n",
        "fname = []\n",
        "\n",
        "for i in range(10):\n",
        "    firstname = names.get_first_name()\n",
        "    fname.append(firstname) # produces list of 10 first names\n",
        "\n",
        "lname = []\n",
        "\n",
        "for i in range(10):\n",
        "    lastname = names.get_last_name()\n",
        "    lname.append(lastname) # produces list of 10 last names\n",
        "\n",
        "fullname = [' '.join(name) for name in zip(fname,lname)] # joins list of first and last names into list of full names\n",
        "\n",
        "print(fullname)"
      ]
    },
    {
      "cell_type": "code",
      "source": [
        "HW1grades = []\n",
        "\n",
        "for i in range(10):\n",
        "    HW1grade = np.random.randint(50,101)\n",
        "    HW1grades.append(HW1grade) # produces grades between 50 and 100 for HW1\n",
        "\n",
        "HW2grades = []\n",
        "\n",
        "for i in range(10):\n",
        "    HW2grade = np.random.randint(50,101)\n",
        "    HW2grades.append(HW2grade) # produces grades between 50 and 100 for HW2\n",
        "\n",
        "HW3grades = []\n",
        "\n",
        "for i in range(10):\n",
        "    HW3grade = np.random.randint(50,101)\n",
        "    HW3grades.append(HW3grade) # produces grades between 50 and 100 for HW3\n",
        "\n",
        "HW4grades = []\n",
        "\n",
        "for i in range(10):\n",
        "    HW4grade = np.random.randint(50,101)\n",
        "    HW4grades.append(HW4grade) # produces grades between 50 and 100 for HW4\n",
        "\n",
        "MidtermGrades = []\n",
        "\n",
        "for i in range(10):\n",
        "    MidtermGrade = np.random.randint(50,101)\n",
        "    MidtermGrades.append(MidtermGrade) # produces grades between 50 and 100 for Midterm\n",
        "\n",
        "FinalGrades = []\n",
        "\n",
        "for i in range(10):\n",
        "    FinalGrade = np.random.randint(50,101)\n",
        "    FinalGrades.append(FinalGrade) # produces grades between 50 and 100 for Final\n",
        "\n",
        "print(HW1grades)\n",
        "print(HW2grades)\n",
        "print(HW3grades)\n",
        "print(HW4grades)\n",
        "print(MidtermGrades)\n",
        "print(FinalGrades)"
      ],
      "metadata": {
        "colab": {
          "base_uri": "https://localhost:8080/"
        },
        "id": "ZVBgvmE8XsAV",
        "outputId": "e003c15b-2c44-4178-f680-fec1f26ecb50"
      },
      "id": "ZVBgvmE8XsAV",
      "execution_count": null,
      "outputs": [
        {
          "output_type": "stream",
          "name": "stdout",
          "text": [
            "[91, 55, 63, 78, 64, 58, 86, 66, 75, 97]\n",
            "[61, 89, 91, 63, 55, 89, 56, 88, 76, 50]\n",
            "[85, 64, 50, 84, 64, 55, 80, 63, 53, 70]\n",
            "[97, 89, 91, 50, 51, 89, 91, 66, 96, 70]\n",
            "[57, 70, 55, 82, 87, 66, 68, 66, 100, 59]\n",
            "[96, 77, 80, 89, 78, 84, 69, 63, 78, 86]\n"
          ]
        }
      ]
    },
    {
      "cell_type": "code",
      "source": [
        "HW1_dict = {fullname[i]: HW1grades[i] for i in range(len(fullname))} # produces dictionary of student names and grades for HW1\n",
        "HW1 = pd.Series(HW1_dict) # produces series from dictionary of student names and grades for HW1\n",
        "\n",
        "HW2_dict = {fullname[i]: HW2grades[i] for i in range(len(fullname))} # produces dictionary of student names and grades for HW2\n",
        "HW2 = pd.Series(HW2_dict) # produces series from dictionary of student names and grades for HW2\n",
        "\n",
        "HW3_dict = {fullname[i]: HW3grades[i] for i in range(len(fullname))} # produces dictionary of student names and grades for HW3\n",
        "HW3 = pd.Series(HW3_dict) # produces series from dictionary of student names and grades for HW3\n",
        "\n",
        "HW4_dict = {fullname[i]: HW4grades[i] for i in range(len(fullname))} # produces dictionary of student names and grades for HW4\n",
        "HW4 = pd.Series(HW4_dict) # produces series from dictionary of student names and grades for HW4\n",
        "\n",
        "Midterm_dict = {fullname[i]: MidtermGrades[i] for i in range(len(fullname))} # produces dictionary of student names and grades for Midterm\n",
        "Midterms = pd.Series(Midterm_dict) # produces series from dictionary of student names and grades for Midterm\n",
        "\n",
        "Final_dict = {fullname[i]: FinalGrades[i] for i in range(len(fullname))} # produces dictionary of student names and grades for Final\n",
        "Finals = pd.Series(Final_dict) # produces series from dictionary of student names and grades for Final\n",
        "\n",
        "student_df = pd.DataFrame({'HW 1': HW1,\n",
        "                           'HW 2': HW2,\n",
        "                           'HW 3': HW3,\n",
        "                           'HW 4': HW4,\n",
        "                           'Midterms': Midterms,\n",
        "                           'Finals': Finals}) # produces dataframe from the set of series HW1, HW2, HW3, HW4, Midterms, and Finals\n",
        "\n",
        "student_df # displays dataframe\n"
      ],
      "metadata": {
        "colab": {
          "base_uri": "https://localhost:8080/",
          "height": 363
        },
        "id": "LDUIe4tCHtKp",
        "outputId": "4b8c7daa-17a5-418d-9ad5-ce9f57177a61"
      },
      "id": "LDUIe4tCHtKp",
      "execution_count": null,
      "outputs": [
        {
          "output_type": "execute_result",
          "data": {
            "text/plain": [
              "                  HW 1  HW 2  HW 3  HW 4  Midterms  Finals\n",
              "Sandra Heller       91    61    85    97        57      96\n",
              "James Atkinson      55    89    64    89        70      77\n",
              "Emma Gifford        63    91    50    91        55      80\n",
              "Kent Chambers       78    63    84    50        82      89\n",
              "Janet Gaden         64    55    64    51        87      78\n",
              "Edgar Girdley       58    89    55    89        66      84\n",
              "Taylor Busi         86    56    80    91        68      69\n",
              "Patricia Garrick    66    88    63    66        66      63\n",
              "Christine Dyer      75    76    53    96       100      78\n",
              "Maria Almaraz       97    50    70    70        59      86"
            ],
            "text/html": [
              "\n",
              "  <div id=\"df-10970c3f-e73b-459d-b708-bf187bc43820\">\n",
              "    <div class=\"colab-df-container\">\n",
              "      <div>\n",
              "<style scoped>\n",
              "    .dataframe tbody tr th:only-of-type {\n",
              "        vertical-align: middle;\n",
              "    }\n",
              "\n",
              "    .dataframe tbody tr th {\n",
              "        vertical-align: top;\n",
              "    }\n",
              "\n",
              "    .dataframe thead th {\n",
              "        text-align: right;\n",
              "    }\n",
              "</style>\n",
              "<table border=\"1\" class=\"dataframe\">\n",
              "  <thead>\n",
              "    <tr style=\"text-align: right;\">\n",
              "      <th></th>\n",
              "      <th>HW 1</th>\n",
              "      <th>HW 2</th>\n",
              "      <th>HW 3</th>\n",
              "      <th>HW 4</th>\n",
              "      <th>Midterms</th>\n",
              "      <th>Finals</th>\n",
              "    </tr>\n",
              "  </thead>\n",
              "  <tbody>\n",
              "    <tr>\n",
              "      <th>Sandra Heller</th>\n",
              "      <td>91</td>\n",
              "      <td>61</td>\n",
              "      <td>85</td>\n",
              "      <td>97</td>\n",
              "      <td>57</td>\n",
              "      <td>96</td>\n",
              "    </tr>\n",
              "    <tr>\n",
              "      <th>James Atkinson</th>\n",
              "      <td>55</td>\n",
              "      <td>89</td>\n",
              "      <td>64</td>\n",
              "      <td>89</td>\n",
              "      <td>70</td>\n",
              "      <td>77</td>\n",
              "    </tr>\n",
              "    <tr>\n",
              "      <th>Emma Gifford</th>\n",
              "      <td>63</td>\n",
              "      <td>91</td>\n",
              "      <td>50</td>\n",
              "      <td>91</td>\n",
              "      <td>55</td>\n",
              "      <td>80</td>\n",
              "    </tr>\n",
              "    <tr>\n",
              "      <th>Kent Chambers</th>\n",
              "      <td>78</td>\n",
              "      <td>63</td>\n",
              "      <td>84</td>\n",
              "      <td>50</td>\n",
              "      <td>82</td>\n",
              "      <td>89</td>\n",
              "    </tr>\n",
              "    <tr>\n",
              "      <th>Janet Gaden</th>\n",
              "      <td>64</td>\n",
              "      <td>55</td>\n",
              "      <td>64</td>\n",
              "      <td>51</td>\n",
              "      <td>87</td>\n",
              "      <td>78</td>\n",
              "    </tr>\n",
              "    <tr>\n",
              "      <th>Edgar Girdley</th>\n",
              "      <td>58</td>\n",
              "      <td>89</td>\n",
              "      <td>55</td>\n",
              "      <td>89</td>\n",
              "      <td>66</td>\n",
              "      <td>84</td>\n",
              "    </tr>\n",
              "    <tr>\n",
              "      <th>Taylor Busi</th>\n",
              "      <td>86</td>\n",
              "      <td>56</td>\n",
              "      <td>80</td>\n",
              "      <td>91</td>\n",
              "      <td>68</td>\n",
              "      <td>69</td>\n",
              "    </tr>\n",
              "    <tr>\n",
              "      <th>Patricia Garrick</th>\n",
              "      <td>66</td>\n",
              "      <td>88</td>\n",
              "      <td>63</td>\n",
              "      <td>66</td>\n",
              "      <td>66</td>\n",
              "      <td>63</td>\n",
              "    </tr>\n",
              "    <tr>\n",
              "      <th>Christine Dyer</th>\n",
              "      <td>75</td>\n",
              "      <td>76</td>\n",
              "      <td>53</td>\n",
              "      <td>96</td>\n",
              "      <td>100</td>\n",
              "      <td>78</td>\n",
              "    </tr>\n",
              "    <tr>\n",
              "      <th>Maria Almaraz</th>\n",
              "      <td>97</td>\n",
              "      <td>50</td>\n",
              "      <td>70</td>\n",
              "      <td>70</td>\n",
              "      <td>59</td>\n",
              "      <td>86</td>\n",
              "    </tr>\n",
              "  </tbody>\n",
              "</table>\n",
              "</div>\n",
              "      <button class=\"colab-df-convert\" onclick=\"convertToInteractive('df-10970c3f-e73b-459d-b708-bf187bc43820')\"\n",
              "              title=\"Convert this dataframe to an interactive table.\"\n",
              "              style=\"display:none;\">\n",
              "        \n",
              "  <svg xmlns=\"http://www.w3.org/2000/svg\" height=\"24px\"viewBox=\"0 0 24 24\"\n",
              "       width=\"24px\">\n",
              "    <path d=\"M0 0h24v24H0V0z\" fill=\"none\"/>\n",
              "    <path d=\"M18.56 5.44l.94 2.06.94-2.06 2.06-.94-2.06-.94-.94-2.06-.94 2.06-2.06.94zm-11 1L8.5 8.5l.94-2.06 2.06-.94-2.06-.94L8.5 2.5l-.94 2.06-2.06.94zm10 10l.94 2.06.94-2.06 2.06-.94-2.06-.94-.94-2.06-.94 2.06-2.06.94z\"/><path d=\"M17.41 7.96l-1.37-1.37c-.4-.4-.92-.59-1.43-.59-.52 0-1.04.2-1.43.59L10.3 9.45l-7.72 7.72c-.78.78-.78 2.05 0 2.83L4 21.41c.39.39.9.59 1.41.59.51 0 1.02-.2 1.41-.59l7.78-7.78 2.81-2.81c.8-.78.8-2.07 0-2.86zM5.41 20L4 18.59l7.72-7.72 1.47 1.35L5.41 20z\"/>\n",
              "  </svg>\n",
              "      </button>\n",
              "      \n",
              "  <style>\n",
              "    .colab-df-container {\n",
              "      display:flex;\n",
              "      flex-wrap:wrap;\n",
              "      gap: 12px;\n",
              "    }\n",
              "\n",
              "    .colab-df-convert {\n",
              "      background-color: #E8F0FE;\n",
              "      border: none;\n",
              "      border-radius: 50%;\n",
              "      cursor: pointer;\n",
              "      display: none;\n",
              "      fill: #1967D2;\n",
              "      height: 32px;\n",
              "      padding: 0 0 0 0;\n",
              "      width: 32px;\n",
              "    }\n",
              "\n",
              "    .colab-df-convert:hover {\n",
              "      background-color: #E2EBFA;\n",
              "      box-shadow: 0px 1px 2px rgba(60, 64, 67, 0.3), 0px 1px 3px 1px rgba(60, 64, 67, 0.15);\n",
              "      fill: #174EA6;\n",
              "    }\n",
              "\n",
              "    [theme=dark] .colab-df-convert {\n",
              "      background-color: #3B4455;\n",
              "      fill: #D2E3FC;\n",
              "    }\n",
              "\n",
              "    [theme=dark] .colab-df-convert:hover {\n",
              "      background-color: #434B5C;\n",
              "      box-shadow: 0px 1px 3px 1px rgba(0, 0, 0, 0.15);\n",
              "      filter: drop-shadow(0px 1px 2px rgba(0, 0, 0, 0.3));\n",
              "      fill: #FFFFFF;\n",
              "    }\n",
              "  </style>\n",
              "\n",
              "      <script>\n",
              "        const buttonEl =\n",
              "          document.querySelector('#df-10970c3f-e73b-459d-b708-bf187bc43820 button.colab-df-convert');\n",
              "        buttonEl.style.display =\n",
              "          google.colab.kernel.accessAllowed ? 'block' : 'none';\n",
              "\n",
              "        async function convertToInteractive(key) {\n",
              "          const element = document.querySelector('#df-10970c3f-e73b-459d-b708-bf187bc43820');\n",
              "          const dataTable =\n",
              "            await google.colab.kernel.invokeFunction('convertToInteractive',\n",
              "                                                     [key], {});\n",
              "          if (!dataTable) return;\n",
              "\n",
              "          const docLinkHtml = 'Like what you see? Visit the ' +\n",
              "            '<a target=\"_blank\" href=https://colab.research.google.com/notebooks/data_table.ipynb>data table notebook</a>'\n",
              "            + ' to learn more about interactive tables.';\n",
              "          element.innerHTML = '';\n",
              "          dataTable['output_type'] = 'display_data';\n",
              "          await google.colab.output.renderOutput(dataTable, element);\n",
              "          const docLink = document.createElement('div');\n",
              "          docLink.innerHTML = docLinkHtml;\n",
              "          element.appendChild(docLink);\n",
              "        }\n",
              "      </script>\n",
              "    </div>\n",
              "  </div>\n",
              "  "
            ]
          },
          "metadata": {},
          "execution_count": 46
        }
      ]
    },
    {
      "cell_type": "code",
      "source": [
        "student_df.to_csv('student_df.csv') # saves dataframe as CSV"
      ],
      "metadata": {
        "id": "uYk76ajDe_Mc"
      },
      "id": "uYk76ajDe_Mc",
      "execution_count": null,
      "outputs": []
    },
    {
      "cell_type": "markdown",
      "id": "f7ed72f1",
      "metadata": {
        "id": "f7ed72f1"
      },
      "source": [
        "[BONUS QUESTION] <b>Question 3(a):</b> [<span style=\"color: red;\">10 points</span>]: From the dataframe <code>student_df</code>, calculate and display the average (mean) score for each student (i.e for each row) and for each categories (i.e for each column). Create <code>student_df2</code>  by copying <code>student_df</code>. In <code>student_df2</code> add a column called Average that contains the average score of all students. Finally, sort by value for the Average column."
      ]
    },
    {
      "cell_type": "code",
      "execution_count": null,
      "id": "d17b6281",
      "metadata": {
        "colab": {
          "base_uri": "https://localhost:8080/"
        },
        "id": "d17b6281",
        "outputId": "ffbf7c17-8b8a-4abb-fa5f-e70d82041dfc"
      },
      "outputs": [
        {
          "output_type": "execute_result",
          "data": {
            "text/plain": [
              "Sandra Heller       81.166667\n",
              "James Atkinson      74.000000\n",
              "Emma Gifford        71.666667\n",
              "Kent Chambers       74.333333\n",
              "Janet Gaden         66.500000\n",
              "Edgar Girdley       73.500000\n",
              "Taylor Busi         75.000000\n",
              "Patricia Garrick    68.666667\n",
              "Christine Dyer      79.666667\n",
              "Maria Almaraz       72.000000\n",
              "dtype: float64"
            ]
          },
          "metadata": {},
          "execution_count": 48
        }
      ],
      "source": [
        "#Your answers go here\n",
        "student_df.mean(1) # finds the average grade of each student"
      ]
    },
    {
      "cell_type": "code",
      "source": [
        "student_df.mean() # finds the average grade of each assignment"
      ],
      "metadata": {
        "colab": {
          "base_uri": "https://localhost:8080/"
        },
        "id": "MKNV-ihKeqBh",
        "outputId": "1cc9693d-6cfd-47d5-ebf1-77c4a6b10d0f"
      },
      "id": "MKNV-ihKeqBh",
      "execution_count": null,
      "outputs": [
        {
          "output_type": "execute_result",
          "data": {
            "text/plain": [
              "HW 1        73.3\n",
              "HW 2        71.8\n",
              "HW 3        66.8\n",
              "HW 4        79.0\n",
              "Midterms    71.0\n",
              "Finals      80.0\n",
              "dtype: float64"
            ]
          },
          "metadata": {},
          "execution_count": 49
        }
      ]
    },
    {
      "cell_type": "code",
      "source": [
        "student_df2 = student_df.copy() # produces a copy of the student_df dataframe stored in student_df2\n",
        "student_df2['Average'] = pd.Series(student_df.mean(1)) # produces a new column in student_df2 derived from the average scores of each student\n",
        "student_df2.sort_values(by='Average', axis=0) # arranges the data frame by the average column"
      ],
      "metadata": {
        "colab": {
          "base_uri": "https://localhost:8080/",
          "height": 363
        },
        "id": "HeiPtaA3fWJi",
        "outputId": "d0211f4e-92af-4909-be94-6f011ff7757b"
      },
      "id": "HeiPtaA3fWJi",
      "execution_count": null,
      "outputs": [
        {
          "output_type": "execute_result",
          "data": {
            "text/plain": [
              "                  HW 1  HW 2  HW 3  HW 4  Midterms  Finals    Average\n",
              "Janet Gaden         64    55    64    51        87      78  66.500000\n",
              "Patricia Garrick    66    88    63    66        66      63  68.666667\n",
              "Emma Gifford        63    91    50    91        55      80  71.666667\n",
              "Maria Almaraz       97    50    70    70        59      86  72.000000\n",
              "Edgar Girdley       58    89    55    89        66      84  73.500000\n",
              "James Atkinson      55    89    64    89        70      77  74.000000\n",
              "Kent Chambers       78    63    84    50        82      89  74.333333\n",
              "Taylor Busi         86    56    80    91        68      69  75.000000\n",
              "Christine Dyer      75    76    53    96       100      78  79.666667\n",
              "Sandra Heller       91    61    85    97        57      96  81.166667"
            ],
            "text/html": [
              "\n",
              "  <div id=\"df-3cd5897a-4a77-40fc-94ff-97fbe2a034d3\">\n",
              "    <div class=\"colab-df-container\">\n",
              "      <div>\n",
              "<style scoped>\n",
              "    .dataframe tbody tr th:only-of-type {\n",
              "        vertical-align: middle;\n",
              "    }\n",
              "\n",
              "    .dataframe tbody tr th {\n",
              "        vertical-align: top;\n",
              "    }\n",
              "\n",
              "    .dataframe thead th {\n",
              "        text-align: right;\n",
              "    }\n",
              "</style>\n",
              "<table border=\"1\" class=\"dataframe\">\n",
              "  <thead>\n",
              "    <tr style=\"text-align: right;\">\n",
              "      <th></th>\n",
              "      <th>HW 1</th>\n",
              "      <th>HW 2</th>\n",
              "      <th>HW 3</th>\n",
              "      <th>HW 4</th>\n",
              "      <th>Midterms</th>\n",
              "      <th>Finals</th>\n",
              "      <th>Average</th>\n",
              "    </tr>\n",
              "  </thead>\n",
              "  <tbody>\n",
              "    <tr>\n",
              "      <th>Janet Gaden</th>\n",
              "      <td>64</td>\n",
              "      <td>55</td>\n",
              "      <td>64</td>\n",
              "      <td>51</td>\n",
              "      <td>87</td>\n",
              "      <td>78</td>\n",
              "      <td>66.500000</td>\n",
              "    </tr>\n",
              "    <tr>\n",
              "      <th>Patricia Garrick</th>\n",
              "      <td>66</td>\n",
              "      <td>88</td>\n",
              "      <td>63</td>\n",
              "      <td>66</td>\n",
              "      <td>66</td>\n",
              "      <td>63</td>\n",
              "      <td>68.666667</td>\n",
              "    </tr>\n",
              "    <tr>\n",
              "      <th>Emma Gifford</th>\n",
              "      <td>63</td>\n",
              "      <td>91</td>\n",
              "      <td>50</td>\n",
              "      <td>91</td>\n",
              "      <td>55</td>\n",
              "      <td>80</td>\n",
              "      <td>71.666667</td>\n",
              "    </tr>\n",
              "    <tr>\n",
              "      <th>Maria Almaraz</th>\n",
              "      <td>97</td>\n",
              "      <td>50</td>\n",
              "      <td>70</td>\n",
              "      <td>70</td>\n",
              "      <td>59</td>\n",
              "      <td>86</td>\n",
              "      <td>72.000000</td>\n",
              "    </tr>\n",
              "    <tr>\n",
              "      <th>Edgar Girdley</th>\n",
              "      <td>58</td>\n",
              "      <td>89</td>\n",
              "      <td>55</td>\n",
              "      <td>89</td>\n",
              "      <td>66</td>\n",
              "      <td>84</td>\n",
              "      <td>73.500000</td>\n",
              "    </tr>\n",
              "    <tr>\n",
              "      <th>James Atkinson</th>\n",
              "      <td>55</td>\n",
              "      <td>89</td>\n",
              "      <td>64</td>\n",
              "      <td>89</td>\n",
              "      <td>70</td>\n",
              "      <td>77</td>\n",
              "      <td>74.000000</td>\n",
              "    </tr>\n",
              "    <tr>\n",
              "      <th>Kent Chambers</th>\n",
              "      <td>78</td>\n",
              "      <td>63</td>\n",
              "      <td>84</td>\n",
              "      <td>50</td>\n",
              "      <td>82</td>\n",
              "      <td>89</td>\n",
              "      <td>74.333333</td>\n",
              "    </tr>\n",
              "    <tr>\n",
              "      <th>Taylor Busi</th>\n",
              "      <td>86</td>\n",
              "      <td>56</td>\n",
              "      <td>80</td>\n",
              "      <td>91</td>\n",
              "      <td>68</td>\n",
              "      <td>69</td>\n",
              "      <td>75.000000</td>\n",
              "    </tr>\n",
              "    <tr>\n",
              "      <th>Christine Dyer</th>\n",
              "      <td>75</td>\n",
              "      <td>76</td>\n",
              "      <td>53</td>\n",
              "      <td>96</td>\n",
              "      <td>100</td>\n",
              "      <td>78</td>\n",
              "      <td>79.666667</td>\n",
              "    </tr>\n",
              "    <tr>\n",
              "      <th>Sandra Heller</th>\n",
              "      <td>91</td>\n",
              "      <td>61</td>\n",
              "      <td>85</td>\n",
              "      <td>97</td>\n",
              "      <td>57</td>\n",
              "      <td>96</td>\n",
              "      <td>81.166667</td>\n",
              "    </tr>\n",
              "  </tbody>\n",
              "</table>\n",
              "</div>\n",
              "      <button class=\"colab-df-convert\" onclick=\"convertToInteractive('df-3cd5897a-4a77-40fc-94ff-97fbe2a034d3')\"\n",
              "              title=\"Convert this dataframe to an interactive table.\"\n",
              "              style=\"display:none;\">\n",
              "        \n",
              "  <svg xmlns=\"http://www.w3.org/2000/svg\" height=\"24px\"viewBox=\"0 0 24 24\"\n",
              "       width=\"24px\">\n",
              "    <path d=\"M0 0h24v24H0V0z\" fill=\"none\"/>\n",
              "    <path d=\"M18.56 5.44l.94 2.06.94-2.06 2.06-.94-2.06-.94-.94-2.06-.94 2.06-2.06.94zm-11 1L8.5 8.5l.94-2.06 2.06-.94-2.06-.94L8.5 2.5l-.94 2.06-2.06.94zm10 10l.94 2.06.94-2.06 2.06-.94-2.06-.94-.94-2.06-.94 2.06-2.06.94z\"/><path d=\"M17.41 7.96l-1.37-1.37c-.4-.4-.92-.59-1.43-.59-.52 0-1.04.2-1.43.59L10.3 9.45l-7.72 7.72c-.78.78-.78 2.05 0 2.83L4 21.41c.39.39.9.59 1.41.59.51 0 1.02-.2 1.41-.59l7.78-7.78 2.81-2.81c.8-.78.8-2.07 0-2.86zM5.41 20L4 18.59l7.72-7.72 1.47 1.35L5.41 20z\"/>\n",
              "  </svg>\n",
              "      </button>\n",
              "      \n",
              "  <style>\n",
              "    .colab-df-container {\n",
              "      display:flex;\n",
              "      flex-wrap:wrap;\n",
              "      gap: 12px;\n",
              "    }\n",
              "\n",
              "    .colab-df-convert {\n",
              "      background-color: #E8F0FE;\n",
              "      border: none;\n",
              "      border-radius: 50%;\n",
              "      cursor: pointer;\n",
              "      display: none;\n",
              "      fill: #1967D2;\n",
              "      height: 32px;\n",
              "      padding: 0 0 0 0;\n",
              "      width: 32px;\n",
              "    }\n",
              "\n",
              "    .colab-df-convert:hover {\n",
              "      background-color: #E2EBFA;\n",
              "      box-shadow: 0px 1px 2px rgba(60, 64, 67, 0.3), 0px 1px 3px 1px rgba(60, 64, 67, 0.15);\n",
              "      fill: #174EA6;\n",
              "    }\n",
              "\n",
              "    [theme=dark] .colab-df-convert {\n",
              "      background-color: #3B4455;\n",
              "      fill: #D2E3FC;\n",
              "    }\n",
              "\n",
              "    [theme=dark] .colab-df-convert:hover {\n",
              "      background-color: #434B5C;\n",
              "      box-shadow: 0px 1px 3px 1px rgba(0, 0, 0, 0.15);\n",
              "      filter: drop-shadow(0px 1px 2px rgba(0, 0, 0, 0.3));\n",
              "      fill: #FFFFFF;\n",
              "    }\n",
              "  </style>\n",
              "\n",
              "      <script>\n",
              "        const buttonEl =\n",
              "          document.querySelector('#df-3cd5897a-4a77-40fc-94ff-97fbe2a034d3 button.colab-df-convert');\n",
              "        buttonEl.style.display =\n",
              "          google.colab.kernel.accessAllowed ? 'block' : 'none';\n",
              "\n",
              "        async function convertToInteractive(key) {\n",
              "          const element = document.querySelector('#df-3cd5897a-4a77-40fc-94ff-97fbe2a034d3');\n",
              "          const dataTable =\n",
              "            await google.colab.kernel.invokeFunction('convertToInteractive',\n",
              "                                                     [key], {});\n",
              "          if (!dataTable) return;\n",
              "\n",
              "          const docLinkHtml = 'Like what you see? Visit the ' +\n",
              "            '<a target=\"_blank\" href=https://colab.research.google.com/notebooks/data_table.ipynb>data table notebook</a>'\n",
              "            + ' to learn more about interactive tables.';\n",
              "          element.innerHTML = '';\n",
              "          dataTable['output_type'] = 'display_data';\n",
              "          await google.colab.output.renderOutput(dataTable, element);\n",
              "          const docLink = document.createElement('div');\n",
              "          docLink.innerHTML = docLinkHtml;\n",
              "          element.appendChild(docLink);\n",
              "        }\n",
              "      </script>\n",
              "    </div>\n",
              "  </div>\n",
              "  "
            ]
          },
          "metadata": {},
          "execution_count": 50
        }
      ]
    }
  ],
  "metadata": {
    "kernelspec": {
      "display_name": "fall22_601",
      "language": "python",
      "name": "fall22_601"
    },
    "language_info": {
      "codemirror_mode": {
        "name": "ipython",
        "version": 3
      },
      "file_extension": ".py",
      "mimetype": "text/x-python",
      "name": "python",
      "nbconvert_exporter": "python",
      "pygments_lexer": "ipython3",
      "version": "3.10.4"
    },
    "colab": {
      "provenance": [],
      "include_colab_link": true
    }
  },
  "nbformat": 4,
  "nbformat_minor": 5
}