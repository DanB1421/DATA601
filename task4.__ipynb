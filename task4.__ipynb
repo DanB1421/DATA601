{
  "nbformat": 4,
  "nbformat_minor": 0,
  "metadata": {
    "colab": {
      "provenance": [],
      "authorship_tag": "ABX9TyOHUws1xveQeym9Z4aSFSx4",
      "include_colab_link": true
    },
    "kernelspec": {
      "name": "python3",
      "display_name": "Python 3"
    },
    "language_info": {
      "name": "python"
    }
  },
  "cells": [
    {
      "cell_type": "markdown",
      "metadata": {
        "id": "view-in-github",
        "colab_type": "text"
      },
      "source": [
        "<a href=\"https://colab.research.google.com/github/DanB1421/DATA601/blob/main/task4.__ipynb\" target=\"_parent\"><img src=\"https://colab.research.google.com/assets/colab-badge.svg\" alt=\"Open In Colab\"/></a>"
      ]
    },
    {
      "cell_type": "code",
      "execution_count": null,
      "metadata": {
        "id": "pcjB1m461kxU"
      },
      "outputs": [],
      "source": [
        "import pandas as pd\n",
        "import matplotlib.pyplot as plt\n",
        "import numpy as np"
      ]
    },
    {
      "cell_type": "markdown",
      "source": [
        "The first step for this task is to create pandas dataframes from the previously obtained CSV files."
      ],
      "metadata": {
        "id": "3VR2Lqx7GQen"
      }
    },
    {
      "cell_type": "code",
      "source": [
        "df1_final = pd.read_csv('/content/df1_final.csv', index_col=0) # reads the cs.AI CSV from Task 1 and treats the first column as an index\n",
        "df2_final = pd.read_csv('/content/df2_final.csv', index_col=0) # reads the cs.LG CSV from Task 1 and treats the first column as an index\n",
        "df3_final = pd.read_csv('/content/df3_final.csv', index_col=0) # reads the cs.CC CSV from Task 1 and treats the first column as an index\n",
        "df4_final = pd.read_csv('/content/df4_final.csv', index_col=0) # reads the cs.AR CSV from Task 1 and treats the first column as an index"
      ],
      "metadata": {
        "id": "cXkXWQ_I16ob"
      },
      "execution_count": null,
      "outputs": []
    },
    {
      "cell_type": "markdown",
      "source": [
        "The second step for this task is to filter each data frame by year, count the number of papers (rows) each year contains using the shape function, and append the paper counts for each year to a list."
      ],
      "metadata": {
        "id": "UxmaRZAIK_Yb"
      }
    },
    {
      "cell_type": "code",
      "source": [
        "df1_data_list = [] # creates a list\n",
        "\n",
        "df1_filter_2017 = (df1_final['published'] >= '2017-01-01') & (df1_final['published'] < '2018-01-01') # creates a filter that only includes cs.AI papers published in 2017\n",
        "df1_2017 = df1_final.loc[df1_filter_2017] # applies filter to create new dataframe\n",
        "df1_data_list.append(df1_2017.shape[0]) # appends the number of entries for 2017 to df1_data_list\n",
        "\n",
        "df1_filter_2018 = (df1_final['published'] >= '2018-01-01') & (df1_final['published'] < '2019-01-01') # creates a filter that only includes cs.AI papers published in 2018\n",
        "df1_2018 = df1_final.loc[df1_filter_2018] # applies filter to create new dataframe\n",
        "df1_data_list.append(df1_2018.shape[0]) # appends the number of entries for 2018 to df1_data_list\n",
        "\n",
        "df1_filter_2019 = (df1_final['published'] >= '2019-01-01') & (df1_final['published'] < '2020-01-01') # creates a filter that only includes cs.AI papers published in 2019\n",
        "df1_2019 = df1_final.loc[df1_filter_2019] # applies filter to create new dataframe\n",
        "df1_data_list.append(df1_2019.shape[0]) # appends the number of entries for 2019 to df1_data_list\n",
        "\n",
        "df1_filter_2020 = (df1_final['published'] >= '2020-01-01') & (df1_final['published'] < '2021-01-01') # creates a filter that only includes cs.AI papers published in 2020\n",
        "df1_2020 = df1_final.loc[df1_filter_2020] # applies filter to create new dataframe\n",
        "df1_data_list.append(df1_2020.shape[0]) # appends the number of entries for 2020 to df1_data_list\n",
        "\n",
        "df1_filter_2021 = (df1_final['published'] >= '2021-01-01') & (df1_final['published'] < '2022-01-01') # creates a filter that only includes cs.AI papers published in 2021\n",
        "df1_2021 = df1_final.loc[df1_filter_2021] # applies filter to create new dataframe\n",
        "df1_data_list.append(df1_2021.shape[0]) # appends the number of entries for 2021 to df1_data_list\n",
        "\n",
        "print(df1_data_list) # shows the data in df1_data_list"
      ],
      "metadata": {
        "colab": {
          "base_uri": "https://localhost:8080/"
        },
        "id": "kn8zBk-T2dQs",
        "outputId": "4bf0ee9c-1fd5-44b9-b3b0-9c708630d79c"
      },
      "execution_count": null,
      "outputs": [
        {
          "output_type": "stream",
          "name": "stdout",
          "text": [
            "[1209, 1442, 1210, 1915, 2130]\n"
          ]
        }
      ]
    },
    {
      "cell_type": "code",
      "source": [
        "df2_data_list = [] # creates a list\n",
        "\n",
        "df2_filter_2017 = (df2_final['published'] >= '2017-01-01') & (df2_final['published'] < '2018-01-01') # creates a filter that only includes cs.LG papers published in 2017\n",
        "df2_2017 = df2_final.loc[df2_filter_2017] # applies filter to create new dataframe\n",
        "df2_data_list.append(df2_2017.shape[0]) # appends the number of entries for 2017 to df2_data_list\n",
        "\n",
        "df2_filter_2018 = (df2_final['published'] >= '2018-01-01') & (df2_final['published'] < '2019-01-01') # creates a filter that only includes cs.LG papers published in 2018\n",
        "df2_2018 = df2_final.loc[df2_filter_2018] # applies filter to create new dataframe\n",
        "df2_data_list.append(df2_2018.shape[0]) # appends the number of entries for 2018 to df2_data_list\n",
        "\n",
        "df2_filter_2019 = (df2_final['published'] >= '2019-01-01') & (df2_final['published'] < '2020-01-01') # creates a filter that only includes cs.LG papers published in 2019\n",
        "df2_2019 = df2_final.loc[df2_filter_2019] # applies filter to create new dataframe\n",
        "df2_data_list.append(df2_2019.shape[0]) # appends the number of entries for 2019 to df2_data_list\n",
        "\n",
        "df2_filter_2020 = (df2_final['published'] >= '2020-01-01') & (df2_final['published'] < '2021-01-01') # creates a filter that only includes cs.LG papers published in 2020\n",
        "df2_2020 = df2_final.loc[df2_filter_2020] # applies filter to create new dataframe\n",
        "df2_data_list.append(df2_2020.shape[0]) # appends the number of entries for 2020 to df2_data_list\n",
        "\n",
        "df2_filter_2021 = (df2_final['published'] >= '2021-01-01') & (df2_final['published'] < '2022-01-01') # creates a filter that only includes cs.LG papers published in 2021\n",
        "df2_2021 = df2_final.loc[df2_filter_2021] # applies filter to create new dataframe\n",
        "df2_data_list.append(df2_2021.shape[0]) # appends the number of entries for 2021 to df2_data_list\n",
        "\n",
        "print(df2_data_list) # shows the data in df2_data_list"
      ],
      "metadata": {
        "colab": {
          "base_uri": "https://localhost:8080/"
        },
        "id": "XqlgJyf48QX_",
        "outputId": "213cc837-e7be-4bd7-b3d5-2ce440cebb50"
      },
      "execution_count": null,
      "outputs": [
        {
          "output_type": "stream",
          "name": "stdout",
          "text": [
            "[2255, 4498, 8409, 7824, 8036]\n"
          ]
        }
      ]
    },
    {
      "cell_type": "code",
      "source": [
        "df3_data_list = [] # creates a list\n",
        "\n",
        "df3_filter_2017 = (df3_final['published'] >= '2017-01-01') & (df3_final['published'] < '2018-01-01') # creates a filter that only includes cs.CC papers published in 2017\n",
        "df3_2017 = df3_final.loc[df3_filter_2017] # applies filter to create new dataframe\n",
        "df3_data_list.append(df3_2017.shape[0]) # appends the number of entries for 2017 to df3_data_list\n",
        "\n",
        "df3_filter_2018 = (df3_final['published'] >= '2018-01-01') & (df3_final['published'] < '2019-01-01') # creates a filter that only includes cs.CC papers published in 2018\n",
        "df3_2018 = df3_final.loc[df3_filter_2018] # applies filter to create new dataframe\n",
        "df3_data_list.append(df3_2018.shape[0]) # appends the number of entries for 2018 to df3_data_list\n",
        "\n",
        "df3_filter_2019 = (df3_final['published'] >= '2019-01-01') & (df3_final['published'] < '2020-01-01') # creates a filter that only includes cs.CC papers published in 2019\n",
        "df3_2019 = df3_final.loc[df3_filter_2019] # applies filter to create new dataframe\n",
        "df3_data_list.append(df3_2019.shape[0]) # appends the number of entries for 2019 to df3_data_list\n",
        "\n",
        "df3_filter_2020 = (df3_final['published'] >= '2020-01-01') & (df3_final['published'] < '2021-01-01') # creates a filter that only includes cs.CC papers published in 2020\n",
        "df3_2020 = df3_final.loc[df3_filter_2020] # applies filter to create new dataframe\n",
        "df3_data_list.append(df3_2020.shape[0]) # appends the number of entries for 2020 to df3_data_list\n",
        "\n",
        "df3_filter_2021 = (df3_final['published'] >= '2021-01-01') & (df3_final['published'] < '2022-01-01') # creates a filter that only includes cs.CC papers published in 2021\n",
        "df3_2021 = df3_final.loc[df3_filter_2021] # applies filter to create new dataframe\n",
        "df3_data_list.append(df3_2021.shape[0]) # appends the number of entries for 2021 to df3_data_list\n",
        "\n",
        "print(df3_data_list) # shows the data in df3_data_list"
      ],
      "metadata": {
        "colab": {
          "base_uri": "https://localhost:8080/"
        },
        "id": "3KyHBfAAAK0N",
        "outputId": "b1bfa43c-ca29-4ff4-bf40-cac2c96a6fce"
      },
      "execution_count": null,
      "outputs": [
        {
          "output_type": "stream",
          "name": "stdout",
          "text": [
            "[311, 283, 326, 342, 322]\n"
          ]
        }
      ]
    },
    {
      "cell_type": "code",
      "source": [
        "df4_data_list = [] # creates a list\n",
        "\n",
        "df4_filter_2017 = (df4_final['published'] >= '2017-01-01') & (df4_final['published'] < '2018-01-01') # creates a filter that only includes cs.AR papers published in 2017\n",
        "df4_2017 = df4_final.loc[df4_filter_2017] # applies filter to create new dataframe\n",
        "df4_data_list.append(df4_2017.shape[0]) # appends the number of entries for 2017 to df4_data_list\n",
        "\n",
        "df4_filter_2018 = (df4_final['published'] >= '2018-01-01') & (df4_final['published'] < '2019-01-01') # creates a filter that only includes cs.AR papers published in 2018\n",
        "df4_2018 = df4_final.loc[df4_filter_2018] # applies filter to create new dataframe\n",
        "df4_data_list.append(df4_2018.shape[0]) # appends the number of entries for 2018 to df4_data_list\n",
        "\n",
        "df4_filter_2019 = (df4_final['published'] >= '2019-01-01') & (df4_final['published'] < '2020-01-01') # creates a filter that only includes cs.AR papers published in 2019\n",
        "df4_2019 = df4_final.loc[df4_filter_2019] # applies filter to create new dataframe\n",
        "df4_data_list.append(df4_2019.shape[0]) # appends the number of entries for 2019 to df4_data_list\n",
        "\n",
        "df4_filter_2020 = (df4_final['published'] >= '2020-01-01') & (df4_final['published'] < '2021-01-01') # creates a filter that only includes cs.AR papers published in 2020\n",
        "df4_2020 = df4_final.loc[df4_filter_2020] # applies filter to create new dataframe\n",
        "df4_data_list.append(df4_2020.shape[0]) # appends the number of entries for 2020 to df4_data_list\n",
        "\n",
        "df4_filter_2021 = (df4_final['published'] >= '2021-01-01') & (df4_final['published'] < '2022-01-01') # creates a filter that only includes cs.AR papers published in 2021\n",
        "df4_2021 = df4_final.loc[df4_filter_2021] # applies filter to create new dataframe\n",
        "df4_data_list.append(df4_2021.shape[0]) # appends the number of entries for 2021 to df4_data_list\n",
        "\n",
        "print(df4_data_list) # shows the data in df4_data_list"
      ],
      "metadata": {
        "colab": {
          "base_uri": "https://localhost:8080/"
        },
        "id": "-EyAKFMqBkb3",
        "outputId": "008f8e6a-9dab-44cb-c058-2bada4462733"
      },
      "execution_count": null,
      "outputs": [
        {
          "output_type": "stream",
          "name": "stdout",
          "text": [
            "[127, 122, 136, 310, 387]\n"
          ]
        }
      ]
    },
    {
      "cell_type": "markdown",
      "source": [
        "The final step of this task is to create a labeled bar graph with the paper counts from each data frame, organized by year and labeled by primary category."
      ],
      "metadata": {
        "id": "D_9M7GBBLVuD"
      }
    },
    {
      "cell_type": "code",
      "source": [
        "year_labels = [2017, 2018, 2019, 2020, 2021] # creates years labels for the bar graph\n",
        "fig, ax = plt.subplots() # creates a plot that can be made from multiple elements\n",
        "\n",
        "x = np.arange(len(year_labels)) # creates evenly spaced values with the interval given by the amount of elements in year_labels\n",
        "width = 0.20 # value used for bar graph spacing\n",
        "\n",
        "\n",
        "ax.bar(x - (1.5*width), df1_data_list, width, label=\"cs.AI\") # creates first bar for each year with cs.AI values\n",
        "ax.bar(x - width/2, df2_data_list, width, label=\"cs.LG\") # creates second bar for each year with cs.LG values\n",
        "ax.bar(x + width/2, df3_data_list, width, label=\"cs.CC\") # creates third bar for each year with cs.CC values\n",
        "ax.bar(x + (1.5*width), df4_data_list, width, label=\"cs.AR\") # creates fourth bar for each year with cs.AR values\n",
        "\n",
        "ax.set_ylabel('Number of papers') # labels the y axis with \"Number of papers\"\n",
        "ax.set_title('Papers per Year by Primary Category') # titles the bar graph 'Papers per Year by Primary Category'\n",
        "plt.ylim(0,9000) # sets the y axis range between 0 and 9000\n",
        "\n",
        "ax.set_xticks(x) # creates ticks from x interval\n",
        "ax.set_xticklabels(year_labels) # labels x axis with year_labels\n",
        "ax.legend(loc=\"upper left\") # creates a legend in the upper left corner\n",
        "plt.show() # displays bar graph"
      ],
      "metadata": {
        "colab": {
          "base_uri": "https://localhost:8080/",
          "height": 281
        },
        "id": "y97Aax5WChpk",
        "outputId": "7e143253-a585-45ea-e75e-fd585bb5a3da"
      },
      "execution_count": null,
      "outputs": [
        {
          "output_type": "display_data",
          "data": {
            "text/plain": [
              "<Figure size 432x288 with 1 Axes>"
            ],
            "image/png": "[encoded data removed]"
          },
          "metadata": {
            "needs_background": "light"
          }
        }
      ]
    }
  ]
}