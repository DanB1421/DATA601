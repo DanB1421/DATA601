{
  "cells": [
    {
      "cell_type": "markdown",
      "metadata": {
        "id": "view-in-github",
        "colab_type": "text"
      },
      "source": [
        "<a href=\"https://colab.research.google.com/github/DanB1421/DATA601/blob/main/Brilliant_Hw_2.ipynb\" target=\"_parent\"><img src=\"https://colab.research.google.com/assets/colab-badge.svg\" alt=\"Open In Colab\"/></a>"
      ]
    },
    {
      "cell_type": "markdown",
      "id": "96111c09",
      "metadata": {
        "id": "96111c09"
      },
      "source": [
        "## DATA 601 - Fall 2022\n",
        "### Homework Assignment 2\n",
        "Total points : (30 + 10)<br>\n",
        " Please provide your solutions into the cells provided after question cells. You can create new cells as needed. <br>\n",
        " <b>Do not</b> use numpy, scipy, pandas or sympy packages."
      ]
    },
    {
      "cell_type": "markdown",
      "id": "5b920595",
      "metadata": {
        "id": "5b920595"
      },
      "source": [
        "<b>Question 1:</b> [<span style=\"color: red;\">5 points</span>] The formula for Gravitational force is $F = \\frac{Gm_{1}m_{2}}{r^2}$, where $G = 6.6743 \\times 10^{-11} m^{3} kg^{-1} s^{-2}$.<br>\n",
        "Write a function that takes $m_1$ (mass of body 1), $m_2$ (mass of body 2) and $r$ (radius) as arguments; and returns the Gravitational force. Then compute and print out the gravitational force for the following data."
      ]
    },
    {
      "cell_type": "code",
      "execution_count": null,
      "id": "4536b2ab",
      "metadata": {
        "id": "4536b2ab"
      },
      "outputs": [],
      "source": [
        "m1 = 5  #in kilograms (kg)\n",
        "m2 = 10 #kg\n",
        "r = 2 # meters"
      ]
    },
    {
      "cell_type": "code",
      "execution_count": null,
      "id": "0aa870df",
      "metadata": {
        "colab": {
          "base_uri": "https://localhost:8080/"
        },
        "id": "0aa870df",
        "outputId": "e3e8befd-1956-435b-8eb0-a11dccf0ec11"
      },
      "outputs": [
        {
          "output_type": "execute_result",
          "data": {
            "text/plain": [
              "8.342874999999999e-10"
            ]
          },
          "metadata": {},
          "execution_count": 180
        }
      ],
      "source": [
        "#Your answers go here\n",
        "def grav_force(m1, m2, r): # defines function using variable arguments m1, m2, and r\n",
        "    G = 6.6743e-11 # includes G constant as part of function\n",
        "    return (G*m1*m2)/(r*r) # defines mathematical equation that solves for gravitational force\n",
        "\n",
        "answer = grav_force(m1, m2, r)\n",
        "\n",
        "answer"
      ]
    },
    {
      "cell_type": "markdown",
      "id": "82de6398",
      "metadata": {
        "id": "82de6398"
      },
      "source": [
        "<b>Question 2:</b> [<span style=\"color: red;\">5 points</span>] Write a function prep\\_vec\\_mat with only \\*\\*kwargs: prep_vec_mat(\\*\\*details). This function will return a list-based vector of the desired length or a list-based matrix of the desired dimensions (with all values being zero). The rules are as follows: <br>\n",
        "- The argument vartype can be either 'int' or 'float' for producing integer (0) or float (0.0) values respectively. If vartype is not provided the values in the vector (or matrix) should be int.\n",
        "-If I want to create a vector of a particular length (say 3) : [0,0,0]. I will call prep_vec_mat(n=3).\n",
        " - For floats [0.0,0.0,0.0], I will call prep_vec_mat(n=3,vartype='float')\n",
        "- If I want to create a matrix of dimensions 2 rows and 3 columns :[[0,0,0],[0,0,0]]. I will  call prep_vec_mat(m=2, n=3).\n",
        " - For floats [[0.0,0.0,0.0],[0.0,0.0,0.0]], I will call prep_vec_mat(m=2,n=3,vartype='float')\n",
        "\n",
        "After creating the function, use it to prepare :\n",
        "- a length 4 vector of ints zeros\n",
        "- a 5 x 2 (5 rows 2 columns) matrix of floats zeros"
      ]
    },
    {
      "cell_type": "code",
      "execution_count": null,
      "id": "a07e9ba7",
      "metadata": {
        "id": "a07e9ba7"
      },
      "outputs": [],
      "source": [
        "#Your answers go here\n",
        "def prep_vec_mat(**details):\n",
        "    matflag = False\n",
        "\n",
        "    if 'vartype' in details:\n",
        "        vartype = details[\"vartype\"]\n",
        "    else:\n",
        "        vartype = 'int'\n",
        "\n",
        "    if 'n' in details :\n",
        "        n = int(details[\"n\"]) # defines matrix columns and vector length by n\n",
        "        if 'm' in details:\n",
        "            m = int(details[\"m\"])\n",
        "            matflag = True\n",
        "\n",
        "    matrix = []\n",
        "    if matflag == True:\n",
        "        for i in range(0, m):\n",
        "            rows = []\n",
        "            for j in range(n):\n",
        "                if vartype == 'float':\n",
        "                    rows.append(float(0))\n",
        "                else:\n",
        "                    rows.append(0)\n",
        "            matrix.append(rows)\n",
        "        return matrix\n",
        "\n",
        "    else:\n",
        "        vector = []\n",
        "        if vartype == 'float':\n",
        "            for i in range(n):\n",
        "                vector.append(float(0))\n",
        "        else:\n",
        "            for i in range(n):\n",
        "                vector.append(0)\n",
        "        return vector\n",
        "\n",
        "\n",
        "# assistance for function found here: https://stackoverflow.com/questions/48046962/how-to-make-two-dimensional-list-in-python-without-numpy\n"
      ]
    },
    {
      "cell_type": "code",
      "source": [
        "prep_vec_mat(n=4)"
      ],
      "metadata": {
        "colab": {
          "base_uri": "https://localhost:8080/"
        },
        "id": "2rCJ_pKnGGI2",
        "outputId": "589efe88-e937-475f-f6ef-75d49aaa7aa6"
      },
      "id": "2rCJ_pKnGGI2",
      "execution_count": null,
      "outputs": [
        {
          "output_type": "execute_result",
          "data": {
            "text/plain": [
              "[0, 0, 0, 0]"
            ]
          },
          "metadata": {},
          "execution_count": 183
        }
      ]
    },
    {
      "cell_type": "code",
      "source": [
        "prep_vec_mat(m=5,n=2,vartype='float')"
      ],
      "metadata": {
        "colab": {
          "base_uri": "https://localhost:8080/"
        },
        "id": "k0NM1xlqCme4",
        "outputId": "850db3a0-d1db-43d2-e19a-000494386ecd"
      },
      "id": "k0NM1xlqCme4",
      "execution_count": null,
      "outputs": [
        {
          "output_type": "execute_result",
          "data": {
            "text/plain": [
              "[[0.0, 0.0], [0.0, 0.0], [0.0, 0.0], [0.0, 0.0], [0.0, 0.0]]"
            ]
          },
          "metadata": {},
          "execution_count": 184
        }
      ]
    },
    {
      "cell_type": "markdown",
      "id": "75b629ab",
      "metadata": {
        "id": "75b629ab"
      },
      "source": [
        "<b>Question 3:</b> [<span style=\"color: red;\">5 points</span>] Write a recursive function that calculates the dot product of two list vectors. Use it for calculating the dot product $x.y$, where x and y are:"
      ]
    },
    {
      "cell_type": "code",
      "execution_count": null,
      "id": "bfce23f7",
      "metadata": {
        "id": "bfce23f7"
      },
      "outputs": [],
      "source": [
        "x = [1,2,3]\n",
        "y = [-6,2,3]"
      ]
    },
    {
      "cell_type": "code",
      "execution_count": null,
      "id": "67a6644a",
      "metadata": {
        "colab": {
          "base_uri": "https://localhost:8080/"
        },
        "id": "67a6644a",
        "outputId": "2fa325c6-d034-4cf8-b72c-d6226ce1359d"
      },
      "outputs": [
        {
          "output_type": "execute_result",
          "data": {
            "text/plain": [
              "7"
            ]
          },
          "metadata": {},
          "execution_count": 186
        }
      ],
      "source": [
        "#Your answers go here\n",
        "def dot_prod(x, y, i=0):\n",
        "    if len(x) == i:\n",
        "        return 0 # defines dot products as 0 for vectors of different lengths\n",
        "    else:\n",
        "        return x[i]*y[i]+dot_prod(x, y, i+1) # defines the dot product operation for vectors of the same length\n",
        "\n",
        "dot_prod(x,y)"
      ]
    },
    {
      "cell_type": "markdown",
      "id": "a8f9c431",
      "metadata": {
        "id": "a8f9c431"
      },
      "source": [
        "<b>Question 4:</b> [<span style=\"color: red;\">5 points</span>]  Given two Matrices that are compatible for multiplication: $A$ and $B$, write a recursive function matprod_helper such that it we can call it to assist in the matrix multiplication. Consider the following data:"
      ]
    },
    {
      "cell_type": "code",
      "execution_count": null,
      "id": "16af1c57",
      "metadata": {
        "id": "16af1c57"
      },
      "outputs": [],
      "source": [
        "A = [[3,5,-1],[4,5,0]]\n",
        "B = [[6,5],[-3,10],[2,1]]\n",
        "row_A = 2\n",
        "col_A = 3\n",
        "row_B = 3\n",
        "col_B = 2\n",
        "\n",
        "C = prep_vec_mat(m=row_A,n=col_B,vartype='float') #<------Use prep_vect_mat from the question before"
      ]
    },
    {
      "cell_type": "markdown",
      "id": "ba1f5f89",
      "metadata": {
        "id": "ba1f5f89"
      },
      "source": [
        "Write the recursive matprod_helper function, let the variables like row_A, col_A ... col_B  be considered as global. This function is going to assist in the dot product calculation for each column-row operation and be used in a way as written in the cell below the answer cell. <br>\n",
        "The arguments this function would take are the matrices A and B, the indicies i,j and k. (look at the cell with the heading \\#CELL : POST DEFINITION)"
      ]
    },
    {
      "cell_type": "code",
      "execution_count": null,
      "id": "e5a3e77c",
      "metadata": {
        "id": "e5a3e77c"
      },
      "outputs": [],
      "source": [
        "#Your matprod_helper goes here\n",
        "def matprod_helper(A, B, i, j, k=0):\n",
        "    if k == col_B + 1:\n",
        "        return 0\n",
        "    else:\n",
        "        return (A[i][k]*B[k][j])+matprod_helper(A, B, i, j, k+1) # function allows for products of each matrix to be correct"
      ]
    },
    {
      "cell_type": "markdown",
      "id": "b6c32753",
      "metadata": {
        "id": "b6c32753"
      },
      "source": [
        "Now that you have prepared matprod\\_helper, run the cell below to get the answer C"
      ]
    },
    {
      "cell_type": "code",
      "execution_count": null,
      "id": "030efbf4",
      "metadata": {
        "colab": {
          "base_uri": "https://localhost:8080/"
        },
        "id": "030efbf4",
        "outputId": "cd710412-505f-4911-ac21-b0c7bcfe9f7a"
      },
      "outputs": [
        {
          "output_type": "stream",
          "name": "stdout",
          "text": [
            "The resultant matrix is: [[1, 64], [9, 70]]\n"
          ]
        }
      ],
      "source": [
        "#CELL : POST DEFINITION\n",
        "#This cell should be run AFTER you have defined matprod_helper in the previous cell(s)\n",
        "k = 0\n",
        "for i in range(row_A):\n",
        "    for j in range(col_B):\n",
        "        C[i][j] = matprod_helper(A,B,i,j,k)\n",
        "print(\"The resultant matrix is:\",C)"
      ]
    },
    {
      "cell_type": "markdown",
      "id": "17bc86ba",
      "metadata": {
        "id": "17bc86ba"
      },
      "source": [
        "<b>Question 5:</b> [<span style=\"color: red;\">10 points</span>]  Read the information below first :\n",
        "\n",
        "Consider the following format to define a monomial: [-3,('x','y','z'),(2,1,1)] $= -3x^2yz$.<br>\n",
        "where the first element of the list is the coefficient of the monomial, the next element is a tuple that has all the variables involved in the monomial and the next element is a tuple that has the degrees of all of the respective variables. <br>\n",
        "Eg: [5,('x','y'),(1,2)] $= 5xy^2$ , [4,('x'),(3)] $= 4x^3$ <br>\n",
        "\n",
        "Therefore, a polynomial will be a list of such monomials,\n",
        "Eg: [[2,('x'),(2)], [-4,('x','y'),(1,2)],[33,('x','y','z'),(2,2,1)]] $= 2x^2 - 4xy^2 + 33x^2y^2z$\n",
        "\n",
        "---\n",
        "### Task:\n",
        "- Create a class called Polynomial. When an object of this class is created it should accept a polynomial as defined by the format above.\n",
        "- The class should contain a method called eval_poly where you will provide values for all of the variables invoved in the polynomail in a dictionary format. E.g: {x: 2,y:-3,z:4}<br>\n",
        "Use the class to make an object poly1 with polyinfo (defined down below)  and evaluate it with the values stored in var\\_vals. In this case,: [[2,('x'),(2)], [-4,('x','y'),(1,2)],[33,('x','y','z'),(2,2,1)]] with  {x: 2,y:-3,z:4} will evaluate to $2(2)^2 - 4(2)(-3)^2 + 33(2)^2(-3)^2(4) = 4688$.\n"
      ]
    },
    {
      "cell_type": "code",
      "execution_count": null,
      "id": "fc03088b",
      "metadata": {
        "id": "fc03088b"
      },
      "outputs": [],
      "source": [
        "polyinfo = [[2,('x'),(2)], [-4,('x','y'),(1,2)],[33,('x','y','z'),(2,2,1)]]\n",
        "var_vals = {'x':2,'y':-3,'z':4}\n",
        "\n",
        "#Your answers go below this line\n",
        "class Polynomial:\n",
        "    def __init__(self,polyinfo):\n",
        "        self.polyinfo = polyinfo\n",
        "    def eval_poly(self,var_vals):\n",
        "\n",
        "        eval_sum = 0.0 #variable that will contain the total sum\n",
        "        for monomial in self.polyinfo:\n",
        "            temp_eval = 1.0 #variable that contains the evaluation of the current monomial\n",
        "            temp_eval *= monomial[0] #multiply the coefficient\n",
        "            #casting monomial[1] and [2] as lists, this is because tuples with 1 value can be interpreted as scalars\n",
        "            #I can probably do the thing below in a cleaner way using isinstance\n",
        "            if 'str' in str(type(monomial[1])): #Tuple with one element defaults to that elements type, in this case : a string\n",
        "                var_list = list([monomial[1]])\n",
        "                exp_list = list([monomial[2]])\n",
        "            else: # Treat as regular tuple, convert to list\n",
        "                var_list = list(monomial[1])\n",
        "                exp_list = list(monomial[2])\n",
        "            #iterating on var_List. good thing here is that monomial[1] and [2] have the same length\n",
        "            for i in range(0,len(var_list)):\n",
        "                temp_eval *= var_vals[var_list[i]] ** exp_list[i] #multiply temp_eval to the variable value (to the power of exp)\n",
        "            eval_sum += temp_eval #add the evaluation of the monomial to the total sum\n",
        "        return eval_sum #return final value\n"
      ]
    },
    {
      "cell_type": "code",
      "source": [
        "poly1 = Polynomial(polyinfo)\n",
        "\n",
        "poly1.eval_poly(var_vals)"
      ],
      "metadata": {
        "colab": {
          "base_uri": "https://localhost:8080/"
        },
        "id": "KTdp5f8ws0lj",
        "outputId": "f762c926-d91f-4ac5-a65a-20dcda2d0ffb"
      },
      "id": "KTdp5f8ws0lj",
      "execution_count": null,
      "outputs": [
        {
          "output_type": "execute_result",
          "data": {
            "text/plain": [
              "4688.0"
            ]
          },
          "metadata": {},
          "execution_count": 11
        }
      ]
    },
    {
      "cell_type": "markdown",
      "id": "bd14c808",
      "metadata": {
        "id": "bd14c808"
      },
      "source": [
        "[BONUS QUESTION] <b>Question 5(a):</b> [<span style=\"color: red;\">10 points</span>] Make a class Quadratic\\_Eq that inherits from Polynomial class. This class will specifically take single variable quadratic polynomials, and will use the same constructor and eval_poly functions of the Polynomial class. But will have an additional function : solve_quad. that will return the solutions to the quadratic equation (refer to the notebook in lect5).\n",
        "\n",
        "After making the class solve the quadratic expression given in quadinfo, then use the solution values returned by solve_quad to evaluate the quadratic expression with eval_poly. Print out all results"
      ]
    },
    {
      "cell_type": "code",
      "execution_count": null,
      "id": "8a949d33",
      "metadata": {
        "id": "8a949d33"
      },
      "outputs": [],
      "source": [
        "from cmath import sqrt\n",
        "\n",
        "quad_info = [1,('x'),(2)],[-7,('x'),(1)],[12,('x'),(0)] # x^2 -7x +12\n",
        "\n",
        "#Your answers go below this line\n",
        "class Quadratic_Eq(Polynomial): #inherits the init and eval_poly from Polynomail\n",
        "    def solve_quad(self):\n",
        "        #Here I am assuming that the polynomial we have taken in is quadratic.\n",
        "        #Thus, I just need to check the coefficients wrt the power a for x^2, b for x, and c for constant\n",
        "        for monomial in self.polyinfo:\n",
        "            if monomial[2] == 2:\n",
        "                a = float(monomial[0])\n",
        "            elif monomial[2] == 1:\n",
        "                b = float(monomial[0])\n",
        "            else:\n",
        "                c = float(monomial[0])\n",
        "\n",
        "        #Now after the loop above is done, we have all of the information to solve the quadratic exp\n",
        "        d = b*b - 4*a*c\n",
        "        if d > 0.0:\n",
        "            soln_type = \"Real\"\n",
        "            x1 = (-b+sqrt(d))/2.0/a\n",
        "            x2 = (-b-sqrt(d))/2.0/a\n",
        "            print(\"Solution1 = \", x1)\n",
        "            print(\"Solution2 = \", x2)\n",
        "        elif b == 0.0:\n",
        "            soln_type = \"Imaginary\"\n",
        "            x1 = (-b+sqrt(d))/2.0/a\n",
        "            x2 = (-b-sqrt(d))/2.0/a\n",
        "        else:\n",
        "            soln_type = \"Complex\"\n",
        "            x1 = (-b+sqrt(d))/2.0/a\n",
        "            x2 = (-b-sqrt(d))/2.0/a\n",
        "\n",
        "            return x1,x2,soln_type\n",
        "        return x1,x2,soln_type\n"
      ]
    },
    {
      "cell_type": "code",
      "source": [
        "quad = Quadratic_Eq(quad_info)"
      ],
      "metadata": {
        "id": "u4cI_qrTpKHJ"
      },
      "id": "u4cI_qrTpKHJ",
      "execution_count": null,
      "outputs": []
    },
    {
      "cell_type": "code",
      "source": [
        "x1,x2,_ = quad.solve_quad()"
      ],
      "metadata": {
        "colab": {
          "base_uri": "https://localhost:8080/"
        },
        "id": "HxcT4QCxpLny",
        "outputId": "e9a9b154-89df-4545-ae29-628784d80e69"
      },
      "id": "HxcT4QCxpLny",
      "execution_count": null,
      "outputs": [
        {
          "output_type": "stream",
          "name": "stdout",
          "text": [
            "Solution1 =  (4+0j)\n",
            "Solution2 =  (3+0j)\n"
          ]
        }
      ]
    },
    {
      "cell_type": "code",
      "source": [
        "quad.eval_poly({'x':x1.real})"
      ],
      "metadata": {
        "colab": {
          "base_uri": "https://localhost:8080/"
        },
        "id": "eleyRM-FpOfp",
        "outputId": "1e3d05be-8406-4ae6-fbef-d8cbc3f01829"
      },
      "id": "eleyRM-FpOfp",
      "execution_count": null,
      "outputs": [
        {
          "output_type": "execute_result",
          "data": {
            "text/plain": [
              "0.0"
            ]
          },
          "metadata": {},
          "execution_count": 17
        }
      ]
    },
    {
      "cell_type": "code",
      "source": [
        "quad.eval_poly({'x':x2.real})"
      ],
      "metadata": {
        "colab": {
          "base_uri": "https://localhost:8080/"
        },
        "id": "lj9yM7NGpPe6",
        "outputId": "d51318d1-d597-4843-96c6-98c37b993da1"
      },
      "id": "lj9yM7NGpPe6",
      "execution_count": null,
      "outputs": [
        {
          "output_type": "execute_result",
          "data": {
            "text/plain": [
              "0.0"
            ]
          },
          "metadata": {},
          "execution_count": 18
        }
      ]
    }
  ],
  "metadata": {
    "kernelspec": {
      "display_name": "fall22_601",
      "language": "python",
      "name": "fall22_601"
    },
    "language_info": {
      "codemirror_mode": {
        "name": "ipython",
        "version": 3
      },
      "file_extension": ".py",
      "mimetype": "text/x-python",
      "name": "python",
      "nbconvert_exporter": "python",
      "pygments_lexer": "ipython3",
      "version": "3.10.4"
    },
    "colab": {
      "provenance": [],
      "include_colab_link": true
    }
  },
  "nbformat": 4,
  "nbformat_minor": 5
}